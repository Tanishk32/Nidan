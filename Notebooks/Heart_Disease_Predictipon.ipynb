{
  "cells": [
    {
      "cell_type": "markdown",
      "metadata": {
        "id": "PK4vD_9W_Gck"
      },
      "source": [
        "# Predicting Heart Disease"
      ]
    },
    {
      "cell_type": "markdown",
      "metadata": {
        "id": "JCJQlzWk_Gcm"
      },
      "source": [
        "## Preparing Tool"
      ]
    },
    {
      "cell_type": "code",
      "execution_count": null,
      "metadata": {
        "id": "lci1t3hg_Gcn"
      },
      "outputs": [],
      "source": [
        "# Import all the Tools\n",
        "\n",
        "#Regular EDA(Exploratory Data Analysis) & Plotting Libraries\n",
        "import numpy as np\n",
        "import pandas as pd\n",
        "import matplotlib.pyplot as plt\n",
        "import seaborn as sns\n",
        "\n",
        "%matplotlib inline\n",
        "\n",
        "#Models from scikit learn\n",
        "from sklearn.linear_model import LogisticRegression\n",
        "from sklearn.neighbors import KNeighborsClassifier\n",
        "from sklearn.ensemble import RandomForestClassifier\n",
        "\n",
        "#Model Evalution\n",
        "from sklearn.model_selection import train_test_split, cross_val_score\n",
        "from sklearn.model_selection import RandomizedSearchCV, GridSearchCV\n",
        "from sklearn.metrics import confusion_matrix, classification_report\n",
        "from sklearn.metrics import precision_score, recall_score\n",
        "from sklearn.metrics import f1_score, plot_roc_curve"
      ]
    },
    {
      "cell_type": "markdown",
      "metadata": {
        "id": "fs3YW4nU_Gco"
      },
      "source": [
        "## Load Data"
      ]
    },
    {
      "cell_type": "code",
      "execution_count": null,
      "metadata": {
        "id": "V9kzBveY_Gco",
        "outputId": "66a1127b-f862-4374-d51e-c1f616039f75",
        "colab": {
          "base_uri": "https://localhost:8080/",
          "height": 328
        }
      },
      "outputs": [
        {
          "output_type": "error",
          "ename": "FileNotFoundError",
          "evalue": "ignored",
          "traceback": [
            "\u001b[0;31m---------------------------------------------------------------------------\u001b[0m",
            "\u001b[0;31mFileNotFoundError\u001b[0m                         Traceback (most recent call last)",
            "\u001b[0;32m<ipython-input-2-61a2e36d07dc>\u001b[0m in \u001b[0;36m<module>\u001b[0;34m\u001b[0m\n\u001b[0;32m----> 1\u001b[0;31m \u001b[0mdf\u001b[0m \u001b[0;34m=\u001b[0m \u001b[0mpd\u001b[0m\u001b[0;34m.\u001b[0m\u001b[0mread_csv\u001b[0m\u001b[0;34m(\u001b[0m\u001b[0;34m\"heart-disease.csv\"\u001b[0m\u001b[0;34m)\u001b[0m\u001b[0;34m\u001b[0m\u001b[0;34m\u001b[0m\u001b[0m\n\u001b[0m\u001b[1;32m      2\u001b[0m \u001b[0mdf\u001b[0m\u001b[0;34m\u001b[0m\u001b[0;34m\u001b[0m\u001b[0m\n",
            "\u001b[0;32m/usr/local/lib/python3.7/dist-packages/pandas/util/_decorators.py\u001b[0m in \u001b[0;36mwrapper\u001b[0;34m(*args, **kwargs)\u001b[0m\n\u001b[1;32m    309\u001b[0m                     \u001b[0mstacklevel\u001b[0m\u001b[0;34m=\u001b[0m\u001b[0mstacklevel\u001b[0m\u001b[0;34m,\u001b[0m\u001b[0;34m\u001b[0m\u001b[0;34m\u001b[0m\u001b[0m\n\u001b[1;32m    310\u001b[0m                 )\n\u001b[0;32m--> 311\u001b[0;31m             \u001b[0;32mreturn\u001b[0m \u001b[0mfunc\u001b[0m\u001b[0;34m(\u001b[0m\u001b[0;34m*\u001b[0m\u001b[0margs\u001b[0m\u001b[0;34m,\u001b[0m \u001b[0;34m**\u001b[0m\u001b[0mkwargs\u001b[0m\u001b[0;34m)\u001b[0m\u001b[0;34m\u001b[0m\u001b[0;34m\u001b[0m\u001b[0m\n\u001b[0m\u001b[1;32m    312\u001b[0m \u001b[0;34m\u001b[0m\u001b[0m\n\u001b[1;32m    313\u001b[0m         \u001b[0;32mreturn\u001b[0m \u001b[0mwrapper\u001b[0m\u001b[0;34m\u001b[0m\u001b[0;34m\u001b[0m\u001b[0m\n",
            "\u001b[0;32m/usr/local/lib/python3.7/dist-packages/pandas/io/parsers/readers.py\u001b[0m in \u001b[0;36mread_csv\u001b[0;34m(filepath_or_buffer, sep, delimiter, header, names, index_col, usecols, squeeze, prefix, mangle_dupe_cols, dtype, engine, converters, true_values, false_values, skipinitialspace, skiprows, skipfooter, nrows, na_values, keep_default_na, na_filter, verbose, skip_blank_lines, parse_dates, infer_datetime_format, keep_date_col, date_parser, dayfirst, cache_dates, iterator, chunksize, compression, thousands, decimal, lineterminator, quotechar, quoting, doublequote, escapechar, comment, encoding, encoding_errors, dialect, error_bad_lines, warn_bad_lines, on_bad_lines, delim_whitespace, low_memory, memory_map, float_precision, storage_options)\u001b[0m\n\u001b[1;32m    584\u001b[0m     \u001b[0mkwds\u001b[0m\u001b[0;34m.\u001b[0m\u001b[0mupdate\u001b[0m\u001b[0;34m(\u001b[0m\u001b[0mkwds_defaults\u001b[0m\u001b[0;34m)\u001b[0m\u001b[0;34m\u001b[0m\u001b[0;34m\u001b[0m\u001b[0m\n\u001b[1;32m    585\u001b[0m \u001b[0;34m\u001b[0m\u001b[0m\n\u001b[0;32m--> 586\u001b[0;31m     \u001b[0;32mreturn\u001b[0m \u001b[0m_read\u001b[0m\u001b[0;34m(\u001b[0m\u001b[0mfilepath_or_buffer\u001b[0m\u001b[0;34m,\u001b[0m \u001b[0mkwds\u001b[0m\u001b[0;34m)\u001b[0m\u001b[0;34m\u001b[0m\u001b[0;34m\u001b[0m\u001b[0m\n\u001b[0m\u001b[1;32m    587\u001b[0m \u001b[0;34m\u001b[0m\u001b[0m\n\u001b[1;32m    588\u001b[0m \u001b[0;34m\u001b[0m\u001b[0m\n",
            "\u001b[0;32m/usr/local/lib/python3.7/dist-packages/pandas/io/parsers/readers.py\u001b[0m in \u001b[0;36m_read\u001b[0;34m(filepath_or_buffer, kwds)\u001b[0m\n\u001b[1;32m    480\u001b[0m \u001b[0;34m\u001b[0m\u001b[0m\n\u001b[1;32m    481\u001b[0m     \u001b[0;31m# Create the parser.\u001b[0m\u001b[0;34m\u001b[0m\u001b[0;34m\u001b[0m\u001b[0;34m\u001b[0m\u001b[0m\n\u001b[0;32m--> 482\u001b[0;31m     \u001b[0mparser\u001b[0m \u001b[0;34m=\u001b[0m \u001b[0mTextFileReader\u001b[0m\u001b[0;34m(\u001b[0m\u001b[0mfilepath_or_buffer\u001b[0m\u001b[0;34m,\u001b[0m \u001b[0;34m**\u001b[0m\u001b[0mkwds\u001b[0m\u001b[0;34m)\u001b[0m\u001b[0;34m\u001b[0m\u001b[0;34m\u001b[0m\u001b[0m\n\u001b[0m\u001b[1;32m    483\u001b[0m \u001b[0;34m\u001b[0m\u001b[0m\n\u001b[1;32m    484\u001b[0m     \u001b[0;32mif\u001b[0m \u001b[0mchunksize\u001b[0m \u001b[0;32mor\u001b[0m \u001b[0miterator\u001b[0m\u001b[0;34m:\u001b[0m\u001b[0;34m\u001b[0m\u001b[0;34m\u001b[0m\u001b[0m\n",
            "\u001b[0;32m/usr/local/lib/python3.7/dist-packages/pandas/io/parsers/readers.py\u001b[0m in \u001b[0;36m__init__\u001b[0;34m(self, f, engine, **kwds)\u001b[0m\n\u001b[1;32m    809\u001b[0m             \u001b[0mself\u001b[0m\u001b[0;34m.\u001b[0m\u001b[0moptions\u001b[0m\u001b[0;34m[\u001b[0m\u001b[0;34m\"has_index_names\"\u001b[0m\u001b[0;34m]\u001b[0m \u001b[0;34m=\u001b[0m \u001b[0mkwds\u001b[0m\u001b[0;34m[\u001b[0m\u001b[0;34m\"has_index_names\"\u001b[0m\u001b[0;34m]\u001b[0m\u001b[0;34m\u001b[0m\u001b[0;34m\u001b[0m\u001b[0m\n\u001b[1;32m    810\u001b[0m \u001b[0;34m\u001b[0m\u001b[0m\n\u001b[0;32m--> 811\u001b[0;31m         \u001b[0mself\u001b[0m\u001b[0;34m.\u001b[0m\u001b[0m_engine\u001b[0m \u001b[0;34m=\u001b[0m \u001b[0mself\u001b[0m\u001b[0;34m.\u001b[0m\u001b[0m_make_engine\u001b[0m\u001b[0;34m(\u001b[0m\u001b[0mself\u001b[0m\u001b[0;34m.\u001b[0m\u001b[0mengine\u001b[0m\u001b[0;34m)\u001b[0m\u001b[0;34m\u001b[0m\u001b[0;34m\u001b[0m\u001b[0m\n\u001b[0m\u001b[1;32m    812\u001b[0m \u001b[0;34m\u001b[0m\u001b[0m\n\u001b[1;32m    813\u001b[0m     \u001b[0;32mdef\u001b[0m \u001b[0mclose\u001b[0m\u001b[0;34m(\u001b[0m\u001b[0mself\u001b[0m\u001b[0;34m)\u001b[0m\u001b[0;34m:\u001b[0m\u001b[0;34m\u001b[0m\u001b[0;34m\u001b[0m\u001b[0m\n",
            "\u001b[0;32m/usr/local/lib/python3.7/dist-packages/pandas/io/parsers/readers.py\u001b[0m in \u001b[0;36m_make_engine\u001b[0;34m(self, engine)\u001b[0m\n\u001b[1;32m   1038\u001b[0m             )\n\u001b[1;32m   1039\u001b[0m         \u001b[0;31m# error: Too many arguments for \"ParserBase\"\u001b[0m\u001b[0;34m\u001b[0m\u001b[0;34m\u001b[0m\u001b[0;34m\u001b[0m\u001b[0m\n\u001b[0;32m-> 1040\u001b[0;31m         \u001b[0;32mreturn\u001b[0m \u001b[0mmapping\u001b[0m\u001b[0;34m[\u001b[0m\u001b[0mengine\u001b[0m\u001b[0;34m]\u001b[0m\u001b[0;34m(\u001b[0m\u001b[0mself\u001b[0m\u001b[0;34m.\u001b[0m\u001b[0mf\u001b[0m\u001b[0;34m,\u001b[0m \u001b[0;34m**\u001b[0m\u001b[0mself\u001b[0m\u001b[0;34m.\u001b[0m\u001b[0moptions\u001b[0m\u001b[0;34m)\u001b[0m  \u001b[0;31m# type: ignore[call-arg]\u001b[0m\u001b[0;34m\u001b[0m\u001b[0;34m\u001b[0m\u001b[0m\n\u001b[0m\u001b[1;32m   1041\u001b[0m \u001b[0;34m\u001b[0m\u001b[0m\n\u001b[1;32m   1042\u001b[0m     \u001b[0;32mdef\u001b[0m \u001b[0m_failover_to_python\u001b[0m\u001b[0;34m(\u001b[0m\u001b[0mself\u001b[0m\u001b[0;34m)\u001b[0m\u001b[0;34m:\u001b[0m\u001b[0;34m\u001b[0m\u001b[0;34m\u001b[0m\u001b[0m\n",
            "\u001b[0;32m/usr/local/lib/python3.7/dist-packages/pandas/io/parsers/c_parser_wrapper.py\u001b[0m in \u001b[0;36m__init__\u001b[0;34m(self, src, **kwds)\u001b[0m\n\u001b[1;32m     49\u001b[0m \u001b[0;34m\u001b[0m\u001b[0m\n\u001b[1;32m     50\u001b[0m         \u001b[0;31m# open handles\u001b[0m\u001b[0;34m\u001b[0m\u001b[0;34m\u001b[0m\u001b[0;34m\u001b[0m\u001b[0m\n\u001b[0;32m---> 51\u001b[0;31m         \u001b[0mself\u001b[0m\u001b[0;34m.\u001b[0m\u001b[0m_open_handles\u001b[0m\u001b[0;34m(\u001b[0m\u001b[0msrc\u001b[0m\u001b[0;34m,\u001b[0m \u001b[0mkwds\u001b[0m\u001b[0;34m)\u001b[0m\u001b[0;34m\u001b[0m\u001b[0;34m\u001b[0m\u001b[0m\n\u001b[0m\u001b[1;32m     52\u001b[0m         \u001b[0;32massert\u001b[0m \u001b[0mself\u001b[0m\u001b[0;34m.\u001b[0m\u001b[0mhandles\u001b[0m \u001b[0;32mis\u001b[0m \u001b[0;32mnot\u001b[0m \u001b[0;32mNone\u001b[0m\u001b[0;34m\u001b[0m\u001b[0;34m\u001b[0m\u001b[0m\n\u001b[1;32m     53\u001b[0m \u001b[0;34m\u001b[0m\u001b[0m\n",
            "\u001b[0;32m/usr/local/lib/python3.7/dist-packages/pandas/io/parsers/base_parser.py\u001b[0m in \u001b[0;36m_open_handles\u001b[0;34m(self, src, kwds)\u001b[0m\n\u001b[1;32m    227\u001b[0m             \u001b[0mmemory_map\u001b[0m\u001b[0;34m=\u001b[0m\u001b[0mkwds\u001b[0m\u001b[0;34m.\u001b[0m\u001b[0mget\u001b[0m\u001b[0;34m(\u001b[0m\u001b[0;34m\"memory_map\"\u001b[0m\u001b[0;34m,\u001b[0m \u001b[0;32mFalse\u001b[0m\u001b[0;34m)\u001b[0m\u001b[0;34m,\u001b[0m\u001b[0;34m\u001b[0m\u001b[0;34m\u001b[0m\u001b[0m\n\u001b[1;32m    228\u001b[0m             \u001b[0mstorage_options\u001b[0m\u001b[0;34m=\u001b[0m\u001b[0mkwds\u001b[0m\u001b[0;34m.\u001b[0m\u001b[0mget\u001b[0m\u001b[0;34m(\u001b[0m\u001b[0;34m\"storage_options\"\u001b[0m\u001b[0;34m,\u001b[0m \u001b[0;32mNone\u001b[0m\u001b[0;34m)\u001b[0m\u001b[0;34m,\u001b[0m\u001b[0;34m\u001b[0m\u001b[0;34m\u001b[0m\u001b[0m\n\u001b[0;32m--> 229\u001b[0;31m             \u001b[0merrors\u001b[0m\u001b[0;34m=\u001b[0m\u001b[0mkwds\u001b[0m\u001b[0;34m.\u001b[0m\u001b[0mget\u001b[0m\u001b[0;34m(\u001b[0m\u001b[0;34m\"encoding_errors\"\u001b[0m\u001b[0;34m,\u001b[0m \u001b[0;34m\"strict\"\u001b[0m\u001b[0;34m)\u001b[0m\u001b[0;34m,\u001b[0m\u001b[0;34m\u001b[0m\u001b[0;34m\u001b[0m\u001b[0m\n\u001b[0m\u001b[1;32m    230\u001b[0m         )\n\u001b[1;32m    231\u001b[0m \u001b[0;34m\u001b[0m\u001b[0m\n",
            "\u001b[0;32m/usr/local/lib/python3.7/dist-packages/pandas/io/common.py\u001b[0m in \u001b[0;36mget_handle\u001b[0;34m(path_or_buf, mode, encoding, compression, memory_map, is_text, errors, storage_options)\u001b[0m\n\u001b[1;32m    705\u001b[0m                 \u001b[0mencoding\u001b[0m\u001b[0;34m=\u001b[0m\u001b[0mioargs\u001b[0m\u001b[0;34m.\u001b[0m\u001b[0mencoding\u001b[0m\u001b[0;34m,\u001b[0m\u001b[0;34m\u001b[0m\u001b[0;34m\u001b[0m\u001b[0m\n\u001b[1;32m    706\u001b[0m                 \u001b[0merrors\u001b[0m\u001b[0;34m=\u001b[0m\u001b[0merrors\u001b[0m\u001b[0;34m,\u001b[0m\u001b[0;34m\u001b[0m\u001b[0;34m\u001b[0m\u001b[0m\n\u001b[0;32m--> 707\u001b[0;31m                 \u001b[0mnewline\u001b[0m\u001b[0;34m=\u001b[0m\u001b[0;34m\"\"\u001b[0m\u001b[0;34m,\u001b[0m\u001b[0;34m\u001b[0m\u001b[0;34m\u001b[0m\u001b[0m\n\u001b[0m\u001b[1;32m    708\u001b[0m             )\n\u001b[1;32m    709\u001b[0m         \u001b[0;32melse\u001b[0m\u001b[0;34m:\u001b[0m\u001b[0;34m\u001b[0m\u001b[0;34m\u001b[0m\u001b[0m\n",
            "\u001b[0;31mFileNotFoundError\u001b[0m: [Errno 2] No such file or directory: 'heart-disease.csv'"
          ]
        }
      ],
      "source": [
        "df = pd.read_csv(\"heart-disease.csv\")\n",
        "df"
      ]
    },
    {
      "cell_type": "code",
      "execution_count": null,
      "metadata": {
        "id": "wtO5ucyE_Gcq"
      },
      "outputs": [],
      "source": [
        "df.shape"
      ]
    },
    {
      "cell_type": "code",
      "execution_count": null,
      "metadata": {
        "id": "ePRqPVNB_Gcq"
      },
      "outputs": [],
      "source": [
        "# Data Exploration (Exploratory Data Analysis)\n",
        "df.tail()"
      ]
    },
    {
      "cell_type": "code",
      "execution_count": null,
      "metadata": {
        "id": "VQRohIU-_Gcr"
      },
      "outputs": [],
      "source": [
        "df[\"target\"].value_counts()"
      ]
    },
    {
      "cell_type": "code",
      "execution_count": null,
      "metadata": {
        "id": "yXHxjSMZ_Gcr"
      },
      "outputs": [],
      "source": [
        "df[\"target\"].value_counts().plot(kind=\"bar\");"
      ]
    },
    {
      "cell_type": "code",
      "execution_count": null,
      "metadata": {
        "id": "n1vPhPR4_Gcs"
      },
      "outputs": [],
      "source": [
        "df.info()"
      ]
    },
    {
      "cell_type": "code",
      "execution_count": null,
      "metadata": {
        "id": "PKAiAfS2_Gcs"
      },
      "outputs": [],
      "source": [
        "# Are there any missing Values\n",
        "df.isna().sum()"
      ]
    },
    {
      "cell_type": "code",
      "execution_count": null,
      "metadata": {
        "id": "wtfFroXV_Gct"
      },
      "outputs": [],
      "source": [
        "df.describe()"
      ]
    },
    {
      "cell_type": "markdown",
      "metadata": {
        "id": "3bfwfFM7_Gct"
      },
      "source": [
        "## Heart Disease Frequency according to Sex"
      ]
    },
    {
      "cell_type": "code",
      "execution_count": null,
      "metadata": {
        "id": "IJr8WuZs_Gct"
      },
      "outputs": [],
      "source": [
        "df[\"sex\"].value_counts()"
      ]
    },
    {
      "cell_type": "code",
      "execution_count": null,
      "metadata": {
        "id": "icaXLjb7_Gcu"
      },
      "outputs": [],
      "source": [
        "#Compare target column with sex column\n",
        "pd.crosstab(df[\"target\"], df[\"sex\"])"
      ]
    },
    {
      "cell_type": "code",
      "execution_count": null,
      "metadata": {
        "id": "eAhQemqG_Gcu"
      },
      "outputs": [],
      "source": [
        "pd.crosstab(df[\"target\"],df[\"sex\"]).plot(kind=\"bar\", color=[\"salmon\", \"lightblue\"],figsize=(10,8));\n",
        "plt.title(\"Heart Disease with Sex related\")\n",
        "plt.legend(['Female', 'Male'])\n",
        "plt.xlabel(\"0 = No Disease, 1 = Disease\")\n",
        "plt.xticks();"
      ]
    },
    {
      "cell_type": "code",
      "execution_count": null,
      "metadata": {
        "id": "1JeCoErQ_Gcv"
      },
      "outputs": [],
      "source": [
        "df.corr()"
      ]
    },
    {
      "cell_type": "code",
      "execution_count": null,
      "metadata": {
        "id": "wh_RUKUN_Gcv"
      },
      "outputs": [],
      "source": [
        "df.hist(figsize=(20,10), bins=50, color=\"red\");"
      ]
    },
    {
      "cell_type": "code",
      "execution_count": null,
      "metadata": {
        "id": "4hIVa3Dl_Gcv"
      },
      "outputs": [],
      "source": [
        "from pandas.plotting import scatter_matrix\n",
        "attributes = [\"target\",\"thal\",\"sex\",\"chol\",\"age\"]\n",
        "scatter_matrix(df[attributes], figsize=(20,10),color=\"black\");"
      ]
    },
    {
      "cell_type": "markdown",
      "metadata": {
        "id": "_Qrcwugh_Gcw"
      },
      "source": [
        "### Age vs Max Heart Rate for Heart Disease"
      ]
    },
    {
      "cell_type": "code",
      "execution_count": null,
      "metadata": {
        "id": "_y0B_FPn_Gcw"
      },
      "outputs": [],
      "source": [
        "# Create another Figure\n",
        "plt.figure(figsize=(10,8))\n",
        "\n",
        "#Scatter with Positive Examples\n",
        "plt.scatter(df.age[df.target==1],df.thalach[df.target==1], c='salmon');\n",
        "\n",
        "#Scatter with Negative Examples\n",
        "plt.scatter(df.age[df.target==0], df.thalach[df.target==0], c=\"Black\");\n",
        "\n",
        "#Add Some Info\n",
        "plt.title(\"Heart Disease in Function of Age and Max Heart Rate\", fontstyle=\"italic\", color=\"green\")\n",
        "plt.xlabel(\"age\", fontstyle='oblique')\n",
        "plt.ylabel(\"thalch\", fontstyle='oblique')\n",
        "plt.xticks()\n",
        "plt.legend([\"Target=1\",\"Target=0\"]);"
      ]
    },
    {
      "cell_type": "code",
      "execution_count": null,
      "metadata": {
        "id": "rGWPnZZK_Gcx"
      },
      "outputs": [],
      "source": [
        "# Check distribution of age with histogram\n",
        "df.age.plot.hist();"
      ]
    },
    {
      "cell_type": "code",
      "execution_count": null,
      "metadata": {
        "id": "YeyntJDb_Gcx"
      },
      "outputs": [],
      "source": [
        "# Heart Disease frequency per Chest Pain Type\n",
        "pd.crosstab(df['cp'],df['target'])"
      ]
    },
    {
      "cell_type": "code",
      "execution_count": null,
      "metadata": {
        "id": "20GAVIjW_Gcy"
      },
      "outputs": [],
      "source": [
        "#make the crosstab more visual\n",
        "\n",
        "pd.crosstab(df['cp'],df['target']).plot(kind='bar',figsize=(10,8));\n",
        "plt.title('Heart Disease per chest pain', fontstyle='italic', color='red')\n",
        "plt.xlabel('Chest Pain')\n",
        "plt.ylabel('No. of People')\n",
        "plt.xticks()\n",
        "plt.legend(['No-Disease','Disease']);"
      ]
    },
    {
      "cell_type": "code",
      "execution_count": null,
      "metadata": {
        "id": "fKDPJhdW_Gcy"
      },
      "outputs": [],
      "source": [
        "#Corelation Heatmap\n",
        "\n",
        "corr_matrix = df.corr()\n",
        "fig , ax = plt.subplots(figsize=(10,8))\n",
        "ax = sns.heatmap(corr_matrix,\n",
        "                annot=True,\n",
        "                linewidths=0.5,\n",
        "                fmt='.2f')"
      ]
    },
    {
      "cell_type": "markdown",
      "metadata": {
        "id": "ajACejdy_Gcy"
      },
      "source": [
        "## Modelling"
      ]
    },
    {
      "cell_type": "code",
      "execution_count": null,
      "metadata": {
        "id": "ETRuw371_Gcz"
      },
      "outputs": [],
      "source": [
        "df.head()"
      ]
    },
    {
      "cell_type": "code",
      "execution_count": null,
      "metadata": {
        "id": "UM58vIDc_Gcz"
      },
      "outputs": [],
      "source": [
        "# Split data into train & test set\n",
        "#fbs and exang\n",
        "from sklearn.model_selection import StratifiedShuffleSplit\n",
        "splits = StratifiedShuffleSplit(n_splits=1, test_size = 0.2, random_state=42)\n",
        "for train_index, test_index in splits.split(df, df['fbs'],df['exang']):\n",
        "    strat_train_set = df.loc[train_index]\n",
        "    strat_test_Set = df.loc[test_index]"
      ]
    },
    {
      "cell_type": "code",
      "execution_count": null,
      "metadata": {
        "id": "SnDnBgUG_Gcz"
      },
      "outputs": [],
      "source": [
        "strat_train_set"
      ]
    },
    {
      "cell_type": "code",
      "execution_count": null,
      "metadata": {
        "id": "x2ss8l8y_Gc0"
      },
      "outputs": [],
      "source": [
        "strat_test_Set"
      ]
    },
    {
      "cell_type": "code",
      "execution_count": null,
      "metadata": {
        "id": "bsnBiXyo_Gc0"
      },
      "outputs": [],
      "source": [
        "X_train = strat_train_set.drop('target',axis=1)\n",
        "X_train"
      ]
    },
    {
      "cell_type": "code",
      "execution_count": null,
      "metadata": {
        "id": "vrot5S0B_Gc0"
      },
      "outputs": [],
      "source": [
        "Y_train = strat_train_set['target']\n",
        "Y_train"
      ]
    },
    {
      "cell_type": "code",
      "execution_count": null,
      "metadata": {
        "id": "ikjLtJ4p_Gc1"
      },
      "outputs": [],
      "source": [
        "X_test = strat_test_Set.drop('target',axis=1)\n",
        "X_test"
      ]
    },
    {
      "cell_type": "code",
      "execution_count": null,
      "metadata": {
        "id": "UrULhTjs_Gc1"
      },
      "outputs": [],
      "source": [
        "Y_test = strat_test_Set['target']\n",
        "Y_test"
      ]
    },
    {
      "cell_type": "code",
      "execution_count": null,
      "metadata": {
        "id": "wn54ZOyI_Gc1"
      },
      "outputs": [],
      "source": [
        "#Put models in a divctionary\n",
        "models= {\"Logistic Regression\":LogisticRegression(),\n",
        "        \"KNN\":KNeighborsClassifier(),\n",
        "        \"Random Forest\": RandomForestClassifier()}\n",
        "\n",
        "#Create a function to fit & score models\n",
        "def fit_and_score(models, X_train, X_test, Y_train, Y_test):\n",
        "    \"\"\"Fit and evalute given Machine learbibg Model\"\"\"\n",
        "    np.random.seed(42)\n",
        "    model_scores = {}\n",
        "    \n",
        "    #Loop through models\n",
        "    for name, model in models.items():\n",
        "        #Fit the model to data\n",
        "        model.fit(X_train,Y_train)\n",
        "        #Evalute the model and append its score\n",
        "        model_scores[name]=model.score(X_test,Y_test)\n",
        "    return model_scores"
      ]
    },
    {
      "cell_type": "code",
      "execution_count": null,
      "metadata": {
        "id": "GH4KkvjQ_Gc2"
      },
      "outputs": [],
      "source": [
        "model_scores = fit_and_score(models, X_train, X_test, Y_train, Y_test)"
      ]
    },
    {
      "cell_type": "code",
      "execution_count": null,
      "metadata": {
        "id": "sXtCm00D_Gc2"
      },
      "outputs": [],
      "source": [
        "model_scores"
      ]
    },
    {
      "cell_type": "code",
      "execution_count": null,
      "metadata": {
        "id": "e9k-s98W_Gc2"
      },
      "outputs": [],
      "source": [
        "model_df = pd.DataFrame(model_scores, index=['accuracy'])\n",
        "model_df.T.plot(kind='bar', color='red');"
      ]
    },
    {
      "cell_type": "markdown",
      "metadata": {
        "id": "kFagtD5i_Gc2"
      },
      "source": [
        "## Hyperparameter Tuning"
      ]
    },
    {
      "cell_type": "code",
      "execution_count": null,
      "metadata": {
        "id": "0J2P9Eln_Gc3"
      },
      "outputs": [],
      "source": [
        "# Tuning KNN\n",
        "\n",
        "train_Scores = []\n",
        "test_scores = []\n",
        "\n",
        "#List of Different values for KNN\n",
        "neighbours = range(1,20)\n",
        "KNN = KNeighborsClassifier()\n",
        "\n",
        "#Loop Through Different n_neighbours\n",
        "for i in neighbours:\n",
        "    KNN.set_params(n_neighbors=i)\n",
        "    \n",
        "    #Fit the algorithm\n",
        "    KNN.fit(X_train, Y_train)\n",
        "    \n",
        "    #Update the training & testing Scores List\n",
        "    train_Scores.append(KNN.score(X_train,Y_train))\n",
        "    test_scores.append(KNN.score(X_test,Y_test))"
      ]
    },
    {
      "cell_type": "code",
      "execution_count": null,
      "metadata": {
        "id": "qXjotDqq_Gc3"
      },
      "outputs": [],
      "source": [
        "test_scores"
      ]
    },
    {
      "cell_type": "code",
      "execution_count": null,
      "metadata": {
        "id": "W733beMg_Gc3"
      },
      "outputs": [],
      "source": [
        "plt.plot(neighbours, train_Scores, label='Train_Scores')\n",
        "plt.plot(neighbours, test_scores, label='Test_Scores')\n",
        "plt.xticks(np.arange(1,20,1))\n",
        "plt.xlabel(\"Number of Neighbours\")\n",
        "plt.ylabel(\"Model Score\")\n",
        "plt.legend();\n",
        "\n",
        "print(f\"Max. KNN score {max(test_scores)*100:.2f}%\")"
      ]
    },
    {
      "cell_type": "markdown",
      "metadata": {
        "id": "lsvx0i2m_Gc4"
      },
      "source": [
        "*** Randomised Search CV ***"
      ]
    },
    {
      "cell_type": "code",
      "execution_count": null,
      "metadata": {
        "id": "6GLSU8Re_Gc4"
      },
      "outputs": [],
      "source": [
        "#Create a hyperparameter grid for Logistic Regression\n",
        "log_reg_grid = {\"C\" : np.logspace(-4,4,20),\n",
        "               \"solver\":['newton-cg','liblinear','saga'],\n",
        "               \"class_weight\":[None, 'balanced'],\n",
        "               'penalty':['l1','l2','elasticnet']}\n",
        "\n",
        "#Create a hyperparametr grid for RandomForestClassifier\n",
        "random_grid = {\"n_estimators\":np.arange(10,1000,100),\n",
        "              \"max_depth\":[None,3,5,10],\n",
        "              \"min_samples_split\":np.arange(2,20,2),\n",
        "              \"min_samples_leaf\":np.arange(1,20,2)}\n"
      ]
    },
    {
      "cell_type": "code",
      "execution_count": null,
      "metadata": {
        "id": "DJ1Y27Rx_Gc4"
      },
      "outputs": [],
      "source": [
        "np.random.seed(42)\n",
        "\n",
        "#Tune logistic Regression\n",
        "rs_log_reg = RandomizedSearchCV(LogisticRegression(),\n",
        "                               param_distributions=log_reg_grid,\n",
        "                               cv=5,\n",
        "                               verbose=True,\n",
        "                               n_iter=20)\n",
        "\n",
        "#Tune Random Forest\n",
        "rs_random_reg = RandomizedSearchCV(RandomForestClassifier(),\n",
        "                               param_distributions=random_grid,\n",
        "                               cv=5,\n",
        "                               verbose=True,\n",
        "                               n_iter=20)"
      ]
    },
    {
      "cell_type": "code",
      "execution_count": null,
      "metadata": {
        "id": "D9WQKFK2_Gc5"
      },
      "outputs": [],
      "source": [
        "rs_log_reg.fit(X_train,Y_train)"
      ]
    },
    {
      "cell_type": "code",
      "execution_count": null,
      "metadata": {
        "id": "OiiBG6OZ_Gc5"
      },
      "outputs": [],
      "source": [
        "rs_log_reg"
      ]
    },
    {
      "cell_type": "code",
      "execution_count": null,
      "metadata": {
        "id": "V0zuguRn_Gc5"
      },
      "outputs": [],
      "source": [
        "rs_log_reg.best_params_"
      ]
    },
    {
      "cell_type": "code",
      "execution_count": null,
      "metadata": {
        "id": "eAGi7p6-_Gc5"
      },
      "outputs": [],
      "source": [
        "rs_log_reg.score(X_test,Y_test)"
      ]
    },
    {
      "cell_type": "code",
      "execution_count": null,
      "metadata": {
        "id": "1w4kAdd__Gc6"
      },
      "outputs": [],
      "source": [
        "np.random.seed(42)\n",
        "rs_random_reg.fit(X_train,Y_train)"
      ]
    },
    {
      "cell_type": "code",
      "execution_count": null,
      "metadata": {
        "id": "jBJD_GYn_Gc6"
      },
      "outputs": [],
      "source": [
        "rs_random_reg.best_params_"
      ]
    },
    {
      "cell_type": "code",
      "execution_count": null,
      "metadata": {
        "id": "GWccVBS8_Gc6"
      },
      "outputs": [],
      "source": [
        "rs_random_reg.score(X_test,Y_test)"
      ]
    },
    {
      "cell_type": "markdown",
      "metadata": {
        "id": "N9l-N8X1_Gc7"
      },
      "source": [
        "**Grid Search**"
      ]
    },
    {
      "cell_type": "code",
      "execution_count": null,
      "metadata": {
        "id": "mljw0L8H_Gc7"
      },
      "outputs": [],
      "source": [
        "gs_random_reg = GridSearchCV(RandomForestClassifier(),\n",
        "                            param_grid=random_grid,\n",
        "                            cv=5,\n",
        "                            verbose=2)"
      ]
    },
    {
      "cell_type": "code",
      "execution_count": null,
      "metadata": {
        "id": "AvlHe6HY_Gc7"
      },
      "outputs": [],
      "source": [
        "gs_random_reg.fit(X_train,Y_train)"
      ]
    },
    {
      "cell_type": "code",
      "execution_count": null,
      "metadata": {
        "id": "AHGAlMZC_Gc7"
      },
      "outputs": [],
      "source": [
        "gs_random_reg.best_params_"
      ]
    },
    {
      "cell_type": "code",
      "execution_count": null,
      "metadata": {
        "id": "trbTmA7c_Gc8"
      },
      "outputs": [],
      "source": [
        "gs_random_reg.score(X_test,Y_test)"
      ]
    },
    {
      "cell_type": "code",
      "execution_count": null,
      "metadata": {
        "id": "MLb8iIvb_Gc8"
      },
      "outputs": [],
      "source": [
        "## Evaluting the best classifier\n",
        "y_preds = rs_random_reg.predict(X_test)"
      ]
    },
    {
      "cell_type": "code",
      "execution_count": null,
      "metadata": {
        "id": "dSL_6zOH_Gc8"
      },
      "outputs": [],
      "source": [
        "plot_roc_curve(rs_random_reg,X_test,Y_test);"
      ]
    },
    {
      "cell_type": "code",
      "execution_count": null,
      "metadata": {
        "id": "mWck2HM__Gc9"
      },
      "outputs": [],
      "source": [
        "print(confusion_matrix(Y_test,y_preds))"
      ]
    },
    {
      "cell_type": "code",
      "execution_count": null,
      "metadata": {
        "id": "AARrDpuE_Gc9"
      },
      "outputs": [],
      "source": [
        "sns.set(font_scale=1.5)\n",
        "def plot_confusion(y_test,y_preds):\n",
        "    #Creating Heatmap of Confusion matrix\"\n",
        "    fig, ax = plt.subplots(figsize=(3,3))\n",
        "    ax = sns.heatmap(confusion_matrix(y_test,y_preds),\n",
        "                    annot=True,\n",
        "                    cbar=False)\n",
        "    plt.xlabel(\"Predicted Label\")\n",
        "    plt.ylabel(\"True Label\")\n",
        "    \n",
        "plot_confusion(Y_test,y_preds)"
      ]
    },
    {
      "cell_type": "code",
      "execution_count": null,
      "metadata": {
        "id": "SM32fc0X_Gc9"
      },
      "outputs": [],
      "source": [
        "print(classification_report(Y_test,y_preds))"
      ]
    },
    {
      "cell_type": "markdown",
      "metadata": {
        "id": "Uw5vO4kC_Gc9"
      },
      "source": [
        "## Calculate Evalution Metrics Using Cross_Validation"
      ]
    },
    {
      "cell_type": "code",
      "execution_count": null,
      "metadata": {
        "id": "VyxsEIrq_Gc-"
      },
      "outputs": [],
      "source": [
        "clf = RandomForestClassifier(n_estimators= 610,\n",
        "     min_samples_split= 4,\n",
        "     min_samples_leaf= 11,\n",
        "     max_depth= None)"
      ]
    },
    {
      "cell_type": "code",
      "execution_count": null,
      "metadata": {
        "id": "FsWT3gQv_Gc-"
      },
      "outputs": [],
      "source": [
        "#Cross Validated Accuracy\n",
        "cv_acc = cross_val_score(clf,X_train,Y_train,cv=5,scoring=\"accuracy\")\n",
        "accuracy = np.mean(cv_acc)\n",
        "accuracy"
      ]
    },
    {
      "cell_type": "code",
      "execution_count": null,
      "metadata": {
        "id": "Qk6guNQi_Gc-"
      },
      "outputs": [],
      "source": [
        "#Cross Validated Precision\n",
        "cv_acc = cross_val_score(clf,X_train,Y_train,cv=5,scoring=\"precision\")\n",
        "precison = np.mean(cv_acc)\n",
        "precison"
      ]
    },
    {
      "cell_type": "code",
      "execution_count": null,
      "metadata": {
        "id": "DuHUt633_Gc_"
      },
      "outputs": [],
      "source": [
        "#Cross Validated Recall\n",
        "cv_acc = cross_val_score(clf,X_train,Y_train,cv=5,scoring=\"recall\")\n",
        "recall = np.mean(cv_acc)\n",
        "recall"
      ]
    },
    {
      "cell_type": "code",
      "execution_count": null,
      "metadata": {
        "id": "TW3whYTc_Gc_"
      },
      "outputs": [],
      "source": [
        "#Cross Validated f1_Score\n",
        "cv_acc = cross_val_score(clf,X_train,Y_train,cv=5,scoring=\"f1\")\n",
        "f1_score = np.mean(cv_acc)\n",
        "f1_score"
      ]
    },
    {
      "cell_type": "code",
      "execution_count": null,
      "metadata": {
        "id": "hVq2Ab9v_Gc_"
      },
      "outputs": [],
      "source": [
        "#Visualise our Cross Validated Metrics\n",
        "cv_metrics = pd.DataFrame({\"Accuracy\":accuracy,\n",
        "                          \"Precision\":precison,\n",
        "                          \"Recall\":recall,\n",
        "                          \"f1_score\":f1_score},\n",
        "                         index=[0])\n",
        "\n",
        "cv_metrics"
      ]
    },
    {
      "cell_type": "code",
      "execution_count": null,
      "metadata": {
        "id": "-MVELbX0_GdA"
      },
      "outputs": [],
      "source": [
        "cv_metrics.T.plot.bar(title=\"Cross Validated Classification Metrics\",legend=False);"
      ]
    },
    {
      "cell_type": "markdown",
      "metadata": {
        "id": "hlPXnPUw_GdA"
      },
      "source": [
        "## Feature Importance"
      ]
    },
    {
      "cell_type": "code",
      "execution_count": null,
      "metadata": {
        "id": "pdk1PPu3_GdA"
      },
      "outputs": [],
      "source": [
        "clf.fit(X_train,Y_train)"
      ]
    },
    {
      "cell_type": "code",
      "execution_count": null,
      "metadata": {
        "id": "lVmWtjNF_GdB"
      },
      "outputs": [],
      "source": [
        "clf.feature_importances_"
      ]
    },
    {
      "cell_type": "code",
      "execution_count": null,
      "metadata": {
        "id": "3duTTe7T_GdB"
      },
      "outputs": [],
      "source": [
        "feature_dict = dict(zip(df.columns,list(clf.feature_importances_)))"
      ]
    },
    {
      "cell_type": "code",
      "execution_count": null,
      "metadata": {
        "id": "hbIbhGas_GdB"
      },
      "outputs": [],
      "source": [
        "feature_dict"
      ]
    },
    {
      "cell_type": "code",
      "execution_count": null,
      "metadata": {
        "id": "Ypb8f8PH_GdC"
      },
      "outputs": [],
      "source": [
        "#Visualise Feature Importances\n",
        "feature_df = pd.DataFrame(feature_dict,index=[0])\n",
        "feature_df.T.plot(kind='bar',legend=False,color='black');\n"
      ]
    },
    {
      "cell_type": "code",
      "execution_count": null,
      "metadata": {
        "id": "Cd3q0pKT_GdC"
      },
      "outputs": [],
      "source": [
        "from joblib import dump\n",
        "\n",
        "#Save Model to File\n",
        "dump(clf, filename=\"Heart_Disease-Model.joblib\")"
      ]
    },
    {
      "cell_type": "code",
      "execution_count": null,
      "metadata": {
        "id": "H4BihVuZ_GdC"
      },
      "outputs": [],
      "source": []
    }
  ],
  "metadata": {
    "kernelspec": {
      "display_name": "Python 3",
      "language": "python",
      "name": "python3"
    },
    "language_info": {
      "codemirror_mode": {
        "name": "ipython",
        "version": 3
      },
      "file_extension": ".py",
      "mimetype": "text/x-python",
      "name": "python",
      "nbconvert_exporter": "python",
      "pygments_lexer": "ipython3",
      "version": "3.10.5"
    },
    "colab": {
      "provenance": []
    }
  },
  "nbformat": 4,
  "nbformat_minor": 0
}