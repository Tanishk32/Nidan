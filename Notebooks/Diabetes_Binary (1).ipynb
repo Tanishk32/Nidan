{
  "cells": [
    {
      "cell_type": "markdown",
      "metadata": {
        "id": "ssOQYq4XxreS"
      },
      "source": [
        "# Importing Libraries"
      ]
    },
    {
      "cell_type": "code",
      "execution_count": null,
      "metadata": {
        "id": "uEeiA0ttebVi"
      },
      "outputs": [],
      "source": [
        "#Regular EDA(Exploratory Data Analysis) & Plotting Libraries\n",
        "import numpy as np\n",
        "import pandas as pd\n",
        "import matplotlib.pyplot as plt\n",
        "import seaborn as sns\n",
        "from sklearn.compose import make_column_transformer\n",
        "from sklearn.preprocessing import MinMaxScaler, OneHotEncoder\n",
        "\n",
        "%matplotlib inline"
      ]
    },
    {
      "cell_type": "code",
      "execution_count": null,
      "metadata": {
        "id": "EP8ikJiLSrmf"
      },
      "outputs": [],
      "source": [
        "import pandas as pd"
      ]
    },
    {
      "cell_type": "markdown",
      "metadata": {
        "id": "V2ku0faFyjxi"
      },
      "source": [
        "# Impoting Data"
      ]
    },
    {
      "cell_type": "code",
      "execution_count": null,
      "metadata": {
        "id": "JoMf37slSyLs"
      },
      "outputs": [],
      "source": [
        "dia = pd.read_csv(\"https://raw.githubusercontent.com/kuchbhi-kunal/nidan/main/diabetes_binary_5050split_health_indicators_BRFSS2015.csv\")"
      ]
    },
    {
      "cell_type": "code",
      "execution_count": null,
      "metadata": {
        "colab": {
          "base_uri": "https://localhost:8080/",
          "height": 488
        },
        "id": "3j4UDNv9S7pT",
        "outputId": "f34cbbb3-b62d-4d11-c5a5-ea4c56df1e55"
      },
      "outputs": [
        {
          "output_type": "execute_result",
          "data": {
            "text/plain": [
              "       Diabetes_binary  HighBP  HighChol  CholCheck   BMI  Smoker  Stroke  \\\n",
              "0                  0.0     1.0       0.0        1.0  26.0     0.0     0.0   \n",
              "1                  0.0     1.0       1.0        1.0  26.0     1.0     1.0   \n",
              "2                  0.0     0.0       0.0        1.0  26.0     0.0     0.0   \n",
              "3                  0.0     1.0       1.0        1.0  28.0     1.0     0.0   \n",
              "4                  0.0     0.0       0.0        1.0  29.0     1.0     0.0   \n",
              "...                ...     ...       ...        ...   ...     ...     ...   \n",
              "70687              1.0     0.0       1.0        1.0  37.0     0.0     0.0   \n",
              "70688              1.0     0.0       1.0        1.0  29.0     1.0     0.0   \n",
              "70689              1.0     1.0       1.0        1.0  25.0     0.0     0.0   \n",
              "70690              1.0     1.0       1.0        1.0  18.0     0.0     0.0   \n",
              "70691              1.0     1.0       1.0        1.0  25.0     0.0     0.0   \n",
              "\n",
              "       HeartDiseaseorAttack  PhysActivity  Fruits  ...  AnyHealthcare  \\\n",
              "0                       0.0           1.0     0.0  ...            1.0   \n",
              "1                       0.0           0.0     1.0  ...            1.0   \n",
              "2                       0.0           1.0     1.0  ...            1.0   \n",
              "3                       0.0           1.0     1.0  ...            1.0   \n",
              "4                       0.0           1.0     1.0  ...            1.0   \n",
              "...                     ...           ...     ...  ...            ...   \n",
              "70687                   0.0           0.0     0.0  ...            1.0   \n",
              "70688                   1.0           0.0     1.0  ...            1.0   \n",
              "70689                   1.0           0.0     1.0  ...            1.0   \n",
              "70690                   0.0           0.0     0.0  ...            1.0   \n",
              "70691                   1.0           1.0     1.0  ...            1.0   \n",
              "\n",
              "       NoDocbcCost  GenHlth  MentHlth  PhysHlth  DiffWalk  Sex   Age  \\\n",
              "0              0.0      3.0       5.0      30.0       0.0  1.0   4.0   \n",
              "1              0.0      3.0       0.0       0.0       0.0  1.0  12.0   \n",
              "2              0.0      1.0       0.0      10.0       0.0  1.0  13.0   \n",
              "3              0.0      3.0       0.0       3.0       0.0  1.0  11.0   \n",
              "4              0.0      2.0       0.0       0.0       0.0  0.0   8.0   \n",
              "...            ...      ...       ...       ...       ...  ...   ...   \n",
              "70687          0.0      4.0       0.0       0.0       0.0  0.0   6.0   \n",
              "70688          0.0      2.0       0.0       0.0       1.0  1.0  10.0   \n",
              "70689          0.0      5.0      15.0       0.0       1.0  0.0  13.0   \n",
              "70690          0.0      4.0       0.0       0.0       1.0  0.0  11.0   \n",
              "70691          0.0      2.0       0.0       0.0       0.0  0.0   9.0   \n",
              "\n",
              "       Education  Income  \n",
              "0            6.0     8.0  \n",
              "1            6.0     8.0  \n",
              "2            6.0     8.0  \n",
              "3            6.0     8.0  \n",
              "4            5.0     8.0  \n",
              "...          ...     ...  \n",
              "70687        4.0     1.0  \n",
              "70688        3.0     6.0  \n",
              "70689        6.0     4.0  \n",
              "70690        2.0     4.0  \n",
              "70691        6.0     2.0  \n",
              "\n",
              "[70692 rows x 22 columns]"
            ],
            "text/html": [
              "\n",
              "  <div id=\"df-ad854231-ab19-4420-8b89-de7d8974a7ba\">\n",
              "    <div class=\"colab-df-container\">\n",
              "      <div>\n",
              "<style scoped>\n",
              "    .dataframe tbody tr th:only-of-type {\n",
              "        vertical-align: middle;\n",
              "    }\n",
              "\n",
              "    .dataframe tbody tr th {\n",
              "        vertical-align: top;\n",
              "    }\n",
              "\n",
              "    .dataframe thead th {\n",
              "        text-align: right;\n",
              "    }\n",
              "</style>\n",
              "<table border=\"1\" class=\"dataframe\">\n",
              "  <thead>\n",
              "    <tr style=\"text-align: right;\">\n",
              "      <th></th>\n",
              "      <th>Diabetes_binary</th>\n",
              "      <th>HighBP</th>\n",
              "      <th>HighChol</th>\n",
              "      <th>CholCheck</th>\n",
              "      <th>BMI</th>\n",
              "      <th>Smoker</th>\n",
              "      <th>Stroke</th>\n",
              "      <th>HeartDiseaseorAttack</th>\n",
              "      <th>PhysActivity</th>\n",
              "      <th>Fruits</th>\n",
              "      <th>...</th>\n",
              "      <th>AnyHealthcare</th>\n",
              "      <th>NoDocbcCost</th>\n",
              "      <th>GenHlth</th>\n",
              "      <th>MentHlth</th>\n",
              "      <th>PhysHlth</th>\n",
              "      <th>DiffWalk</th>\n",
              "      <th>Sex</th>\n",
              "      <th>Age</th>\n",
              "      <th>Education</th>\n",
              "      <th>Income</th>\n",
              "    </tr>\n",
              "  </thead>\n",
              "  <tbody>\n",
              "    <tr>\n",
              "      <th>0</th>\n",
              "      <td>0.0</td>\n",
              "      <td>1.0</td>\n",
              "      <td>0.0</td>\n",
              "      <td>1.0</td>\n",
              "      <td>26.0</td>\n",
              "      <td>0.0</td>\n",
              "      <td>0.0</td>\n",
              "      <td>0.0</td>\n",
              "      <td>1.0</td>\n",
              "      <td>0.0</td>\n",
              "      <td>...</td>\n",
              "      <td>1.0</td>\n",
              "      <td>0.0</td>\n",
              "      <td>3.0</td>\n",
              "      <td>5.0</td>\n",
              "      <td>30.0</td>\n",
              "      <td>0.0</td>\n",
              "      <td>1.0</td>\n",
              "      <td>4.0</td>\n",
              "      <td>6.0</td>\n",
              "      <td>8.0</td>\n",
              "    </tr>\n",
              "    <tr>\n",
              "      <th>1</th>\n",
              "      <td>0.0</td>\n",
              "      <td>1.0</td>\n",
              "      <td>1.0</td>\n",
              "      <td>1.0</td>\n",
              "      <td>26.0</td>\n",
              "      <td>1.0</td>\n",
              "      <td>1.0</td>\n",
              "      <td>0.0</td>\n",
              "      <td>0.0</td>\n",
              "      <td>1.0</td>\n",
              "      <td>...</td>\n",
              "      <td>1.0</td>\n",
              "      <td>0.0</td>\n",
              "      <td>3.0</td>\n",
              "      <td>0.0</td>\n",
              "      <td>0.0</td>\n",
              "      <td>0.0</td>\n",
              "      <td>1.0</td>\n",
              "      <td>12.0</td>\n",
              "      <td>6.0</td>\n",
              "      <td>8.0</td>\n",
              "    </tr>\n",
              "    <tr>\n",
              "      <th>2</th>\n",
              "      <td>0.0</td>\n",
              "      <td>0.0</td>\n",
              "      <td>0.0</td>\n",
              "      <td>1.0</td>\n",
              "      <td>26.0</td>\n",
              "      <td>0.0</td>\n",
              "      <td>0.0</td>\n",
              "      <td>0.0</td>\n",
              "      <td>1.0</td>\n",
              "      <td>1.0</td>\n",
              "      <td>...</td>\n",
              "      <td>1.0</td>\n",
              "      <td>0.0</td>\n",
              "      <td>1.0</td>\n",
              "      <td>0.0</td>\n",
              "      <td>10.0</td>\n",
              "      <td>0.0</td>\n",
              "      <td>1.0</td>\n",
              "      <td>13.0</td>\n",
              "      <td>6.0</td>\n",
              "      <td>8.0</td>\n",
              "    </tr>\n",
              "    <tr>\n",
              "      <th>3</th>\n",
              "      <td>0.0</td>\n",
              "      <td>1.0</td>\n",
              "      <td>1.0</td>\n",
              "      <td>1.0</td>\n",
              "      <td>28.0</td>\n",
              "      <td>1.0</td>\n",
              "      <td>0.0</td>\n",
              "      <td>0.0</td>\n",
              "      <td>1.0</td>\n",
              "      <td>1.0</td>\n",
              "      <td>...</td>\n",
              "      <td>1.0</td>\n",
              "      <td>0.0</td>\n",
              "      <td>3.0</td>\n",
              "      <td>0.0</td>\n",
              "      <td>3.0</td>\n",
              "      <td>0.0</td>\n",
              "      <td>1.0</td>\n",
              "      <td>11.0</td>\n",
              "      <td>6.0</td>\n",
              "      <td>8.0</td>\n",
              "    </tr>\n",
              "    <tr>\n",
              "      <th>4</th>\n",
              "      <td>0.0</td>\n",
              "      <td>0.0</td>\n",
              "      <td>0.0</td>\n",
              "      <td>1.0</td>\n",
              "      <td>29.0</td>\n",
              "      <td>1.0</td>\n",
              "      <td>0.0</td>\n",
              "      <td>0.0</td>\n",
              "      <td>1.0</td>\n",
              "      <td>1.0</td>\n",
              "      <td>...</td>\n",
              "      <td>1.0</td>\n",
              "      <td>0.0</td>\n",
              "      <td>2.0</td>\n",
              "      <td>0.0</td>\n",
              "      <td>0.0</td>\n",
              "      <td>0.0</td>\n",
              "      <td>0.0</td>\n",
              "      <td>8.0</td>\n",
              "      <td>5.0</td>\n",
              "      <td>8.0</td>\n",
              "    </tr>\n",
              "    <tr>\n",
              "      <th>...</th>\n",
              "      <td>...</td>\n",
              "      <td>...</td>\n",
              "      <td>...</td>\n",
              "      <td>...</td>\n",
              "      <td>...</td>\n",
              "      <td>...</td>\n",
              "      <td>...</td>\n",
              "      <td>...</td>\n",
              "      <td>...</td>\n",
              "      <td>...</td>\n",
              "      <td>...</td>\n",
              "      <td>...</td>\n",
              "      <td>...</td>\n",
              "      <td>...</td>\n",
              "      <td>...</td>\n",
              "      <td>...</td>\n",
              "      <td>...</td>\n",
              "      <td>...</td>\n",
              "      <td>...</td>\n",
              "      <td>...</td>\n",
              "      <td>...</td>\n",
              "    </tr>\n",
              "    <tr>\n",
              "      <th>70687</th>\n",
              "      <td>1.0</td>\n",
              "      <td>0.0</td>\n",
              "      <td>1.0</td>\n",
              "      <td>1.0</td>\n",
              "      <td>37.0</td>\n",
              "      <td>0.0</td>\n",
              "      <td>0.0</td>\n",
              "      <td>0.0</td>\n",
              "      <td>0.0</td>\n",
              "      <td>0.0</td>\n",
              "      <td>...</td>\n",
              "      <td>1.0</td>\n",
              "      <td>0.0</td>\n",
              "      <td>4.0</td>\n",
              "      <td>0.0</td>\n",
              "      <td>0.0</td>\n",
              "      <td>0.0</td>\n",
              "      <td>0.0</td>\n",
              "      <td>6.0</td>\n",
              "      <td>4.0</td>\n",
              "      <td>1.0</td>\n",
              "    </tr>\n",
              "    <tr>\n",
              "      <th>70688</th>\n",
              "      <td>1.0</td>\n",
              "      <td>0.0</td>\n",
              "      <td>1.0</td>\n",
              "      <td>1.0</td>\n",
              "      <td>29.0</td>\n",
              "      <td>1.0</td>\n",
              "      <td>0.0</td>\n",
              "      <td>1.0</td>\n",
              "      <td>0.0</td>\n",
              "      <td>1.0</td>\n",
              "      <td>...</td>\n",
              "      <td>1.0</td>\n",
              "      <td>0.0</td>\n",
              "      <td>2.0</td>\n",
              "      <td>0.0</td>\n",
              "      <td>0.0</td>\n",
              "      <td>1.0</td>\n",
              "      <td>1.0</td>\n",
              "      <td>10.0</td>\n",
              "      <td>3.0</td>\n",
              "      <td>6.0</td>\n",
              "    </tr>\n",
              "    <tr>\n",
              "      <th>70689</th>\n",
              "      <td>1.0</td>\n",
              "      <td>1.0</td>\n",
              "      <td>1.0</td>\n",
              "      <td>1.0</td>\n",
              "      <td>25.0</td>\n",
              "      <td>0.0</td>\n",
              "      <td>0.0</td>\n",
              "      <td>1.0</td>\n",
              "      <td>0.0</td>\n",
              "      <td>1.0</td>\n",
              "      <td>...</td>\n",
              "      <td>1.0</td>\n",
              "      <td>0.0</td>\n",
              "      <td>5.0</td>\n",
              "      <td>15.0</td>\n",
              "      <td>0.0</td>\n",
              "      <td>1.0</td>\n",
              "      <td>0.0</td>\n",
              "      <td>13.0</td>\n",
              "      <td>6.0</td>\n",
              "      <td>4.0</td>\n",
              "    </tr>\n",
              "    <tr>\n",
              "      <th>70690</th>\n",
              "      <td>1.0</td>\n",
              "      <td>1.0</td>\n",
              "      <td>1.0</td>\n",
              "      <td>1.0</td>\n",
              "      <td>18.0</td>\n",
              "      <td>0.0</td>\n",
              "      <td>0.0</td>\n",
              "      <td>0.0</td>\n",
              "      <td>0.0</td>\n",
              "      <td>0.0</td>\n",
              "      <td>...</td>\n",
              "      <td>1.0</td>\n",
              "      <td>0.0</td>\n",
              "      <td>4.0</td>\n",
              "      <td>0.0</td>\n",
              "      <td>0.0</td>\n",
              "      <td>1.0</td>\n",
              "      <td>0.0</td>\n",
              "      <td>11.0</td>\n",
              "      <td>2.0</td>\n",
              "      <td>4.0</td>\n",
              "    </tr>\n",
              "    <tr>\n",
              "      <th>70691</th>\n",
              "      <td>1.0</td>\n",
              "      <td>1.0</td>\n",
              "      <td>1.0</td>\n",
              "      <td>1.0</td>\n",
              "      <td>25.0</td>\n",
              "      <td>0.0</td>\n",
              "      <td>0.0</td>\n",
              "      <td>1.0</td>\n",
              "      <td>1.0</td>\n",
              "      <td>1.0</td>\n",
              "      <td>...</td>\n",
              "      <td>1.0</td>\n",
              "      <td>0.0</td>\n",
              "      <td>2.0</td>\n",
              "      <td>0.0</td>\n",
              "      <td>0.0</td>\n",
              "      <td>0.0</td>\n",
              "      <td>0.0</td>\n",
              "      <td>9.0</td>\n",
              "      <td>6.0</td>\n",
              "      <td>2.0</td>\n",
              "    </tr>\n",
              "  </tbody>\n",
              "</table>\n",
              "<p>70692 rows × 22 columns</p>\n",
              "</div>\n",
              "      <button class=\"colab-df-convert\" onclick=\"convertToInteractive('df-ad854231-ab19-4420-8b89-de7d8974a7ba')\"\n",
              "              title=\"Convert this dataframe to an interactive table.\"\n",
              "              style=\"display:none;\">\n",
              "        \n",
              "  <svg xmlns=\"http://www.w3.org/2000/svg\" height=\"24px\"viewBox=\"0 0 24 24\"\n",
              "       width=\"24px\">\n",
              "    <path d=\"M0 0h24v24H0V0z\" fill=\"none\"/>\n",
              "    <path d=\"M18.56 5.44l.94 2.06.94-2.06 2.06-.94-2.06-.94-.94-2.06-.94 2.06-2.06.94zm-11 1L8.5 8.5l.94-2.06 2.06-.94-2.06-.94L8.5 2.5l-.94 2.06-2.06.94zm10 10l.94 2.06.94-2.06 2.06-.94-2.06-.94-.94-2.06-.94 2.06-2.06.94z\"/><path d=\"M17.41 7.96l-1.37-1.37c-.4-.4-.92-.59-1.43-.59-.52 0-1.04.2-1.43.59L10.3 9.45l-7.72 7.72c-.78.78-.78 2.05 0 2.83L4 21.41c.39.39.9.59 1.41.59.51 0 1.02-.2 1.41-.59l7.78-7.78 2.81-2.81c.8-.78.8-2.07 0-2.86zM5.41 20L4 18.59l7.72-7.72 1.47 1.35L5.41 20z\"/>\n",
              "  </svg>\n",
              "      </button>\n",
              "      \n",
              "  <style>\n",
              "    .colab-df-container {\n",
              "      display:flex;\n",
              "      flex-wrap:wrap;\n",
              "      gap: 12px;\n",
              "    }\n",
              "\n",
              "    .colab-df-convert {\n",
              "      background-color: #E8F0FE;\n",
              "      border: none;\n",
              "      border-radius: 50%;\n",
              "      cursor: pointer;\n",
              "      display: none;\n",
              "      fill: #1967D2;\n",
              "      height: 32px;\n",
              "      padding: 0 0 0 0;\n",
              "      width: 32px;\n",
              "    }\n",
              "\n",
              "    .colab-df-convert:hover {\n",
              "      background-color: #E2EBFA;\n",
              "      box-shadow: 0px 1px 2px rgba(60, 64, 67, 0.3), 0px 1px 3px 1px rgba(60, 64, 67, 0.15);\n",
              "      fill: #174EA6;\n",
              "    }\n",
              "\n",
              "    [theme=dark] .colab-df-convert {\n",
              "      background-color: #3B4455;\n",
              "      fill: #D2E3FC;\n",
              "    }\n",
              "\n",
              "    [theme=dark] .colab-df-convert:hover {\n",
              "      background-color: #434B5C;\n",
              "      box-shadow: 0px 1px 3px 1px rgba(0, 0, 0, 0.15);\n",
              "      filter: drop-shadow(0px 1px 2px rgba(0, 0, 0, 0.3));\n",
              "      fill: #FFFFFF;\n",
              "    }\n",
              "  </style>\n",
              "\n",
              "      <script>\n",
              "        const buttonEl =\n",
              "          document.querySelector('#df-ad854231-ab19-4420-8b89-de7d8974a7ba button.colab-df-convert');\n",
              "        buttonEl.style.display =\n",
              "          google.colab.kernel.accessAllowed ? 'block' : 'none';\n",
              "\n",
              "        async function convertToInteractive(key) {\n",
              "          const element = document.querySelector('#df-ad854231-ab19-4420-8b89-de7d8974a7ba');\n",
              "          const dataTable =\n",
              "            await google.colab.kernel.invokeFunction('convertToInteractive',\n",
              "                                                     [key], {});\n",
              "          if (!dataTable) return;\n",
              "\n",
              "          const docLinkHtml = 'Like what you see? Visit the ' +\n",
              "            '<a target=\"_blank\" href=https://colab.research.google.com/notebooks/data_table.ipynb>data table notebook</a>'\n",
              "            + ' to learn more about interactive tables.';\n",
              "          element.innerHTML = '';\n",
              "          dataTable['output_type'] = 'display_data';\n",
              "          await google.colab.output.renderOutput(dataTable, element);\n",
              "          const docLink = document.createElement('div');\n",
              "          docLink.innerHTML = docLinkHtml;\n",
              "          element.appendChild(docLink);\n",
              "        }\n",
              "      </script>\n",
              "    </div>\n",
              "  </div>\n",
              "  "
            ]
          },
          "metadata": {},
          "execution_count": 4
        }
      ],
      "source": [
        "dia"
      ]
    },
    {
      "cell_type": "code",
      "execution_count": null,
      "metadata": {
        "colab": {
          "base_uri": "https://localhost:8080/",
          "height": 833
        },
        "id": "H_umkuE5rPgB",
        "outputId": "59380a55-4a88-4000-badd-f03d60d5ee6f"
      },
      "outputs": [
        {
          "output_type": "execute_result",
          "data": {
            "text/plain": [
              "                      35346  35347  35348  35349  35350  35351  35352  35353  \\\n",
              "Diabetes_binary         1.0    1.0    1.0    1.0    1.0    1.0    1.0    1.0   \n",
              "HighBP                  1.0    0.0    1.0    0.0    1.0    1.0    1.0    1.0   \n",
              "HighChol                1.0    0.0    1.0    0.0    0.0    1.0    1.0    1.0   \n",
              "CholCheck               1.0    1.0    1.0    1.0    1.0    1.0    1.0    1.0   \n",
              "BMI                    30.0   25.0   28.0   23.0   27.0   37.0   28.0   27.0   \n",
              "Smoker                  1.0    1.0    0.0    1.0    0.0    1.0    1.0    1.0   \n",
              "Stroke                  0.0    0.0    0.0    0.0    0.0    1.0    0.0    0.0   \n",
              "HeartDiseaseorAttack    1.0    0.0    0.0    0.0    0.0    1.0    1.0    0.0   \n",
              "PhysActivity            0.0    1.0    0.0    1.0    1.0    0.0    0.0    0.0   \n",
              "Fruits                  1.0    1.0    0.0    0.0    1.0    0.0    0.0    1.0   \n",
              "Veggies                 1.0    1.0    1.0    0.0    1.0    1.0    1.0    1.0   \n",
              "HvyAlcoholConsump       0.0    0.0    0.0    0.0    0.0    0.0    0.0    0.0   \n",
              "AnyHealthcare           1.0    1.0    1.0    1.0    1.0    1.0    1.0    1.0   \n",
              "NoDocbcCost             0.0    0.0    0.0    0.0    0.0    0.0    0.0    0.0   \n",
              "GenHlth                 5.0    3.0    4.0    2.0    1.0    5.0    4.0    4.0   \n",
              "MentHlth               30.0    0.0    0.0    0.0    0.0    0.0    0.0   20.0   \n",
              "PhysHlth               30.0    0.0    0.0    0.0    0.0    0.0    0.0   20.0   \n",
              "DiffWalk                1.0    0.0    1.0    0.0    0.0    1.0    0.0    1.0   \n",
              "Sex                     0.0    1.0    0.0    1.0    0.0    1.0    1.0    0.0   \n",
              "Age                     9.0   13.0   11.0    7.0   13.0   10.0   12.0    8.0   \n",
              "Education               5.0    6.0    4.0    5.0    5.0    6.0    2.0    4.0   \n",
              "Income                  1.0    8.0    6.0    6.0    4.0    5.0    4.0    7.0   \n",
              "\n",
              "                      35354  35355  ...  70682  70683  70684  70685  70686  \\\n",
              "Diabetes_binary         1.0    1.0  ...    1.0    1.0    1.0    1.0    1.0   \n",
              "HighBP                  1.0    1.0  ...    1.0    1.0    1.0    1.0    0.0   \n",
              "HighChol                1.0    1.0  ...    0.0    0.0    1.0    0.0    1.0   \n",
              "CholCheck               1.0    1.0  ...    1.0    1.0    1.0    1.0    1.0   \n",
              "BMI                    34.0   24.0  ...   37.0   28.0   27.0   38.0   27.0   \n",
              "Smoker                  1.0    1.0  ...    0.0    0.0    0.0    0.0    0.0   \n",
              "Stroke                  1.0    0.0  ...    0.0    0.0    0.0    0.0    0.0   \n",
              "HeartDiseaseorAttack    0.0    0.0  ...    0.0    0.0    1.0    0.0    0.0   \n",
              "PhysActivity            1.0    0.0  ...    0.0    0.0    1.0    1.0    1.0   \n",
              "Fruits                  0.0    0.0  ...    0.0    0.0    0.0    0.0    1.0   \n",
              "Veggies                 0.0    0.0  ...    0.0    1.0    1.0    1.0    0.0   \n",
              "HvyAlcoholConsump       0.0    0.0  ...    0.0    0.0    0.0    0.0    0.0   \n",
              "AnyHealthcare           1.0    1.0  ...    1.0    1.0    1.0    1.0    1.0   \n",
              "NoDocbcCost             0.0    0.0  ...    0.0    0.0    1.0    0.0    0.0   \n",
              "GenHlth                 4.0    2.0  ...    4.0    2.0    4.0    4.0    4.0   \n",
              "MentHlth                0.0    0.0  ...    0.0    0.0   30.0    0.0    0.0   \n",
              "PhysHlth                7.0    0.0  ...   30.0    0.0    5.0    0.0   30.0   \n",
              "DiffWalk                1.0    0.0  ...    1.0    0.0    0.0    0.0    0.0   \n",
              "Sex                     0.0    0.0  ...    0.0    0.0    1.0    0.0    1.0   \n",
              "Age                     9.0   12.0  ...    9.0   10.0    9.0    7.0   11.0   \n",
              "Education               5.0    3.0  ...    2.0    4.0    4.0    6.0    2.0   \n",
              "Income                  4.0    3.0  ...    1.0    3.0    5.0    2.0    3.0   \n",
              "\n",
              "                      70687  70688  70689  70690  70691  \n",
              "Diabetes_binary         1.0    1.0    1.0    1.0    1.0  \n",
              "HighBP                  0.0    0.0    1.0    1.0    1.0  \n",
              "HighChol                1.0    1.0    1.0    1.0    1.0  \n",
              "CholCheck               1.0    1.0    1.0    1.0    1.0  \n",
              "BMI                    37.0   29.0   25.0   18.0   25.0  \n",
              "Smoker                  0.0    1.0    0.0    0.0    0.0  \n",
              "Stroke                  0.0    0.0    0.0    0.0    0.0  \n",
              "HeartDiseaseorAttack    0.0    1.0    1.0    0.0    1.0  \n",
              "PhysActivity            0.0    0.0    0.0    0.0    1.0  \n",
              "Fruits                  0.0    1.0    1.0    0.0    1.0  \n",
              "Veggies                 1.0    1.0    0.0    0.0    0.0  \n",
              "HvyAlcoholConsump       0.0    0.0    0.0    0.0    0.0  \n",
              "AnyHealthcare           1.0    1.0    1.0    1.0    1.0  \n",
              "NoDocbcCost             0.0    0.0    0.0    0.0    0.0  \n",
              "GenHlth                 4.0    2.0    5.0    4.0    2.0  \n",
              "MentHlth                0.0    0.0   15.0    0.0    0.0  \n",
              "PhysHlth                0.0    0.0    0.0    0.0    0.0  \n",
              "DiffWalk                0.0    1.0    1.0    1.0    0.0  \n",
              "Sex                     0.0    1.0    0.0    0.0    0.0  \n",
              "Age                     6.0   10.0   13.0   11.0    9.0  \n",
              "Education               4.0    3.0    6.0    2.0    6.0  \n",
              "Income                  1.0    6.0    4.0    4.0    2.0  \n",
              "\n",
              "[22 rows x 35346 columns]"
            ],
            "text/html": [
              "\n",
              "  <div id=\"df-ae5b1678-ae80-47df-add3-7c6de50cfcd2\">\n",
              "    <div class=\"colab-df-container\">\n",
              "      <div>\n",
              "<style scoped>\n",
              "    .dataframe tbody tr th:only-of-type {\n",
              "        vertical-align: middle;\n",
              "    }\n",
              "\n",
              "    .dataframe tbody tr th {\n",
              "        vertical-align: top;\n",
              "    }\n",
              "\n",
              "    .dataframe thead th {\n",
              "        text-align: right;\n",
              "    }\n",
              "</style>\n",
              "<table border=\"1\" class=\"dataframe\">\n",
              "  <thead>\n",
              "    <tr style=\"text-align: right;\">\n",
              "      <th></th>\n",
              "      <th>35346</th>\n",
              "      <th>35347</th>\n",
              "      <th>35348</th>\n",
              "      <th>35349</th>\n",
              "      <th>35350</th>\n",
              "      <th>35351</th>\n",
              "      <th>35352</th>\n",
              "      <th>35353</th>\n",
              "      <th>35354</th>\n",
              "      <th>35355</th>\n",
              "      <th>...</th>\n",
              "      <th>70682</th>\n",
              "      <th>70683</th>\n",
              "      <th>70684</th>\n",
              "      <th>70685</th>\n",
              "      <th>70686</th>\n",
              "      <th>70687</th>\n",
              "      <th>70688</th>\n",
              "      <th>70689</th>\n",
              "      <th>70690</th>\n",
              "      <th>70691</th>\n",
              "    </tr>\n",
              "  </thead>\n",
              "  <tbody>\n",
              "    <tr>\n",
              "      <th>Diabetes_binary</th>\n",
              "      <td>1.0</td>\n",
              "      <td>1.0</td>\n",
              "      <td>1.0</td>\n",
              "      <td>1.0</td>\n",
              "      <td>1.0</td>\n",
              "      <td>1.0</td>\n",
              "      <td>1.0</td>\n",
              "      <td>1.0</td>\n",
              "      <td>1.0</td>\n",
              "      <td>1.0</td>\n",
              "      <td>...</td>\n",
              "      <td>1.0</td>\n",
              "      <td>1.0</td>\n",
              "      <td>1.0</td>\n",
              "      <td>1.0</td>\n",
              "      <td>1.0</td>\n",
              "      <td>1.0</td>\n",
              "      <td>1.0</td>\n",
              "      <td>1.0</td>\n",
              "      <td>1.0</td>\n",
              "      <td>1.0</td>\n",
              "    </tr>\n",
              "    <tr>\n",
              "      <th>HighBP</th>\n",
              "      <td>1.0</td>\n",
              "      <td>0.0</td>\n",
              "      <td>1.0</td>\n",
              "      <td>0.0</td>\n",
              "      <td>1.0</td>\n",
              "      <td>1.0</td>\n",
              "      <td>1.0</td>\n",
              "      <td>1.0</td>\n",
              "      <td>1.0</td>\n",
              "      <td>1.0</td>\n",
              "      <td>...</td>\n",
              "      <td>1.0</td>\n",
              "      <td>1.0</td>\n",
              "      <td>1.0</td>\n",
              "      <td>1.0</td>\n",
              "      <td>0.0</td>\n",
              "      <td>0.0</td>\n",
              "      <td>0.0</td>\n",
              "      <td>1.0</td>\n",
              "      <td>1.0</td>\n",
              "      <td>1.0</td>\n",
              "    </tr>\n",
              "    <tr>\n",
              "      <th>HighChol</th>\n",
              "      <td>1.0</td>\n",
              "      <td>0.0</td>\n",
              "      <td>1.0</td>\n",
              "      <td>0.0</td>\n",
              "      <td>0.0</td>\n",
              "      <td>1.0</td>\n",
              "      <td>1.0</td>\n",
              "      <td>1.0</td>\n",
              "      <td>1.0</td>\n",
              "      <td>1.0</td>\n",
              "      <td>...</td>\n",
              "      <td>0.0</td>\n",
              "      <td>0.0</td>\n",
              "      <td>1.0</td>\n",
              "      <td>0.0</td>\n",
              "      <td>1.0</td>\n",
              "      <td>1.0</td>\n",
              "      <td>1.0</td>\n",
              "      <td>1.0</td>\n",
              "      <td>1.0</td>\n",
              "      <td>1.0</td>\n",
              "    </tr>\n",
              "    <tr>\n",
              "      <th>CholCheck</th>\n",
              "      <td>1.0</td>\n",
              "      <td>1.0</td>\n",
              "      <td>1.0</td>\n",
              "      <td>1.0</td>\n",
              "      <td>1.0</td>\n",
              "      <td>1.0</td>\n",
              "      <td>1.0</td>\n",
              "      <td>1.0</td>\n",
              "      <td>1.0</td>\n",
              "      <td>1.0</td>\n",
              "      <td>...</td>\n",
              "      <td>1.0</td>\n",
              "      <td>1.0</td>\n",
              "      <td>1.0</td>\n",
              "      <td>1.0</td>\n",
              "      <td>1.0</td>\n",
              "      <td>1.0</td>\n",
              "      <td>1.0</td>\n",
              "      <td>1.0</td>\n",
              "      <td>1.0</td>\n",
              "      <td>1.0</td>\n",
              "    </tr>\n",
              "    <tr>\n",
              "      <th>BMI</th>\n",
              "      <td>30.0</td>\n",
              "      <td>25.0</td>\n",
              "      <td>28.0</td>\n",
              "      <td>23.0</td>\n",
              "      <td>27.0</td>\n",
              "      <td>37.0</td>\n",
              "      <td>28.0</td>\n",
              "      <td>27.0</td>\n",
              "      <td>34.0</td>\n",
              "      <td>24.0</td>\n",
              "      <td>...</td>\n",
              "      <td>37.0</td>\n",
              "      <td>28.0</td>\n",
              "      <td>27.0</td>\n",
              "      <td>38.0</td>\n",
              "      <td>27.0</td>\n",
              "      <td>37.0</td>\n",
              "      <td>29.0</td>\n",
              "      <td>25.0</td>\n",
              "      <td>18.0</td>\n",
              "      <td>25.0</td>\n",
              "    </tr>\n",
              "    <tr>\n",
              "      <th>Smoker</th>\n",
              "      <td>1.0</td>\n",
              "      <td>1.0</td>\n",
              "      <td>0.0</td>\n",
              "      <td>1.0</td>\n",
              "      <td>0.0</td>\n",
              "      <td>1.0</td>\n",
              "      <td>1.0</td>\n",
              "      <td>1.0</td>\n",
              "      <td>1.0</td>\n",
              "      <td>1.0</td>\n",
              "      <td>...</td>\n",
              "      <td>0.0</td>\n",
              "      <td>0.0</td>\n",
              "      <td>0.0</td>\n",
              "      <td>0.0</td>\n",
              "      <td>0.0</td>\n",
              "      <td>0.0</td>\n",
              "      <td>1.0</td>\n",
              "      <td>0.0</td>\n",
              "      <td>0.0</td>\n",
              "      <td>0.0</td>\n",
              "    </tr>\n",
              "    <tr>\n",
              "      <th>Stroke</th>\n",
              "      <td>0.0</td>\n",
              "      <td>0.0</td>\n",
              "      <td>0.0</td>\n",
              "      <td>0.0</td>\n",
              "      <td>0.0</td>\n",
              "      <td>1.0</td>\n",
              "      <td>0.0</td>\n",
              "      <td>0.0</td>\n",
              "      <td>1.0</td>\n",
              "      <td>0.0</td>\n",
              "      <td>...</td>\n",
              "      <td>0.0</td>\n",
              "      <td>0.0</td>\n",
              "      <td>0.0</td>\n",
              "      <td>0.0</td>\n",
              "      <td>0.0</td>\n",
              "      <td>0.0</td>\n",
              "      <td>0.0</td>\n",
              "      <td>0.0</td>\n",
              "      <td>0.0</td>\n",
              "      <td>0.0</td>\n",
              "    </tr>\n",
              "    <tr>\n",
              "      <th>HeartDiseaseorAttack</th>\n",
              "      <td>1.0</td>\n",
              "      <td>0.0</td>\n",
              "      <td>0.0</td>\n",
              "      <td>0.0</td>\n",
              "      <td>0.0</td>\n",
              "      <td>1.0</td>\n",
              "      <td>1.0</td>\n",
              "      <td>0.0</td>\n",
              "      <td>0.0</td>\n",
              "      <td>0.0</td>\n",
              "      <td>...</td>\n",
              "      <td>0.0</td>\n",
              "      <td>0.0</td>\n",
              "      <td>1.0</td>\n",
              "      <td>0.0</td>\n",
              "      <td>0.0</td>\n",
              "      <td>0.0</td>\n",
              "      <td>1.0</td>\n",
              "      <td>1.0</td>\n",
              "      <td>0.0</td>\n",
              "      <td>1.0</td>\n",
              "    </tr>\n",
              "    <tr>\n",
              "      <th>PhysActivity</th>\n",
              "      <td>0.0</td>\n",
              "      <td>1.0</td>\n",
              "      <td>0.0</td>\n",
              "      <td>1.0</td>\n",
              "      <td>1.0</td>\n",
              "      <td>0.0</td>\n",
              "      <td>0.0</td>\n",
              "      <td>0.0</td>\n",
              "      <td>1.0</td>\n",
              "      <td>0.0</td>\n",
              "      <td>...</td>\n",
              "      <td>0.0</td>\n",
              "      <td>0.0</td>\n",
              "      <td>1.0</td>\n",
              "      <td>1.0</td>\n",
              "      <td>1.0</td>\n",
              "      <td>0.0</td>\n",
              "      <td>0.0</td>\n",
              "      <td>0.0</td>\n",
              "      <td>0.0</td>\n",
              "      <td>1.0</td>\n",
              "    </tr>\n",
              "    <tr>\n",
              "      <th>Fruits</th>\n",
              "      <td>1.0</td>\n",
              "      <td>1.0</td>\n",
              "      <td>0.0</td>\n",
              "      <td>0.0</td>\n",
              "      <td>1.0</td>\n",
              "      <td>0.0</td>\n",
              "      <td>0.0</td>\n",
              "      <td>1.0</td>\n",
              "      <td>0.0</td>\n",
              "      <td>0.0</td>\n",
              "      <td>...</td>\n",
              "      <td>0.0</td>\n",
              "      <td>0.0</td>\n",
              "      <td>0.0</td>\n",
              "      <td>0.0</td>\n",
              "      <td>1.0</td>\n",
              "      <td>0.0</td>\n",
              "      <td>1.0</td>\n",
              "      <td>1.0</td>\n",
              "      <td>0.0</td>\n",
              "      <td>1.0</td>\n",
              "    </tr>\n",
              "    <tr>\n",
              "      <th>Veggies</th>\n",
              "      <td>1.0</td>\n",
              "      <td>1.0</td>\n",
              "      <td>1.0</td>\n",
              "      <td>0.0</td>\n",
              "      <td>1.0</td>\n",
              "      <td>1.0</td>\n",
              "      <td>1.0</td>\n",
              "      <td>1.0</td>\n",
              "      <td>0.0</td>\n",
              "      <td>0.0</td>\n",
              "      <td>...</td>\n",
              "      <td>0.0</td>\n",
              "      <td>1.0</td>\n",
              "      <td>1.0</td>\n",
              "      <td>1.0</td>\n",
              "      <td>0.0</td>\n",
              "      <td>1.0</td>\n",
              "      <td>1.0</td>\n",
              "      <td>0.0</td>\n",
              "      <td>0.0</td>\n",
              "      <td>0.0</td>\n",
              "    </tr>\n",
              "    <tr>\n",
              "      <th>HvyAlcoholConsump</th>\n",
              "      <td>0.0</td>\n",
              "      <td>0.0</td>\n",
              "      <td>0.0</td>\n",
              "      <td>0.0</td>\n",
              "      <td>0.0</td>\n",
              "      <td>0.0</td>\n",
              "      <td>0.0</td>\n",
              "      <td>0.0</td>\n",
              "      <td>0.0</td>\n",
              "      <td>0.0</td>\n",
              "      <td>...</td>\n",
              "      <td>0.0</td>\n",
              "      <td>0.0</td>\n",
              "      <td>0.0</td>\n",
              "      <td>0.0</td>\n",
              "      <td>0.0</td>\n",
              "      <td>0.0</td>\n",
              "      <td>0.0</td>\n",
              "      <td>0.0</td>\n",
              "      <td>0.0</td>\n",
              "      <td>0.0</td>\n",
              "    </tr>\n",
              "    <tr>\n",
              "      <th>AnyHealthcare</th>\n",
              "      <td>1.0</td>\n",
              "      <td>1.0</td>\n",
              "      <td>1.0</td>\n",
              "      <td>1.0</td>\n",
              "      <td>1.0</td>\n",
              "      <td>1.0</td>\n",
              "      <td>1.0</td>\n",
              "      <td>1.0</td>\n",
              "      <td>1.0</td>\n",
              "      <td>1.0</td>\n",
              "      <td>...</td>\n",
              "      <td>1.0</td>\n",
              "      <td>1.0</td>\n",
              "      <td>1.0</td>\n",
              "      <td>1.0</td>\n",
              "      <td>1.0</td>\n",
              "      <td>1.0</td>\n",
              "      <td>1.0</td>\n",
              "      <td>1.0</td>\n",
              "      <td>1.0</td>\n",
              "      <td>1.0</td>\n",
              "    </tr>\n",
              "    <tr>\n",
              "      <th>NoDocbcCost</th>\n",
              "      <td>0.0</td>\n",
              "      <td>0.0</td>\n",
              "      <td>0.0</td>\n",
              "      <td>0.0</td>\n",
              "      <td>0.0</td>\n",
              "      <td>0.0</td>\n",
              "      <td>0.0</td>\n",
              "      <td>0.0</td>\n",
              "      <td>0.0</td>\n",
              "      <td>0.0</td>\n",
              "      <td>...</td>\n",
              "      <td>0.0</td>\n",
              "      <td>0.0</td>\n",
              "      <td>1.0</td>\n",
              "      <td>0.0</td>\n",
              "      <td>0.0</td>\n",
              "      <td>0.0</td>\n",
              "      <td>0.0</td>\n",
              "      <td>0.0</td>\n",
              "      <td>0.0</td>\n",
              "      <td>0.0</td>\n",
              "    </tr>\n",
              "    <tr>\n",
              "      <th>GenHlth</th>\n",
              "      <td>5.0</td>\n",
              "      <td>3.0</td>\n",
              "      <td>4.0</td>\n",
              "      <td>2.0</td>\n",
              "      <td>1.0</td>\n",
              "      <td>5.0</td>\n",
              "      <td>4.0</td>\n",
              "      <td>4.0</td>\n",
              "      <td>4.0</td>\n",
              "      <td>2.0</td>\n",
              "      <td>...</td>\n",
              "      <td>4.0</td>\n",
              "      <td>2.0</td>\n",
              "      <td>4.0</td>\n",
              "      <td>4.0</td>\n",
              "      <td>4.0</td>\n",
              "      <td>4.0</td>\n",
              "      <td>2.0</td>\n",
              "      <td>5.0</td>\n",
              "      <td>4.0</td>\n",
              "      <td>2.0</td>\n",
              "    </tr>\n",
              "    <tr>\n",
              "      <th>MentHlth</th>\n",
              "      <td>30.0</td>\n",
              "      <td>0.0</td>\n",
              "      <td>0.0</td>\n",
              "      <td>0.0</td>\n",
              "      <td>0.0</td>\n",
              "      <td>0.0</td>\n",
              "      <td>0.0</td>\n",
              "      <td>20.0</td>\n",
              "      <td>0.0</td>\n",
              "      <td>0.0</td>\n",
              "      <td>...</td>\n",
              "      <td>0.0</td>\n",
              "      <td>0.0</td>\n",
              "      <td>30.0</td>\n",
              "      <td>0.0</td>\n",
              "      <td>0.0</td>\n",
              "      <td>0.0</td>\n",
              "      <td>0.0</td>\n",
              "      <td>15.0</td>\n",
              "      <td>0.0</td>\n",
              "      <td>0.0</td>\n",
              "    </tr>\n",
              "    <tr>\n",
              "      <th>PhysHlth</th>\n",
              "      <td>30.0</td>\n",
              "      <td>0.0</td>\n",
              "      <td>0.0</td>\n",
              "      <td>0.0</td>\n",
              "      <td>0.0</td>\n",
              "      <td>0.0</td>\n",
              "      <td>0.0</td>\n",
              "      <td>20.0</td>\n",
              "      <td>7.0</td>\n",
              "      <td>0.0</td>\n",
              "      <td>...</td>\n",
              "      <td>30.0</td>\n",
              "      <td>0.0</td>\n",
              "      <td>5.0</td>\n",
              "      <td>0.0</td>\n",
              "      <td>30.0</td>\n",
              "      <td>0.0</td>\n",
              "      <td>0.0</td>\n",
              "      <td>0.0</td>\n",
              "      <td>0.0</td>\n",
              "      <td>0.0</td>\n",
              "    </tr>\n",
              "    <tr>\n",
              "      <th>DiffWalk</th>\n",
              "      <td>1.0</td>\n",
              "      <td>0.0</td>\n",
              "      <td>1.0</td>\n",
              "      <td>0.0</td>\n",
              "      <td>0.0</td>\n",
              "      <td>1.0</td>\n",
              "      <td>0.0</td>\n",
              "      <td>1.0</td>\n",
              "      <td>1.0</td>\n",
              "      <td>0.0</td>\n",
              "      <td>...</td>\n",
              "      <td>1.0</td>\n",
              "      <td>0.0</td>\n",
              "      <td>0.0</td>\n",
              "      <td>0.0</td>\n",
              "      <td>0.0</td>\n",
              "      <td>0.0</td>\n",
              "      <td>1.0</td>\n",
              "      <td>1.0</td>\n",
              "      <td>1.0</td>\n",
              "      <td>0.0</td>\n",
              "    </tr>\n",
              "    <tr>\n",
              "      <th>Sex</th>\n",
              "      <td>0.0</td>\n",
              "      <td>1.0</td>\n",
              "      <td>0.0</td>\n",
              "      <td>1.0</td>\n",
              "      <td>0.0</td>\n",
              "      <td>1.0</td>\n",
              "      <td>1.0</td>\n",
              "      <td>0.0</td>\n",
              "      <td>0.0</td>\n",
              "      <td>0.0</td>\n",
              "      <td>...</td>\n",
              "      <td>0.0</td>\n",
              "      <td>0.0</td>\n",
              "      <td>1.0</td>\n",
              "      <td>0.0</td>\n",
              "      <td>1.0</td>\n",
              "      <td>0.0</td>\n",
              "      <td>1.0</td>\n",
              "      <td>0.0</td>\n",
              "      <td>0.0</td>\n",
              "      <td>0.0</td>\n",
              "    </tr>\n",
              "    <tr>\n",
              "      <th>Age</th>\n",
              "      <td>9.0</td>\n",
              "      <td>13.0</td>\n",
              "      <td>11.0</td>\n",
              "      <td>7.0</td>\n",
              "      <td>13.0</td>\n",
              "      <td>10.0</td>\n",
              "      <td>12.0</td>\n",
              "      <td>8.0</td>\n",
              "      <td>9.0</td>\n",
              "      <td>12.0</td>\n",
              "      <td>...</td>\n",
              "      <td>9.0</td>\n",
              "      <td>10.0</td>\n",
              "      <td>9.0</td>\n",
              "      <td>7.0</td>\n",
              "      <td>11.0</td>\n",
              "      <td>6.0</td>\n",
              "      <td>10.0</td>\n",
              "      <td>13.0</td>\n",
              "      <td>11.0</td>\n",
              "      <td>9.0</td>\n",
              "    </tr>\n",
              "    <tr>\n",
              "      <th>Education</th>\n",
              "      <td>5.0</td>\n",
              "      <td>6.0</td>\n",
              "      <td>4.0</td>\n",
              "      <td>5.0</td>\n",
              "      <td>5.0</td>\n",
              "      <td>6.0</td>\n",
              "      <td>2.0</td>\n",
              "      <td>4.0</td>\n",
              "      <td>5.0</td>\n",
              "      <td>3.0</td>\n",
              "      <td>...</td>\n",
              "      <td>2.0</td>\n",
              "      <td>4.0</td>\n",
              "      <td>4.0</td>\n",
              "      <td>6.0</td>\n",
              "      <td>2.0</td>\n",
              "      <td>4.0</td>\n",
              "      <td>3.0</td>\n",
              "      <td>6.0</td>\n",
              "      <td>2.0</td>\n",
              "      <td>6.0</td>\n",
              "    </tr>\n",
              "    <tr>\n",
              "      <th>Income</th>\n",
              "      <td>1.0</td>\n",
              "      <td>8.0</td>\n",
              "      <td>6.0</td>\n",
              "      <td>6.0</td>\n",
              "      <td>4.0</td>\n",
              "      <td>5.0</td>\n",
              "      <td>4.0</td>\n",
              "      <td>7.0</td>\n",
              "      <td>4.0</td>\n",
              "      <td>3.0</td>\n",
              "      <td>...</td>\n",
              "      <td>1.0</td>\n",
              "      <td>3.0</td>\n",
              "      <td>5.0</td>\n",
              "      <td>2.0</td>\n",
              "      <td>3.0</td>\n",
              "      <td>1.0</td>\n",
              "      <td>6.0</td>\n",
              "      <td>4.0</td>\n",
              "      <td>4.0</td>\n",
              "      <td>2.0</td>\n",
              "    </tr>\n",
              "  </tbody>\n",
              "</table>\n",
              "<p>22 rows × 35346 columns</p>\n",
              "</div>\n",
              "      <button class=\"colab-df-convert\" onclick=\"convertToInteractive('df-ae5b1678-ae80-47df-add3-7c6de50cfcd2')\"\n",
              "              title=\"Convert this dataframe to an interactive table.\"\n",
              "              style=\"display:none;\">\n",
              "        \n",
              "  <svg xmlns=\"http://www.w3.org/2000/svg\" height=\"24px\"viewBox=\"0 0 24 24\"\n",
              "       width=\"24px\">\n",
              "    <path d=\"M0 0h24v24H0V0z\" fill=\"none\"/>\n",
              "    <path d=\"M18.56 5.44l.94 2.06.94-2.06 2.06-.94-2.06-.94-.94-2.06-.94 2.06-2.06.94zm-11 1L8.5 8.5l.94-2.06 2.06-.94-2.06-.94L8.5 2.5l-.94 2.06-2.06.94zm10 10l.94 2.06.94-2.06 2.06-.94-2.06-.94-.94-2.06-.94 2.06-2.06.94z\"/><path d=\"M17.41 7.96l-1.37-1.37c-.4-.4-.92-.59-1.43-.59-.52 0-1.04.2-1.43.59L10.3 9.45l-7.72 7.72c-.78.78-.78 2.05 0 2.83L4 21.41c.39.39.9.59 1.41.59.51 0 1.02-.2 1.41-.59l7.78-7.78 2.81-2.81c.8-.78.8-2.07 0-2.86zM5.41 20L4 18.59l7.72-7.72 1.47 1.35L5.41 20z\"/>\n",
              "  </svg>\n",
              "      </button>\n",
              "      \n",
              "  <style>\n",
              "    .colab-df-container {\n",
              "      display:flex;\n",
              "      flex-wrap:wrap;\n",
              "      gap: 12px;\n",
              "    }\n",
              "\n",
              "    .colab-df-convert {\n",
              "      background-color: #E8F0FE;\n",
              "      border: none;\n",
              "      border-radius: 50%;\n",
              "      cursor: pointer;\n",
              "      display: none;\n",
              "      fill: #1967D2;\n",
              "      height: 32px;\n",
              "      padding: 0 0 0 0;\n",
              "      width: 32px;\n",
              "    }\n",
              "\n",
              "    .colab-df-convert:hover {\n",
              "      background-color: #E2EBFA;\n",
              "      box-shadow: 0px 1px 2px rgba(60, 64, 67, 0.3), 0px 1px 3px 1px rgba(60, 64, 67, 0.15);\n",
              "      fill: #174EA6;\n",
              "    }\n",
              "\n",
              "    [theme=dark] .colab-df-convert {\n",
              "      background-color: #3B4455;\n",
              "      fill: #D2E3FC;\n",
              "    }\n",
              "\n",
              "    [theme=dark] .colab-df-convert:hover {\n",
              "      background-color: #434B5C;\n",
              "      box-shadow: 0px 1px 3px 1px rgba(0, 0, 0, 0.15);\n",
              "      filter: drop-shadow(0px 1px 2px rgba(0, 0, 0, 0.3));\n",
              "      fill: #FFFFFF;\n",
              "    }\n",
              "  </style>\n",
              "\n",
              "      <script>\n",
              "        const buttonEl =\n",
              "          document.querySelector('#df-ae5b1678-ae80-47df-add3-7c6de50cfcd2 button.colab-df-convert');\n",
              "        buttonEl.style.display =\n",
              "          google.colab.kernel.accessAllowed ? 'block' : 'none';\n",
              "\n",
              "        async function convertToInteractive(key) {\n",
              "          const element = document.querySelector('#df-ae5b1678-ae80-47df-add3-7c6de50cfcd2');\n",
              "          const dataTable =\n",
              "            await google.colab.kernel.invokeFunction('convertToInteractive',\n",
              "                                                     [key], {});\n",
              "          if (!dataTable) return;\n",
              "\n",
              "          const docLinkHtml = 'Like what you see? Visit the ' +\n",
              "            '<a target=\"_blank\" href=https://colab.research.google.com/notebooks/data_table.ipynb>data table notebook</a>'\n",
              "            + ' to learn more about interactive tables.';\n",
              "          element.innerHTML = '';\n",
              "          dataTable['output_type'] = 'display_data';\n",
              "          await google.colab.output.renderOutput(dataTable, element);\n",
              "          const docLink = document.createElement('div');\n",
              "          docLink.innerHTML = docLinkHtml;\n",
              "          element.appendChild(docLink);\n",
              "        }\n",
              "      </script>\n",
              "    </div>\n",
              "  </div>\n",
              "  "
            ]
          },
          "metadata": {},
          "execution_count": 5
        }
      ],
      "source": [
        "dia[dia['Diabetes_binary']==1].T"
      ]
    },
    {
      "cell_type": "markdown",
      "metadata": {
        "id": "fD6vSQOIypIF"
      },
      "source": [
        "# Exploratory Data Analysis"
      ]
    },
    {
      "cell_type": "code",
      "execution_count": null,
      "metadata": {
        "colab": {
          "base_uri": "https://localhost:8080/"
        },
        "id": "9JouSBBvS9Q_",
        "outputId": "6550eb1f-8a2a-4304-eb85-5fa8b33780ec"
      },
      "outputs": [
        {
          "output_type": "stream",
          "name": "stdout",
          "text": [
            "<class 'pandas.core.frame.DataFrame'>\n",
            "RangeIndex: 70692 entries, 0 to 70691\n",
            "Data columns (total 22 columns):\n",
            " #   Column                Non-Null Count  Dtype  \n",
            "---  ------                --------------  -----  \n",
            " 0   Diabetes_binary       70692 non-null  float64\n",
            " 1   HighBP                70692 non-null  float64\n",
            " 2   HighChol              70692 non-null  float64\n",
            " 3   CholCheck             70692 non-null  float64\n",
            " 4   BMI                   70692 non-null  float64\n",
            " 5   Smoker                70692 non-null  float64\n",
            " 6   Stroke                70692 non-null  float64\n",
            " 7   HeartDiseaseorAttack  70692 non-null  float64\n",
            " 8   PhysActivity          70692 non-null  float64\n",
            " 9   Fruits                70692 non-null  float64\n",
            " 10  Veggies               70692 non-null  float64\n",
            " 11  HvyAlcoholConsump     70692 non-null  float64\n",
            " 12  AnyHealthcare         70692 non-null  float64\n",
            " 13  NoDocbcCost           70692 non-null  float64\n",
            " 14  GenHlth               70692 non-null  float64\n",
            " 15  MentHlth              70692 non-null  float64\n",
            " 16  PhysHlth              70692 non-null  float64\n",
            " 17  DiffWalk              70692 non-null  float64\n",
            " 18  Sex                   70692 non-null  float64\n",
            " 19  Age                   70692 non-null  float64\n",
            " 20  Education             70692 non-null  float64\n",
            " 21  Income                70692 non-null  float64\n",
            "dtypes: float64(22)\n",
            "memory usage: 11.9 MB\n"
          ]
        }
      ],
      "source": [
        "dia.info()"
      ]
    },
    {
      "cell_type": "code",
      "execution_count": null,
      "metadata": {
        "colab": {
          "base_uri": "https://localhost:8080/"
        },
        "id": "SVKO-BOhSw_o",
        "outputId": "f09679c6-9152-4ef7-b699-8e4d18e0f481"
      },
      "outputs": [
        {
          "output_type": "execute_result",
          "data": {
            "text/plain": [
              "Diabetes_binary         0\n",
              "HighBP                  0\n",
              "HighChol                0\n",
              "CholCheck               0\n",
              "BMI                     0\n",
              "Smoker                  0\n",
              "Stroke                  0\n",
              "HeartDiseaseorAttack    0\n",
              "PhysActivity            0\n",
              "Fruits                  0\n",
              "Veggies                 0\n",
              "HvyAlcoholConsump       0\n",
              "AnyHealthcare           0\n",
              "NoDocbcCost             0\n",
              "GenHlth                 0\n",
              "MentHlth                0\n",
              "PhysHlth                0\n",
              "DiffWalk                0\n",
              "Sex                     0\n",
              "Age                     0\n",
              "Education               0\n",
              "Income                  0\n",
              "dtype: int64"
            ]
          },
          "metadata": {},
          "execution_count": 7
        }
      ],
      "source": [
        "dia.isna().sum()"
      ]
    },
    {
      "cell_type": "code",
      "execution_count": null,
      "metadata": {
        "colab": {
          "base_uri": "https://localhost:8080/",
          "height": 739
        },
        "id": "4j13akc5S9Kb",
        "outputId": "d3841557-df6c-45e3-861d-e6812aba014f"
      },
      "outputs": [
        {
          "output_type": "execute_result",
          "data": {
            "text/plain": [
              "                         0     1     2     3     4\n",
              "Diabetes_binary        0.0   0.0   0.0   0.0   0.0\n",
              "HighBP                 1.0   1.0   0.0   1.0   0.0\n",
              "HighChol               0.0   1.0   0.0   1.0   0.0\n",
              "CholCheck              1.0   1.0   1.0   1.0   1.0\n",
              "BMI                   26.0  26.0  26.0  28.0  29.0\n",
              "Smoker                 0.0   1.0   0.0   1.0   1.0\n",
              "Stroke                 0.0   1.0   0.0   0.0   0.0\n",
              "HeartDiseaseorAttack   0.0   0.0   0.0   0.0   0.0\n",
              "PhysActivity           1.0   0.0   1.0   1.0   1.0\n",
              "Fruits                 0.0   1.0   1.0   1.0   1.0\n",
              "Veggies                1.0   0.0   1.0   1.0   1.0\n",
              "HvyAlcoholConsump      0.0   0.0   0.0   0.0   0.0\n",
              "AnyHealthcare          1.0   1.0   1.0   1.0   1.0\n",
              "NoDocbcCost            0.0   0.0   0.0   0.0   0.0\n",
              "GenHlth                3.0   3.0   1.0   3.0   2.0\n",
              "MentHlth               5.0   0.0   0.0   0.0   0.0\n",
              "PhysHlth              30.0   0.0  10.0   3.0   0.0\n",
              "DiffWalk               0.0   0.0   0.0   0.0   0.0\n",
              "Sex                    1.0   1.0   1.0   1.0   0.0\n",
              "Age                    4.0  12.0  13.0  11.0   8.0\n",
              "Education              6.0   6.0   6.0   6.0   5.0\n",
              "Income                 8.0   8.0   8.0   8.0   8.0"
            ],
            "text/html": [
              "\n",
              "  <div id=\"df-cca1de6c-7dea-45fb-87ab-b603bbbbf61b\">\n",
              "    <div class=\"colab-df-container\">\n",
              "      <div>\n",
              "<style scoped>\n",
              "    .dataframe tbody tr th:only-of-type {\n",
              "        vertical-align: middle;\n",
              "    }\n",
              "\n",
              "    .dataframe tbody tr th {\n",
              "        vertical-align: top;\n",
              "    }\n",
              "\n",
              "    .dataframe thead th {\n",
              "        text-align: right;\n",
              "    }\n",
              "</style>\n",
              "<table border=\"1\" class=\"dataframe\">\n",
              "  <thead>\n",
              "    <tr style=\"text-align: right;\">\n",
              "      <th></th>\n",
              "      <th>0</th>\n",
              "      <th>1</th>\n",
              "      <th>2</th>\n",
              "      <th>3</th>\n",
              "      <th>4</th>\n",
              "    </tr>\n",
              "  </thead>\n",
              "  <tbody>\n",
              "    <tr>\n",
              "      <th>Diabetes_binary</th>\n",
              "      <td>0.0</td>\n",
              "      <td>0.0</td>\n",
              "      <td>0.0</td>\n",
              "      <td>0.0</td>\n",
              "      <td>0.0</td>\n",
              "    </tr>\n",
              "    <tr>\n",
              "      <th>HighBP</th>\n",
              "      <td>1.0</td>\n",
              "      <td>1.0</td>\n",
              "      <td>0.0</td>\n",
              "      <td>1.0</td>\n",
              "      <td>0.0</td>\n",
              "    </tr>\n",
              "    <tr>\n",
              "      <th>HighChol</th>\n",
              "      <td>0.0</td>\n",
              "      <td>1.0</td>\n",
              "      <td>0.0</td>\n",
              "      <td>1.0</td>\n",
              "      <td>0.0</td>\n",
              "    </tr>\n",
              "    <tr>\n",
              "      <th>CholCheck</th>\n",
              "      <td>1.0</td>\n",
              "      <td>1.0</td>\n",
              "      <td>1.0</td>\n",
              "      <td>1.0</td>\n",
              "      <td>1.0</td>\n",
              "    </tr>\n",
              "    <tr>\n",
              "      <th>BMI</th>\n",
              "      <td>26.0</td>\n",
              "      <td>26.0</td>\n",
              "      <td>26.0</td>\n",
              "      <td>28.0</td>\n",
              "      <td>29.0</td>\n",
              "    </tr>\n",
              "    <tr>\n",
              "      <th>Smoker</th>\n",
              "      <td>0.0</td>\n",
              "      <td>1.0</td>\n",
              "      <td>0.0</td>\n",
              "      <td>1.0</td>\n",
              "      <td>1.0</td>\n",
              "    </tr>\n",
              "    <tr>\n",
              "      <th>Stroke</th>\n",
              "      <td>0.0</td>\n",
              "      <td>1.0</td>\n",
              "      <td>0.0</td>\n",
              "      <td>0.0</td>\n",
              "      <td>0.0</td>\n",
              "    </tr>\n",
              "    <tr>\n",
              "      <th>HeartDiseaseorAttack</th>\n",
              "      <td>0.0</td>\n",
              "      <td>0.0</td>\n",
              "      <td>0.0</td>\n",
              "      <td>0.0</td>\n",
              "      <td>0.0</td>\n",
              "    </tr>\n",
              "    <tr>\n",
              "      <th>PhysActivity</th>\n",
              "      <td>1.0</td>\n",
              "      <td>0.0</td>\n",
              "      <td>1.0</td>\n",
              "      <td>1.0</td>\n",
              "      <td>1.0</td>\n",
              "    </tr>\n",
              "    <tr>\n",
              "      <th>Fruits</th>\n",
              "      <td>0.0</td>\n",
              "      <td>1.0</td>\n",
              "      <td>1.0</td>\n",
              "      <td>1.0</td>\n",
              "      <td>1.0</td>\n",
              "    </tr>\n",
              "    <tr>\n",
              "      <th>Veggies</th>\n",
              "      <td>1.0</td>\n",
              "      <td>0.0</td>\n",
              "      <td>1.0</td>\n",
              "      <td>1.0</td>\n",
              "      <td>1.0</td>\n",
              "    </tr>\n",
              "    <tr>\n",
              "      <th>HvyAlcoholConsump</th>\n",
              "      <td>0.0</td>\n",
              "      <td>0.0</td>\n",
              "      <td>0.0</td>\n",
              "      <td>0.0</td>\n",
              "      <td>0.0</td>\n",
              "    </tr>\n",
              "    <tr>\n",
              "      <th>AnyHealthcare</th>\n",
              "      <td>1.0</td>\n",
              "      <td>1.0</td>\n",
              "      <td>1.0</td>\n",
              "      <td>1.0</td>\n",
              "      <td>1.0</td>\n",
              "    </tr>\n",
              "    <tr>\n",
              "      <th>NoDocbcCost</th>\n",
              "      <td>0.0</td>\n",
              "      <td>0.0</td>\n",
              "      <td>0.0</td>\n",
              "      <td>0.0</td>\n",
              "      <td>0.0</td>\n",
              "    </tr>\n",
              "    <tr>\n",
              "      <th>GenHlth</th>\n",
              "      <td>3.0</td>\n",
              "      <td>3.0</td>\n",
              "      <td>1.0</td>\n",
              "      <td>3.0</td>\n",
              "      <td>2.0</td>\n",
              "    </tr>\n",
              "    <tr>\n",
              "      <th>MentHlth</th>\n",
              "      <td>5.0</td>\n",
              "      <td>0.0</td>\n",
              "      <td>0.0</td>\n",
              "      <td>0.0</td>\n",
              "      <td>0.0</td>\n",
              "    </tr>\n",
              "    <tr>\n",
              "      <th>PhysHlth</th>\n",
              "      <td>30.0</td>\n",
              "      <td>0.0</td>\n",
              "      <td>10.0</td>\n",
              "      <td>3.0</td>\n",
              "      <td>0.0</td>\n",
              "    </tr>\n",
              "    <tr>\n",
              "      <th>DiffWalk</th>\n",
              "      <td>0.0</td>\n",
              "      <td>0.0</td>\n",
              "      <td>0.0</td>\n",
              "      <td>0.0</td>\n",
              "      <td>0.0</td>\n",
              "    </tr>\n",
              "    <tr>\n",
              "      <th>Sex</th>\n",
              "      <td>1.0</td>\n",
              "      <td>1.0</td>\n",
              "      <td>1.0</td>\n",
              "      <td>1.0</td>\n",
              "      <td>0.0</td>\n",
              "    </tr>\n",
              "    <tr>\n",
              "      <th>Age</th>\n",
              "      <td>4.0</td>\n",
              "      <td>12.0</td>\n",
              "      <td>13.0</td>\n",
              "      <td>11.0</td>\n",
              "      <td>8.0</td>\n",
              "    </tr>\n",
              "    <tr>\n",
              "      <th>Education</th>\n",
              "      <td>6.0</td>\n",
              "      <td>6.0</td>\n",
              "      <td>6.0</td>\n",
              "      <td>6.0</td>\n",
              "      <td>5.0</td>\n",
              "    </tr>\n",
              "    <tr>\n",
              "      <th>Income</th>\n",
              "      <td>8.0</td>\n",
              "      <td>8.0</td>\n",
              "      <td>8.0</td>\n",
              "      <td>8.0</td>\n",
              "      <td>8.0</td>\n",
              "    </tr>\n",
              "  </tbody>\n",
              "</table>\n",
              "</div>\n",
              "      <button class=\"colab-df-convert\" onclick=\"convertToInteractive('df-cca1de6c-7dea-45fb-87ab-b603bbbbf61b')\"\n",
              "              title=\"Convert this dataframe to an interactive table.\"\n",
              "              style=\"display:none;\">\n",
              "        \n",
              "  <svg xmlns=\"http://www.w3.org/2000/svg\" height=\"24px\"viewBox=\"0 0 24 24\"\n",
              "       width=\"24px\">\n",
              "    <path d=\"M0 0h24v24H0V0z\" fill=\"none\"/>\n",
              "    <path d=\"M18.56 5.44l.94 2.06.94-2.06 2.06-.94-2.06-.94-.94-2.06-.94 2.06-2.06.94zm-11 1L8.5 8.5l.94-2.06 2.06-.94-2.06-.94L8.5 2.5l-.94 2.06-2.06.94zm10 10l.94 2.06.94-2.06 2.06-.94-2.06-.94-.94-2.06-.94 2.06-2.06.94z\"/><path d=\"M17.41 7.96l-1.37-1.37c-.4-.4-.92-.59-1.43-.59-.52 0-1.04.2-1.43.59L10.3 9.45l-7.72 7.72c-.78.78-.78 2.05 0 2.83L4 21.41c.39.39.9.59 1.41.59.51 0 1.02-.2 1.41-.59l7.78-7.78 2.81-2.81c.8-.78.8-2.07 0-2.86zM5.41 20L4 18.59l7.72-7.72 1.47 1.35L5.41 20z\"/>\n",
              "  </svg>\n",
              "      </button>\n",
              "      \n",
              "  <style>\n",
              "    .colab-df-container {\n",
              "      display:flex;\n",
              "      flex-wrap:wrap;\n",
              "      gap: 12px;\n",
              "    }\n",
              "\n",
              "    .colab-df-convert {\n",
              "      background-color: #E8F0FE;\n",
              "      border: none;\n",
              "      border-radius: 50%;\n",
              "      cursor: pointer;\n",
              "      display: none;\n",
              "      fill: #1967D2;\n",
              "      height: 32px;\n",
              "      padding: 0 0 0 0;\n",
              "      width: 32px;\n",
              "    }\n",
              "\n",
              "    .colab-df-convert:hover {\n",
              "      background-color: #E2EBFA;\n",
              "      box-shadow: 0px 1px 2px rgba(60, 64, 67, 0.3), 0px 1px 3px 1px rgba(60, 64, 67, 0.15);\n",
              "      fill: #174EA6;\n",
              "    }\n",
              "\n",
              "    [theme=dark] .colab-df-convert {\n",
              "      background-color: #3B4455;\n",
              "      fill: #D2E3FC;\n",
              "    }\n",
              "\n",
              "    [theme=dark] .colab-df-convert:hover {\n",
              "      background-color: #434B5C;\n",
              "      box-shadow: 0px 1px 3px 1px rgba(0, 0, 0, 0.15);\n",
              "      filter: drop-shadow(0px 1px 2px rgba(0, 0, 0, 0.3));\n",
              "      fill: #FFFFFF;\n",
              "    }\n",
              "  </style>\n",
              "\n",
              "      <script>\n",
              "        const buttonEl =\n",
              "          document.querySelector('#df-cca1de6c-7dea-45fb-87ab-b603bbbbf61b button.colab-df-convert');\n",
              "        buttonEl.style.display =\n",
              "          google.colab.kernel.accessAllowed ? 'block' : 'none';\n",
              "\n",
              "        async function convertToInteractive(key) {\n",
              "          const element = document.querySelector('#df-cca1de6c-7dea-45fb-87ab-b603bbbbf61b');\n",
              "          const dataTable =\n",
              "            await google.colab.kernel.invokeFunction('convertToInteractive',\n",
              "                                                     [key], {});\n",
              "          if (!dataTable) return;\n",
              "\n",
              "          const docLinkHtml = 'Like what you see? Visit the ' +\n",
              "            '<a target=\"_blank\" href=https://colab.research.google.com/notebooks/data_table.ipynb>data table notebook</a>'\n",
              "            + ' to learn more about interactive tables.';\n",
              "          element.innerHTML = '';\n",
              "          dataTable['output_type'] = 'display_data';\n",
              "          await google.colab.output.renderOutput(dataTable, element);\n",
              "          const docLink = document.createElement('div');\n",
              "          docLink.innerHTML = docLinkHtml;\n",
              "          element.appendChild(docLink);\n",
              "        }\n",
              "      </script>\n",
              "    </div>\n",
              "  </div>\n",
              "  "
            ]
          },
          "metadata": {},
          "execution_count": 8
        }
      ],
      "source": [
        "dia.head().T"
      ]
    },
    {
      "cell_type": "code",
      "execution_count": null,
      "metadata": {
        "id": "vRERf8XETHRk"
      },
      "outputs": [],
      "source": [
        "dia.drop(\"Education\",axis=1,inplace=True)"
      ]
    },
    {
      "cell_type": "code",
      "execution_count": null,
      "metadata": {
        "colab": {
          "base_uri": "https://localhost:8080/",
          "height": 708
        },
        "id": "QeAZvY_XT4ph",
        "outputId": "2b7a468a-5061-4331-e98f-178f8955358d"
      },
      "outputs": [
        {
          "output_type": "execute_result",
          "data": {
            "text/plain": [
              "                         0     1     2     3     4\n",
              "Diabetes_binary        0.0   0.0   0.0   0.0   0.0\n",
              "HighBP                 1.0   1.0   0.0   1.0   0.0\n",
              "HighChol               0.0   1.0   0.0   1.0   0.0\n",
              "CholCheck              1.0   1.0   1.0   1.0   1.0\n",
              "BMI                   26.0  26.0  26.0  28.0  29.0\n",
              "Smoker                 0.0   1.0   0.0   1.0   1.0\n",
              "Stroke                 0.0   1.0   0.0   0.0   0.0\n",
              "HeartDiseaseorAttack   0.0   0.0   0.0   0.0   0.0\n",
              "PhysActivity           1.0   0.0   1.0   1.0   1.0\n",
              "Fruits                 0.0   1.0   1.0   1.0   1.0\n",
              "Veggies                1.0   0.0   1.0   1.0   1.0\n",
              "HvyAlcoholConsump      0.0   0.0   0.0   0.0   0.0\n",
              "AnyHealthcare          1.0   1.0   1.0   1.0   1.0\n",
              "NoDocbcCost            0.0   0.0   0.0   0.0   0.0\n",
              "GenHlth                3.0   3.0   1.0   3.0   2.0\n",
              "MentHlth               5.0   0.0   0.0   0.0   0.0\n",
              "PhysHlth              30.0   0.0  10.0   3.0   0.0\n",
              "DiffWalk               0.0   0.0   0.0   0.0   0.0\n",
              "Sex                    1.0   1.0   1.0   1.0   0.0\n",
              "Age                    4.0  12.0  13.0  11.0   8.0\n",
              "Income                 8.0   8.0   8.0   8.0   8.0"
            ],
            "text/html": [
              "\n",
              "  <div id=\"df-f638efa5-a199-4080-a44b-4d94ed6dcd1b\">\n",
              "    <div class=\"colab-df-container\">\n",
              "      <div>\n",
              "<style scoped>\n",
              "    .dataframe tbody tr th:only-of-type {\n",
              "        vertical-align: middle;\n",
              "    }\n",
              "\n",
              "    .dataframe tbody tr th {\n",
              "        vertical-align: top;\n",
              "    }\n",
              "\n",
              "    .dataframe thead th {\n",
              "        text-align: right;\n",
              "    }\n",
              "</style>\n",
              "<table border=\"1\" class=\"dataframe\">\n",
              "  <thead>\n",
              "    <tr style=\"text-align: right;\">\n",
              "      <th></th>\n",
              "      <th>0</th>\n",
              "      <th>1</th>\n",
              "      <th>2</th>\n",
              "      <th>3</th>\n",
              "      <th>4</th>\n",
              "    </tr>\n",
              "  </thead>\n",
              "  <tbody>\n",
              "    <tr>\n",
              "      <th>Diabetes_binary</th>\n",
              "      <td>0.0</td>\n",
              "      <td>0.0</td>\n",
              "      <td>0.0</td>\n",
              "      <td>0.0</td>\n",
              "      <td>0.0</td>\n",
              "    </tr>\n",
              "    <tr>\n",
              "      <th>HighBP</th>\n",
              "      <td>1.0</td>\n",
              "      <td>1.0</td>\n",
              "      <td>0.0</td>\n",
              "      <td>1.0</td>\n",
              "      <td>0.0</td>\n",
              "    </tr>\n",
              "    <tr>\n",
              "      <th>HighChol</th>\n",
              "      <td>0.0</td>\n",
              "      <td>1.0</td>\n",
              "      <td>0.0</td>\n",
              "      <td>1.0</td>\n",
              "      <td>0.0</td>\n",
              "    </tr>\n",
              "    <tr>\n",
              "      <th>CholCheck</th>\n",
              "      <td>1.0</td>\n",
              "      <td>1.0</td>\n",
              "      <td>1.0</td>\n",
              "      <td>1.0</td>\n",
              "      <td>1.0</td>\n",
              "    </tr>\n",
              "    <tr>\n",
              "      <th>BMI</th>\n",
              "      <td>26.0</td>\n",
              "      <td>26.0</td>\n",
              "      <td>26.0</td>\n",
              "      <td>28.0</td>\n",
              "      <td>29.0</td>\n",
              "    </tr>\n",
              "    <tr>\n",
              "      <th>Smoker</th>\n",
              "      <td>0.0</td>\n",
              "      <td>1.0</td>\n",
              "      <td>0.0</td>\n",
              "      <td>1.0</td>\n",
              "      <td>1.0</td>\n",
              "    </tr>\n",
              "    <tr>\n",
              "      <th>Stroke</th>\n",
              "      <td>0.0</td>\n",
              "      <td>1.0</td>\n",
              "      <td>0.0</td>\n",
              "      <td>0.0</td>\n",
              "      <td>0.0</td>\n",
              "    </tr>\n",
              "    <tr>\n",
              "      <th>HeartDiseaseorAttack</th>\n",
              "      <td>0.0</td>\n",
              "      <td>0.0</td>\n",
              "      <td>0.0</td>\n",
              "      <td>0.0</td>\n",
              "      <td>0.0</td>\n",
              "    </tr>\n",
              "    <tr>\n",
              "      <th>PhysActivity</th>\n",
              "      <td>1.0</td>\n",
              "      <td>0.0</td>\n",
              "      <td>1.0</td>\n",
              "      <td>1.0</td>\n",
              "      <td>1.0</td>\n",
              "    </tr>\n",
              "    <tr>\n",
              "      <th>Fruits</th>\n",
              "      <td>0.0</td>\n",
              "      <td>1.0</td>\n",
              "      <td>1.0</td>\n",
              "      <td>1.0</td>\n",
              "      <td>1.0</td>\n",
              "    </tr>\n",
              "    <tr>\n",
              "      <th>Veggies</th>\n",
              "      <td>1.0</td>\n",
              "      <td>0.0</td>\n",
              "      <td>1.0</td>\n",
              "      <td>1.0</td>\n",
              "      <td>1.0</td>\n",
              "    </tr>\n",
              "    <tr>\n",
              "      <th>HvyAlcoholConsump</th>\n",
              "      <td>0.0</td>\n",
              "      <td>0.0</td>\n",
              "      <td>0.0</td>\n",
              "      <td>0.0</td>\n",
              "      <td>0.0</td>\n",
              "    </tr>\n",
              "    <tr>\n",
              "      <th>AnyHealthcare</th>\n",
              "      <td>1.0</td>\n",
              "      <td>1.0</td>\n",
              "      <td>1.0</td>\n",
              "      <td>1.0</td>\n",
              "      <td>1.0</td>\n",
              "    </tr>\n",
              "    <tr>\n",
              "      <th>NoDocbcCost</th>\n",
              "      <td>0.0</td>\n",
              "      <td>0.0</td>\n",
              "      <td>0.0</td>\n",
              "      <td>0.0</td>\n",
              "      <td>0.0</td>\n",
              "    </tr>\n",
              "    <tr>\n",
              "      <th>GenHlth</th>\n",
              "      <td>3.0</td>\n",
              "      <td>3.0</td>\n",
              "      <td>1.0</td>\n",
              "      <td>3.0</td>\n",
              "      <td>2.0</td>\n",
              "    </tr>\n",
              "    <tr>\n",
              "      <th>MentHlth</th>\n",
              "      <td>5.0</td>\n",
              "      <td>0.0</td>\n",
              "      <td>0.0</td>\n",
              "      <td>0.0</td>\n",
              "      <td>0.0</td>\n",
              "    </tr>\n",
              "    <tr>\n",
              "      <th>PhysHlth</th>\n",
              "      <td>30.0</td>\n",
              "      <td>0.0</td>\n",
              "      <td>10.0</td>\n",
              "      <td>3.0</td>\n",
              "      <td>0.0</td>\n",
              "    </tr>\n",
              "    <tr>\n",
              "      <th>DiffWalk</th>\n",
              "      <td>0.0</td>\n",
              "      <td>0.0</td>\n",
              "      <td>0.0</td>\n",
              "      <td>0.0</td>\n",
              "      <td>0.0</td>\n",
              "    </tr>\n",
              "    <tr>\n",
              "      <th>Sex</th>\n",
              "      <td>1.0</td>\n",
              "      <td>1.0</td>\n",
              "      <td>1.0</td>\n",
              "      <td>1.0</td>\n",
              "      <td>0.0</td>\n",
              "    </tr>\n",
              "    <tr>\n",
              "      <th>Age</th>\n",
              "      <td>4.0</td>\n",
              "      <td>12.0</td>\n",
              "      <td>13.0</td>\n",
              "      <td>11.0</td>\n",
              "      <td>8.0</td>\n",
              "    </tr>\n",
              "    <tr>\n",
              "      <th>Income</th>\n",
              "      <td>8.0</td>\n",
              "      <td>8.0</td>\n",
              "      <td>8.0</td>\n",
              "      <td>8.0</td>\n",
              "      <td>8.0</td>\n",
              "    </tr>\n",
              "  </tbody>\n",
              "</table>\n",
              "</div>\n",
              "      <button class=\"colab-df-convert\" onclick=\"convertToInteractive('df-f638efa5-a199-4080-a44b-4d94ed6dcd1b')\"\n",
              "              title=\"Convert this dataframe to an interactive table.\"\n",
              "              style=\"display:none;\">\n",
              "        \n",
              "  <svg xmlns=\"http://www.w3.org/2000/svg\" height=\"24px\"viewBox=\"0 0 24 24\"\n",
              "       width=\"24px\">\n",
              "    <path d=\"M0 0h24v24H0V0z\" fill=\"none\"/>\n",
              "    <path d=\"M18.56 5.44l.94 2.06.94-2.06 2.06-.94-2.06-.94-.94-2.06-.94 2.06-2.06.94zm-11 1L8.5 8.5l.94-2.06 2.06-.94-2.06-.94L8.5 2.5l-.94 2.06-2.06.94zm10 10l.94 2.06.94-2.06 2.06-.94-2.06-.94-.94-2.06-.94 2.06-2.06.94z\"/><path d=\"M17.41 7.96l-1.37-1.37c-.4-.4-.92-.59-1.43-.59-.52 0-1.04.2-1.43.59L10.3 9.45l-7.72 7.72c-.78.78-.78 2.05 0 2.83L4 21.41c.39.39.9.59 1.41.59.51 0 1.02-.2 1.41-.59l7.78-7.78 2.81-2.81c.8-.78.8-2.07 0-2.86zM5.41 20L4 18.59l7.72-7.72 1.47 1.35L5.41 20z\"/>\n",
              "  </svg>\n",
              "      </button>\n",
              "      \n",
              "  <style>\n",
              "    .colab-df-container {\n",
              "      display:flex;\n",
              "      flex-wrap:wrap;\n",
              "      gap: 12px;\n",
              "    }\n",
              "\n",
              "    .colab-df-convert {\n",
              "      background-color: #E8F0FE;\n",
              "      border: none;\n",
              "      border-radius: 50%;\n",
              "      cursor: pointer;\n",
              "      display: none;\n",
              "      fill: #1967D2;\n",
              "      height: 32px;\n",
              "      padding: 0 0 0 0;\n",
              "      width: 32px;\n",
              "    }\n",
              "\n",
              "    .colab-df-convert:hover {\n",
              "      background-color: #E2EBFA;\n",
              "      box-shadow: 0px 1px 2px rgba(60, 64, 67, 0.3), 0px 1px 3px 1px rgba(60, 64, 67, 0.15);\n",
              "      fill: #174EA6;\n",
              "    }\n",
              "\n",
              "    [theme=dark] .colab-df-convert {\n",
              "      background-color: #3B4455;\n",
              "      fill: #D2E3FC;\n",
              "    }\n",
              "\n",
              "    [theme=dark] .colab-df-convert:hover {\n",
              "      background-color: #434B5C;\n",
              "      box-shadow: 0px 1px 3px 1px rgba(0, 0, 0, 0.15);\n",
              "      filter: drop-shadow(0px 1px 2px rgba(0, 0, 0, 0.3));\n",
              "      fill: #FFFFFF;\n",
              "    }\n",
              "  </style>\n",
              "\n",
              "      <script>\n",
              "        const buttonEl =\n",
              "          document.querySelector('#df-f638efa5-a199-4080-a44b-4d94ed6dcd1b button.colab-df-convert');\n",
              "        buttonEl.style.display =\n",
              "          google.colab.kernel.accessAllowed ? 'block' : 'none';\n",
              "\n",
              "        async function convertToInteractive(key) {\n",
              "          const element = document.querySelector('#df-f638efa5-a199-4080-a44b-4d94ed6dcd1b');\n",
              "          const dataTable =\n",
              "            await google.colab.kernel.invokeFunction('convertToInteractive',\n",
              "                                                     [key], {});\n",
              "          if (!dataTable) return;\n",
              "\n",
              "          const docLinkHtml = 'Like what you see? Visit the ' +\n",
              "            '<a target=\"_blank\" href=https://colab.research.google.com/notebooks/data_table.ipynb>data table notebook</a>'\n",
              "            + ' to learn more about interactive tables.';\n",
              "          element.innerHTML = '';\n",
              "          dataTable['output_type'] = 'display_data';\n",
              "          await google.colab.output.renderOutput(dataTable, element);\n",
              "          const docLink = document.createElement('div');\n",
              "          docLink.innerHTML = docLinkHtml;\n",
              "          element.appendChild(docLink);\n",
              "        }\n",
              "      </script>\n",
              "    </div>\n",
              "  </div>\n",
              "  "
            ]
          },
          "metadata": {},
          "execution_count": 10
        }
      ],
      "source": [
        "dia.head().T"
      ]
    },
    {
      "cell_type": "markdown",
      "metadata": {
        "id": "P7FHwEHGyvlr"
      },
      "source": [
        "*Checking the Value Counts Graphically*"
      ]
    },
    {
      "cell_type": "code",
      "execution_count": null,
      "metadata": {
        "colab": {
          "base_uri": "https://localhost:8080/",
          "height": 1000
        },
        "id": "hxLRw3YeUKBA",
        "outputId": "e2eaa913-4efc-4932-d761-5ff6f11a2ad4"
      },
      "outputs": [
        {
          "output_type": "display_data",
          "data": {
            "text/plain": [
              "<Figure size 3600x3600 with 25 Axes>"
            ],
            "image/png": "[encoded data removed]"
          },
          "metadata": {
            "needs_background": "light"
          }
        }
      ],
      "source": [
        "dia.hist(figsize=(50,50), bins=50, color=\"red\");"
      ]
    },
    {
      "cell_type": "markdown",
      "metadata": {
        "id": "3uIZu1hGy5i6"
      },
      "source": [
        "***Correlation***"
      ]
    },
    {
      "cell_type": "code",
      "execution_count": null,
      "metadata": {
        "colab": {
          "base_uri": "https://localhost:8080/",
          "height": 586
        },
        "id": "vkCrbxSkU3Jm",
        "outputId": "f008495c-e166-46bf-aed9-1b2a41fd89f2"
      },
      "outputs": [
        {
          "output_type": "display_data",
          "data": {
            "text/plain": [
              "<Figure size 720x576 with 2 Axes>"
            ],
            "image/png": "[encoded data removed]"
          },
          "metadata": {
            "needs_background": "light"
          }
        }
      ],
      "source": [
        "corr_matrix = dia.corr()\n",
        "fig , ax = plt.subplots(figsize=(10,8))\n",
        "ax = sns.heatmap(corr_matrix,\n",
        "                annot=True,\n",
        "                linewidths=0.5,\n",
        "                fmt='.2f')"
      ]
    },
    {
      "cell_type": "code",
      "execution_count": null,
      "metadata": {
        "colab": {
          "base_uri": "https://localhost:8080/",
          "height": 282
        },
        "id": "lL-uAzCfucOy",
        "outputId": "78789f61-2298-4987-e51a-3d4b0d133b00"
      },
      "outputs": [
        {
          "output_type": "execute_result",
          "data": {
            "text/plain": [
              "<matplotlib.axes._subplots.AxesSubplot at 0x7f57a86a8510>"
            ]
          },
          "metadata": {},
          "execution_count": 13
        },
        {
          "output_type": "display_data",
          "data": {
            "text/plain": [
              "<Figure size 432x288 with 1 Axes>"
            ],
            "image/png": "[encoded data removed]"
          },
          "metadata": {
            "needs_background": "light"
          }
        }
      ],
      "source": [
        "dia['BMI'].plot(kind='hist')"
      ]
    },
    {
      "cell_type": "code",
      "execution_count": null,
      "metadata": {
        "colab": {
          "base_uri": "https://localhost:8080/",
          "height": 282
        },
        "id": "r6Qs-FKBvD6P",
        "outputId": "bb818b99-a44c-46b8-f33c-1a45d0b08b11"
      },
      "outputs": [
        {
          "output_type": "execute_result",
          "data": {
            "text/plain": [
              "<matplotlib.axes._subplots.AxesSubplot at 0x7f57a8676a50>"
            ]
          },
          "metadata": {},
          "execution_count": 14
        },
        {
          "output_type": "display_data",
          "data": {
            "text/plain": [
              "<Figure size 432x288 with 1 Axes>"
            ],
            "image/png": "[encoded data removed]"
          },
          "metadata": {
            "needs_background": "light"
          }
        }
      ],
      "source": [
        "dia['Income'].plot(kind='hist')"
      ]
    },
    {
      "cell_type": "code",
      "execution_count": null,
      "metadata": {
        "colab": {
          "base_uri": "https://localhost:8080/",
          "height": 282
        },
        "id": "Vouqk3o7vSEd",
        "outputId": "5e2d9136-9b49-416a-f830-badd7246e100"
      },
      "outputs": [
        {
          "output_type": "execute_result",
          "data": {
            "text/plain": [
              "<matplotlib.axes._subplots.AxesSubplot at 0x7f57a86590d0>"
            ]
          },
          "metadata": {},
          "execution_count": 15
        },
        {
          "output_type": "display_data",
          "data": {
            "text/plain": [
              "<Figure size 432x288 with 1 Axes>"
            ],
            "image/png": "[encoded data removed]"
          },
          "metadata": {
            "needs_background": "light"
          }
        }
      ],
      "source": [
        "dia['MentHlth'].plot(kind='hist')"
      ]
    },
    {
      "cell_type": "code",
      "execution_count": null,
      "metadata": {
        "colab": {
          "base_uri": "https://localhost:8080/",
          "height": 282
        },
        "id": "egNuzWDbvmdL",
        "outputId": "f956bd8f-b572-4e58-cad1-74e7cd56e29e"
      },
      "outputs": [
        {
          "output_type": "execute_result",
          "data": {
            "text/plain": [
              "<matplotlib.axes._subplots.AxesSubplot at 0x7f57a92cef90>"
            ]
          },
          "metadata": {},
          "execution_count": 16
        },
        {
          "output_type": "display_data",
          "data": {
            "text/plain": [
              "<Figure size 432x288 with 1 Axes>"
            ],
            "image/png": "[encoded data removed]"
          },
          "metadata": {
            "needs_background": "light"
          }
        }
      ],
      "source": [
        "dia['PhysHlth'].plot(kind='hist')"
      ]
    },
    {
      "cell_type": "code",
      "execution_count": null,
      "metadata": {
        "colab": {
          "base_uri": "https://localhost:8080/",
          "height": 283
        },
        "id": "H_knDt5lwCgV",
        "outputId": "38325e8a-d44c-47fb-e91b-c56eb77e613d"
      },
      "outputs": [
        {
          "output_type": "execute_result",
          "data": {
            "text/plain": [
              "<matplotlib.axes._subplots.AxesSubplot at 0x7f57a93badd0>"
            ]
          },
          "metadata": {},
          "execution_count": 17
        },
        {
          "output_type": "display_data",
          "data": {
            "text/plain": [
              "<Figure size 432x288 with 1 Axes>"
            ],
            "image/png": "[encoded data removed]"
          },
          "metadata": {
            "needs_background": "light"
          }
        }
      ],
      "source": [
        "dia['Age'].plot(kind='hist')"
      ]
    },
    {
      "cell_type": "code",
      "execution_count": null,
      "metadata": {
        "colab": {
          "base_uri": "https://localhost:8080/",
          "height": 282
        },
        "id": "5v6A1WXKwRCw",
        "outputId": "87e101f1-8ec4-4339-ed6f-bfa36aa71058"
      },
      "outputs": [
        {
          "output_type": "execute_result",
          "data": {
            "text/plain": [
              "<matplotlib.axes._subplots.AxesSubplot at 0x7f57a9b2a750>"
            ]
          },
          "metadata": {},
          "execution_count": 18
        },
        {
          "output_type": "display_data",
          "data": {
            "text/plain": [
              "<Figure size 432x288 with 1 Axes>"
            ],
            "image/png": "[encoded data removed]"
          },
          "metadata": {
            "needs_background": "light"
          }
        }
      ],
      "source": [
        "dia['GenHlth'].plot(kind='hist')"
      ]
    },
    {
      "cell_type": "code",
      "execution_count": null,
      "metadata": {
        "colab": {
          "base_uri": "https://localhost:8080/",
          "height": 288
        },
        "id": "rxnz5-qyeCiL",
        "outputId": "85fb4c24-62d2-4995-c0b5-91f5651629d3"
      },
      "outputs": [
        {
          "output_type": "execute_result",
          "data": {
            "text/plain": [
              "<matplotlib.axes._subplots.AxesSubplot at 0x7f57a9869e50>"
            ]
          },
          "metadata": {},
          "execution_count": 19
        },
        {
          "output_type": "display_data",
          "data": {
            "text/plain": [
              "<Figure size 432x288 with 1 Axes>"
            ],
            "image/png": "[encoded data removed]"
          },
          "metadata": {
            "needs_background": "light"
          }
        }
      ],
      "source": [
        "#Plot the frequency of the Diabetes_012\n",
        "\n",
        "dia['Diabetes_binary'].value_counts().plot(kind='bar')"
      ]
    },
    {
      "cell_type": "code",
      "execution_count": null,
      "metadata": {
        "colab": {
          "base_uri": "https://localhost:8080/",
          "height": 615
        },
        "id": "XQe7Kfuk0-g1",
        "outputId": "e8ff2a3c-048c-402d-e83f-921fd2447e31"
      },
      "outputs": [
        {
          "output_type": "execute_result",
          "data": {
            "text/plain": [
              "<matplotlib.axes._subplots.AxesSubplot at 0x7f57a90fbcd0>"
            ]
          },
          "metadata": {},
          "execution_count": 20
        },
        {
          "output_type": "display_data",
          "data": {
            "text/plain": [
              "<Figure size 1440x576 with 1 Axes>"
            ],
            "image/png": "[encoded data removed]"
          },
          "metadata": {
            "needs_background": "light"
          }
        }
      ],
      "source": [
        "dia.drop('Diabetes_binary', axis=1).corrwith(dia.Diabetes_binary).plot(kind='bar', grid=True, figsize=(20, 8), title=\"Correlation with Diabetes Prediction\",color=\"Black\")"
      ]
    },
    {
      "cell_type": "markdown",
      "metadata": {
        "id": "uuGUt2W5C7Bj"
      },
      "source": [
        "## Train Test Split"
      ]
    },
    {
      "cell_type": "code",
      "execution_count": null,
      "metadata": {
        "id": "j4UMzIzMJR3E"
      },
      "outputs": [],
      "source": [
        "dia.drop(\"Fruits\",axis=1,inplace=True)"
      ]
    },
    {
      "cell_type": "code",
      "execution_count": null,
      "metadata": {
        "id": "XC0yWwSzJjjj"
      },
      "outputs": [],
      "source": [
        "dia.drop(\"AnyHealthcare\",axis=1,inplace=True)"
      ]
    },
    {
      "cell_type": "code",
      "execution_count": null,
      "metadata": {
        "id": "lotW0fPUJwIr"
      },
      "outputs": [],
      "source": [
        "dia.drop(\"NoDocbcCost\",axis=1,inplace=True)"
      ]
    },
    {
      "cell_type": "code",
      "execution_count": null,
      "metadata": {
        "id": "kiBJV8oBKFdt"
      },
      "outputs": [],
      "source": [
        "dia.drop(\"MentHlth\",axis=1,inplace=True)"
      ]
    },
    {
      "cell_type": "code",
      "execution_count": null,
      "metadata": {
        "id": "qOvctD44KTyt"
      },
      "outputs": [],
      "source": [
        "dia.drop(\"CholCheck\",axis=1,inplace=True)"
      ]
    },
    {
      "cell_type": "code",
      "execution_count": null,
      "metadata": {
        "id": "AEiSB8RM7PLX"
      },
      "outputs": [],
      "source": [
        "X = dia.drop(\"Diabetes_binary\",axis=1)\n",
        "Y = dia[\"Diabetes_binary\"]"
      ]
    },
    {
      "cell_type": "code",
      "execution_count": null,
      "metadata": {
        "id": "QEQv5Wvv8jVP"
      },
      "outputs": [],
      "source": [
        "from sklearn.model_selection import train_test_split\n",
        "X_train, X_test, Y_train, y_test = train_test_split(X, Y, test_size=0.2, random_state=42,stratify=Y)"
      ]
    },
    {
      "cell_type": "code",
      "execution_count": null,
      "metadata": {
        "colab": {
          "base_uri": "https://localhost:8080/",
          "height": 1000
        },
        "id": "GkEwF3rd-1hN",
        "outputId": "18c33904-7eb5-47cb-e2a4-3f9487c47f11"
      },
      "outputs": [
        {
          "output_type": "display_data",
          "data": {
            "text/plain": [
              "<Figure size 3600x3600 with 16 Axes>"
            ],
            "image/png": "[encoded data removed]"
          },
          "metadata": {
            "needs_background": "light"
          }
        }
      ],
      "source": [
        "X_train.hist(figsize=(50,50), bins=50, color=\"red\");"
      ]
    },
    {
      "cell_type": "code",
      "execution_count": null,
      "metadata": {
        "colab": {
          "base_uri": "https://localhost:8080/"
        },
        "id": "EkWPSTcgIbgw",
        "outputId": "ca346527-6749-4f82-a224-3aa97ebc63bd"
      },
      "outputs": [
        {
          "output_type": "stream",
          "name": "stdout",
          "text": [
            "<class 'pandas.core.frame.DataFrame'>\n",
            "Int64Index: 56553 entries, 47977 to 25909\n",
            "Data columns (total 15 columns):\n",
            " #   Column                Non-Null Count  Dtype  \n",
            "---  ------                --------------  -----  \n",
            " 0   HighBP                56553 non-null  float64\n",
            " 1   HighChol              56553 non-null  float64\n",
            " 2   BMI                   56553 non-null  float64\n",
            " 3   Smoker                56553 non-null  float64\n",
            " 4   Stroke                56553 non-null  float64\n",
            " 5   HeartDiseaseorAttack  56553 non-null  float64\n",
            " 6   PhysActivity          56553 non-null  float64\n",
            " 7   Veggies               56553 non-null  float64\n",
            " 8   HvyAlcoholConsump     56553 non-null  float64\n",
            " 9   GenHlth               56553 non-null  float64\n",
            " 10  PhysHlth              56553 non-null  float64\n",
            " 11  DiffWalk              56553 non-null  float64\n",
            " 12  Sex                   56553 non-null  float64\n",
            " 13  Age                   56553 non-null  float64\n",
            " 14  Income                56553 non-null  float64\n",
            "dtypes: float64(15)\n",
            "memory usage: 6.9 MB\n"
          ]
        }
      ],
      "source": [
        "X_train.info()"
      ]
    },
    {
      "cell_type": "markdown",
      "metadata": {
        "id": "WvDS8J1ZJGxn"
      },
      "source": [
        "### Converting Columns\n",
        "\n",
        "\n",
        "\n",
        "*   Applying Standadrdisation to the float columns\n",
        "*   Converting many necessary columns to category\n",
        "\n"
      ]
    },
    {
      "cell_type": "code",
      "execution_count": null,
      "metadata": {
        "colab": {
          "base_uri": "https://localhost:8080/"
        },
        "id": "kEajdgbsosL5",
        "outputId": "252442bd-542c-438a-e72a-935d5a46a027"
      },
      "outputs": [
        {
          "output_type": "execute_result",
          "data": {
            "text/plain": [
              "1.0    49699\n",
              "0.0    20993\n",
              "Name: PhysActivity, dtype: int64"
            ]
          },
          "metadata": {},
          "execution_count": 30
        }
      ],
      "source": [
        "dia['PhysActivity'].value_counts()"
      ]
    },
    {
      "cell_type": "code",
      "execution_count": null,
      "metadata": {
        "colab": {
          "base_uri": "https://localhost:8080/"
        },
        "id": "cxU7ZNsxrjMP",
        "outputId": "7d51bacf-993c-4218-e9d9-1d5c44a01d4a"
      },
      "outputs": [
        {
          "output_type": "execute_result",
          "data": {
            "text/plain": [
              "3.0    23427\n",
              "2.0    19872\n",
              "4.0    13303\n",
              "1.0     8282\n",
              "5.0     5808\n",
              "Name: GenHlth, dtype: int64"
            ]
          },
          "metadata": {},
          "execution_count": 31
        }
      ],
      "source": [
        "dia['GenHlth'].value_counts()"
      ]
    },
    {
      "cell_type": "code",
      "execution_count": null,
      "metadata": {
        "colab": {
          "base_uri": "https://localhost:8080/"
        },
        "id": "JUDQ49jWrzT-",
        "outputId": "09eaefd6-aed8-4c07-ff9a-27df79f7b7b7"
      },
      "outputs": [
        {
          "output_type": "execute_result",
          "data": {
            "text/plain": [
              "<bound method NDFrame._add_numeric_operations.<locals>.max of 0.0     39915\n",
              "30.0     7953\n",
              "2.0      4102\n",
              "1.0      2853\n",
              "3.0      2438\n",
              "5.0      2332\n",
              "10.0     1980\n",
              "15.0     1913\n",
              "4.0      1376\n",
              "7.0      1326\n",
              "20.0     1292\n",
              "14.0      802\n",
              "25.0      557\n",
              "6.0       447\n",
              "8.0       276\n",
              "21.0      229\n",
              "28.0      211\n",
              "12.0      205\n",
              "29.0       95\n",
              "9.0        55\n",
              "18.0       50\n",
              "16.0       50\n",
              "17.0       35\n",
              "27.0       34\n",
              "22.0       31\n",
              "23.0       27\n",
              "26.0       26\n",
              "13.0       26\n",
              "24.0       24\n",
              "11.0       22\n",
              "19.0       10\n",
              "Name: PhysHlth, dtype: int64>"
            ]
          },
          "metadata": {},
          "execution_count": 32
        }
      ],
      "source": [
        "dia['PhysHlth'].value_counts().max"
      ]
    },
    {
      "cell_type": "code",
      "execution_count": null,
      "metadata": {
        "colab": {
          "base_uri": "https://localhost:8080/"
        },
        "id": "8Kz4ES1bMTZq",
        "outputId": "c54c5ea8-0fa5-4db2-922a-c412a4e7b999"
      },
      "outputs": [
        {
          "output_type": "execute_result",
          "data": {
            "text/plain": [
              "1.0    55760\n",
              "0.0    14932\n",
              "Name: Veggies, dtype: int64"
            ]
          },
          "metadata": {},
          "execution_count": 33
        }
      ],
      "source": [
        "dia[\"Veggies\"].value_counts()"
      ]
    },
    {
      "cell_type": "code",
      "source": [
        "dia"
      ],
      "metadata": {
        "id": "t9Y3U47HLflp",
        "outputId": "68788859-8674-4697-b36e-ee3033c897fb",
        "colab": {
          "base_uri": "https://localhost:8080/",
          "height": 488
        }
      },
      "execution_count": null,
      "outputs": [
        {
          "output_type": "execute_result",
          "data": {
            "text/plain": [
              "       Diabetes_binary  HighBP  HighChol   BMI  Smoker  Stroke  \\\n",
              "0                  0.0     1.0       0.0  26.0     0.0     0.0   \n",
              "1                  0.0     1.0       1.0  26.0     1.0     1.0   \n",
              "2                  0.0     0.0       0.0  26.0     0.0     0.0   \n",
              "3                  0.0     1.0       1.0  28.0     1.0     0.0   \n",
              "4                  0.0     0.0       0.0  29.0     1.0     0.0   \n",
              "...                ...     ...       ...   ...     ...     ...   \n",
              "70687              1.0     0.0       1.0  37.0     0.0     0.0   \n",
              "70688              1.0     0.0       1.0  29.0     1.0     0.0   \n",
              "70689              1.0     1.0       1.0  25.0     0.0     0.0   \n",
              "70690              1.0     1.0       1.0  18.0     0.0     0.0   \n",
              "70691              1.0     1.0       1.0  25.0     0.0     0.0   \n",
              "\n",
              "       HeartDiseaseorAttack  PhysActivity  Veggies  HvyAlcoholConsump  \\\n",
              "0                       0.0           1.0      1.0                0.0   \n",
              "1                       0.0           0.0      0.0                0.0   \n",
              "2                       0.0           1.0      1.0                0.0   \n",
              "3                       0.0           1.0      1.0                0.0   \n",
              "4                       0.0           1.0      1.0                0.0   \n",
              "...                     ...           ...      ...                ...   \n",
              "70687                   0.0           0.0      1.0                0.0   \n",
              "70688                   1.0           0.0      1.0                0.0   \n",
              "70689                   1.0           0.0      0.0                0.0   \n",
              "70690                   0.0           0.0      0.0                0.0   \n",
              "70691                   1.0           1.0      0.0                0.0   \n",
              "\n",
              "       GenHlth  PhysHlth  DiffWalk  Sex   Age  Income  \n",
              "0          3.0      30.0       0.0  1.0   4.0     8.0  \n",
              "1          3.0       0.0       0.0  1.0  12.0     8.0  \n",
              "2          1.0      10.0       0.0  1.0  13.0     8.0  \n",
              "3          3.0       3.0       0.0  1.0  11.0     8.0  \n",
              "4          2.0       0.0       0.0  0.0   8.0     8.0  \n",
              "...        ...       ...       ...  ...   ...     ...  \n",
              "70687      4.0       0.0       0.0  0.0   6.0     1.0  \n",
              "70688      2.0       0.0       1.0  1.0  10.0     6.0  \n",
              "70689      5.0       0.0       1.0  0.0  13.0     4.0  \n",
              "70690      4.0       0.0       1.0  0.0  11.0     4.0  \n",
              "70691      2.0       0.0       0.0  0.0   9.0     2.0  \n",
              "\n",
              "[70692 rows x 16 columns]"
            ],
            "text/html": [
              "\n",
              "  <div id=\"df-8d52c528-0f09-4e15-bb90-d0b7b8f3d69d\">\n",
              "    <div class=\"colab-df-container\">\n",
              "      <div>\n",
              "<style scoped>\n",
              "    .dataframe tbody tr th:only-of-type {\n",
              "        vertical-align: middle;\n",
              "    }\n",
              "\n",
              "    .dataframe tbody tr th {\n",
              "        vertical-align: top;\n",
              "    }\n",
              "\n",
              "    .dataframe thead th {\n",
              "        text-align: right;\n",
              "    }\n",
              "</style>\n",
              "<table border=\"1\" class=\"dataframe\">\n",
              "  <thead>\n",
              "    <tr style=\"text-align: right;\">\n",
              "      <th></th>\n",
              "      <th>Diabetes_binary</th>\n",
              "      <th>HighBP</th>\n",
              "      <th>HighChol</th>\n",
              "      <th>BMI</th>\n",
              "      <th>Smoker</th>\n",
              "      <th>Stroke</th>\n",
              "      <th>HeartDiseaseorAttack</th>\n",
              "      <th>PhysActivity</th>\n",
              "      <th>Veggies</th>\n",
              "      <th>HvyAlcoholConsump</th>\n",
              "      <th>GenHlth</th>\n",
              "      <th>PhysHlth</th>\n",
              "      <th>DiffWalk</th>\n",
              "      <th>Sex</th>\n",
              "      <th>Age</th>\n",
              "      <th>Income</th>\n",
              "    </tr>\n",
              "  </thead>\n",
              "  <tbody>\n",
              "    <tr>\n",
              "      <th>0</th>\n",
              "      <td>0.0</td>\n",
              "      <td>1.0</td>\n",
              "      <td>0.0</td>\n",
              "      <td>26.0</td>\n",
              "      <td>0.0</td>\n",
              "      <td>0.0</td>\n",
              "      <td>0.0</td>\n",
              "      <td>1.0</td>\n",
              "      <td>1.0</td>\n",
              "      <td>0.0</td>\n",
              "      <td>3.0</td>\n",
              "      <td>30.0</td>\n",
              "      <td>0.0</td>\n",
              "      <td>1.0</td>\n",
              "      <td>4.0</td>\n",
              "      <td>8.0</td>\n",
              "    </tr>\n",
              "    <tr>\n",
              "      <th>1</th>\n",
              "      <td>0.0</td>\n",
              "      <td>1.0</td>\n",
              "      <td>1.0</td>\n",
              "      <td>26.0</td>\n",
              "      <td>1.0</td>\n",
              "      <td>1.0</td>\n",
              "      <td>0.0</td>\n",
              "      <td>0.0</td>\n",
              "      <td>0.0</td>\n",
              "      <td>0.0</td>\n",
              "      <td>3.0</td>\n",
              "      <td>0.0</td>\n",
              "      <td>0.0</td>\n",
              "      <td>1.0</td>\n",
              "      <td>12.0</td>\n",
              "      <td>8.0</td>\n",
              "    </tr>\n",
              "    <tr>\n",
              "      <th>2</th>\n",
              "      <td>0.0</td>\n",
              "      <td>0.0</td>\n",
              "      <td>0.0</td>\n",
              "      <td>26.0</td>\n",
              "      <td>0.0</td>\n",
              "      <td>0.0</td>\n",
              "      <td>0.0</td>\n",
              "      <td>1.0</td>\n",
              "      <td>1.0</td>\n",
              "      <td>0.0</td>\n",
              "      <td>1.0</td>\n",
              "      <td>10.0</td>\n",
              "      <td>0.0</td>\n",
              "      <td>1.0</td>\n",
              "      <td>13.0</td>\n",
              "      <td>8.0</td>\n",
              "    </tr>\n",
              "    <tr>\n",
              "      <th>3</th>\n",
              "      <td>0.0</td>\n",
              "      <td>1.0</td>\n",
              "      <td>1.0</td>\n",
              "      <td>28.0</td>\n",
              "      <td>1.0</td>\n",
              "      <td>0.0</td>\n",
              "      <td>0.0</td>\n",
              "      <td>1.0</td>\n",
              "      <td>1.0</td>\n",
              "      <td>0.0</td>\n",
              "      <td>3.0</td>\n",
              "      <td>3.0</td>\n",
              "      <td>0.0</td>\n",
              "      <td>1.0</td>\n",
              "      <td>11.0</td>\n",
              "      <td>8.0</td>\n",
              "    </tr>\n",
              "    <tr>\n",
              "      <th>4</th>\n",
              "      <td>0.0</td>\n",
              "      <td>0.0</td>\n",
              "      <td>0.0</td>\n",
              "      <td>29.0</td>\n",
              "      <td>1.0</td>\n",
              "      <td>0.0</td>\n",
              "      <td>0.0</td>\n",
              "      <td>1.0</td>\n",
              "      <td>1.0</td>\n",
              "      <td>0.0</td>\n",
              "      <td>2.0</td>\n",
              "      <td>0.0</td>\n",
              "      <td>0.0</td>\n",
              "      <td>0.0</td>\n",
              "      <td>8.0</td>\n",
              "      <td>8.0</td>\n",
              "    </tr>\n",
              "    <tr>\n",
              "      <th>...</th>\n",
              "      <td>...</td>\n",
              "      <td>...</td>\n",
              "      <td>...</td>\n",
              "      <td>...</td>\n",
              "      <td>...</td>\n",
              "      <td>...</td>\n",
              "      <td>...</td>\n",
              "      <td>...</td>\n",
              "      <td>...</td>\n",
              "      <td>...</td>\n",
              "      <td>...</td>\n",
              "      <td>...</td>\n",
              "      <td>...</td>\n",
              "      <td>...</td>\n",
              "      <td>...</td>\n",
              "      <td>...</td>\n",
              "    </tr>\n",
              "    <tr>\n",
              "      <th>70687</th>\n",
              "      <td>1.0</td>\n",
              "      <td>0.0</td>\n",
              "      <td>1.0</td>\n",
              "      <td>37.0</td>\n",
              "      <td>0.0</td>\n",
              "      <td>0.0</td>\n",
              "      <td>0.0</td>\n",
              "      <td>0.0</td>\n",
              "      <td>1.0</td>\n",
              "      <td>0.0</td>\n",
              "      <td>4.0</td>\n",
              "      <td>0.0</td>\n",
              "      <td>0.0</td>\n",
              "      <td>0.0</td>\n",
              "      <td>6.0</td>\n",
              "      <td>1.0</td>\n",
              "    </tr>\n",
              "    <tr>\n",
              "      <th>70688</th>\n",
              "      <td>1.0</td>\n",
              "      <td>0.0</td>\n",
              "      <td>1.0</td>\n",
              "      <td>29.0</td>\n",
              "      <td>1.0</td>\n",
              "      <td>0.0</td>\n",
              "      <td>1.0</td>\n",
              "      <td>0.0</td>\n",
              "      <td>1.0</td>\n",
              "      <td>0.0</td>\n",
              "      <td>2.0</td>\n",
              "      <td>0.0</td>\n",
              "      <td>1.0</td>\n",
              "      <td>1.0</td>\n",
              "      <td>10.0</td>\n",
              "      <td>6.0</td>\n",
              "    </tr>\n",
              "    <tr>\n",
              "      <th>70689</th>\n",
              "      <td>1.0</td>\n",
              "      <td>1.0</td>\n",
              "      <td>1.0</td>\n",
              "      <td>25.0</td>\n",
              "      <td>0.0</td>\n",
              "      <td>0.0</td>\n",
              "      <td>1.0</td>\n",
              "      <td>0.0</td>\n",
              "      <td>0.0</td>\n",
              "      <td>0.0</td>\n",
              "      <td>5.0</td>\n",
              "      <td>0.0</td>\n",
              "      <td>1.0</td>\n",
              "      <td>0.0</td>\n",
              "      <td>13.0</td>\n",
              "      <td>4.0</td>\n",
              "    </tr>\n",
              "    <tr>\n",
              "      <th>70690</th>\n",
              "      <td>1.0</td>\n",
              "      <td>1.0</td>\n",
              "      <td>1.0</td>\n",
              "      <td>18.0</td>\n",
              "      <td>0.0</td>\n",
              "      <td>0.0</td>\n",
              "      <td>0.0</td>\n",
              "      <td>0.0</td>\n",
              "      <td>0.0</td>\n",
              "      <td>0.0</td>\n",
              "      <td>4.0</td>\n",
              "      <td>0.0</td>\n",
              "      <td>1.0</td>\n",
              "      <td>0.0</td>\n",
              "      <td>11.0</td>\n",
              "      <td>4.0</td>\n",
              "    </tr>\n",
              "    <tr>\n",
              "      <th>70691</th>\n",
              "      <td>1.0</td>\n",
              "      <td>1.0</td>\n",
              "      <td>1.0</td>\n",
              "      <td>25.0</td>\n",
              "      <td>0.0</td>\n",
              "      <td>0.0</td>\n",
              "      <td>1.0</td>\n",
              "      <td>1.0</td>\n",
              "      <td>0.0</td>\n",
              "      <td>0.0</td>\n",
              "      <td>2.0</td>\n",
              "      <td>0.0</td>\n",
              "      <td>0.0</td>\n",
              "      <td>0.0</td>\n",
              "      <td>9.0</td>\n",
              "      <td>2.0</td>\n",
              "    </tr>\n",
              "  </tbody>\n",
              "</table>\n",
              "<p>70692 rows × 16 columns</p>\n",
              "</div>\n",
              "      <button class=\"colab-df-convert\" onclick=\"convertToInteractive('df-8d52c528-0f09-4e15-bb90-d0b7b8f3d69d')\"\n",
              "              title=\"Convert this dataframe to an interactive table.\"\n",
              "              style=\"display:none;\">\n",
              "        \n",
              "  <svg xmlns=\"http://www.w3.org/2000/svg\" height=\"24px\"viewBox=\"0 0 24 24\"\n",
              "       width=\"24px\">\n",
              "    <path d=\"M0 0h24v24H0V0z\" fill=\"none\"/>\n",
              "    <path d=\"M18.56 5.44l.94 2.06.94-2.06 2.06-.94-2.06-.94-.94-2.06-.94 2.06-2.06.94zm-11 1L8.5 8.5l.94-2.06 2.06-.94-2.06-.94L8.5 2.5l-.94 2.06-2.06.94zm10 10l.94 2.06.94-2.06 2.06-.94-2.06-.94-.94-2.06-.94 2.06-2.06.94z\"/><path d=\"M17.41 7.96l-1.37-1.37c-.4-.4-.92-.59-1.43-.59-.52 0-1.04.2-1.43.59L10.3 9.45l-7.72 7.72c-.78.78-.78 2.05 0 2.83L4 21.41c.39.39.9.59 1.41.59.51 0 1.02-.2 1.41-.59l7.78-7.78 2.81-2.81c.8-.78.8-2.07 0-2.86zM5.41 20L4 18.59l7.72-7.72 1.47 1.35L5.41 20z\"/>\n",
              "  </svg>\n",
              "      </button>\n",
              "      \n",
              "  <style>\n",
              "    .colab-df-container {\n",
              "      display:flex;\n",
              "      flex-wrap:wrap;\n",
              "      gap: 12px;\n",
              "    }\n",
              "\n",
              "    .colab-df-convert {\n",
              "      background-color: #E8F0FE;\n",
              "      border: none;\n",
              "      border-radius: 50%;\n",
              "      cursor: pointer;\n",
              "      display: none;\n",
              "      fill: #1967D2;\n",
              "      height: 32px;\n",
              "      padding: 0 0 0 0;\n",
              "      width: 32px;\n",
              "    }\n",
              "\n",
              "    .colab-df-convert:hover {\n",
              "      background-color: #E2EBFA;\n",
              "      box-shadow: 0px 1px 2px rgba(60, 64, 67, 0.3), 0px 1px 3px 1px rgba(60, 64, 67, 0.15);\n",
              "      fill: #174EA6;\n",
              "    }\n",
              "\n",
              "    [theme=dark] .colab-df-convert {\n",
              "      background-color: #3B4455;\n",
              "      fill: #D2E3FC;\n",
              "    }\n",
              "\n",
              "    [theme=dark] .colab-df-convert:hover {\n",
              "      background-color: #434B5C;\n",
              "      box-shadow: 0px 1px 3px 1px rgba(0, 0, 0, 0.15);\n",
              "      filter: drop-shadow(0px 1px 2px rgba(0, 0, 0, 0.3));\n",
              "      fill: #FFFFFF;\n",
              "    }\n",
              "  </style>\n",
              "\n",
              "      <script>\n",
              "        const buttonEl =\n",
              "          document.querySelector('#df-8d52c528-0f09-4e15-bb90-d0b7b8f3d69d button.colab-df-convert');\n",
              "        buttonEl.style.display =\n",
              "          google.colab.kernel.accessAllowed ? 'block' : 'none';\n",
              "\n",
              "        async function convertToInteractive(key) {\n",
              "          const element = document.querySelector('#df-8d52c528-0f09-4e15-bb90-d0b7b8f3d69d');\n",
              "          const dataTable =\n",
              "            await google.colab.kernel.invokeFunction('convertToInteractive',\n",
              "                                                     [key], {});\n",
              "          if (!dataTable) return;\n",
              "\n",
              "          const docLinkHtml = 'Like what you see? Visit the ' +\n",
              "            '<a target=\"_blank\" href=https://colab.research.google.com/notebooks/data_table.ipynb>data table notebook</a>'\n",
              "            + ' to learn more about interactive tables.';\n",
              "          element.innerHTML = '';\n",
              "          dataTable['output_type'] = 'display_data';\n",
              "          await google.colab.output.renderOutput(dataTable, element);\n",
              "          const docLink = document.createElement('div');\n",
              "          docLink.innerHTML = docLinkHtml;\n",
              "          element.appendChild(docLink);\n",
              "        }\n",
              "      </script>\n",
              "    </div>\n",
              "  </div>\n",
              "  "
            ]
          },
          "metadata": {},
          "execution_count": 34
        }
      ]
    },
    {
      "cell_type": "code",
      "execution_count": null,
      "metadata": {
        "colab": {
          "background_save": true
        },
        "id": "7RQ-j1K3IoV1"
      },
      "outputs": [],
      "source": [
        "#Create a Column Trnasformer\n",
        "ct = make_column_transformer(\n",
        "    (MinMaxScaler(), ['BMI', 'Income','PhysHlth','Age','GenHlth']),\n",
        "    (OneHotEncoder(handle_unknown='ignore'),['HighBP','HighChol','Smoker','Stroke','HeartDiseaseorAttack','PhysActivity','Veggies','HvyAlcoholConsump','DiffWalk','Sex']))"
      ]
    },
    {
      "cell_type": "code",
      "execution_count": null,
      "metadata": {
        "colab": {
          "background_save": true,
          "base_uri": "https://localhost:8080/"
        },
        "id": "9gmXCOEEp6e5",
        "outputId": "e7af3f03-18d2-4c4b-e31d-01cf29a70cdd"
      },
      "outputs": [
        {
          "data": {
            "text/plain": [
              "ColumnTransformer(transformers=[('minmaxscaler', MinMaxScaler(),\n",
              "                                 ['BMI', 'Income', 'PhysHlth', 'Age',\n",
              "                                  'GenHlth']),\n",
              "                                ('onehotencoder',\n",
              "                                 OneHotEncoder(handle_unknown='ignore'),\n",
              "                                 ['HighBP', 'HighChol', 'Smoker', 'Stroke',\n",
              "                                  'HeartDiseaseorAttack', 'PhysActivity',\n",
              "                                  'Veggies', 'HvyAlcoholConsump', 'DiffWalk',\n",
              "                                  'Sex'])])"
            ]
          },
          "execution_count": 35,
          "metadata": {},
          "output_type": "execute_result"
        }
      ],
      "source": [
        "# Fitting column transfrmer\n",
        "ct.fit(X_train)"
      ]
    },
    {
      "cell_type": "code",
      "execution_count": null,
      "metadata": {
        "colab": {
          "background_save": true
        },
        "id": "mQWOhi23soK6"
      },
      "outputs": [],
      "source": [
        "# Transforming Data\n",
        "X_train_ct = ct.transform(X_train)\n",
        "X_test_ct = ct.transform(X_test)"
      ]
    },
    {
      "cell_type": "code",
      "execution_count": null,
      "metadata": {
        "colab": {
          "background_save": true,
          "base_uri": "https://localhost:8080/"
        },
        "id": "IPvscZdrVzUb",
        "outputId": "73b22757-c69d-4882-bd13-c52c5ffdb5b4"
      },
      "outputs": [
        {
          "data": {
            "text/plain": [
              "array([[0.18823529, 1.        , 0.        , ..., 0.        , 0.        ,\n",
              "        1.        ],\n",
              "       [0.12941176, 0.        , 0.2       , ..., 0.        , 1.        ,\n",
              "        0.        ],\n",
              "       [0.34117647, 0.42857143, 0.33333333, ..., 1.        , 1.        ,\n",
              "        0.        ],\n",
              "       ...,\n",
              "       [0.61176471, 0.85714286, 0.16666667, ..., 1.        , 1.        ,\n",
              "        0.        ],\n",
              "       [0.22352941, 0.14285714, 0.        , ..., 0.        , 1.        ,\n",
              "        0.        ],\n",
              "       [0.2       , 0.71428571, 0.        , ..., 0.        , 0.        ,\n",
              "        1.        ]])"
            ]
          },
          "execution_count": 37,
          "metadata": {},
          "output_type": "execute_result"
        }
      ],
      "source": [
        "X_train_ct"
      ]
    },
    {
      "cell_type": "markdown",
      "metadata": {
        "id": "SM6nn8cpIMpB"
      },
      "source": [
        "# Modelling"
      ]
    },
    {
      "cell_type": "code",
      "execution_count": null,
      "metadata": {
        "colab": {
          "background_save": true
        },
        "id": "mUkAcyOGPwjg"
      },
      "outputs": [],
      "source": [
        "import tensorflow as tf"
      ]
    },
    {
      "cell_type": "code",
      "execution_count": null,
      "metadata": {
        "colab": {
          "background_save": true,
          "base_uri": "https://localhost:8080/"
        },
        "id": "EyxxNIq0c_Mm",
        "outputId": "107e5dba-7428-462d-e440-05a6ebbeff64"
      },
      "outputs": [
        {
          "data": {
            "text/plain": [
              "(56553, 25)"
            ]
          },
          "execution_count": 39,
          "metadata": {},
          "output_type": "execute_result"
        }
      ],
      "source": [
        "X_train_ct.shape"
      ]
    },
    {
      "cell_type": "code",
      "execution_count": null,
      "metadata": {
        "colab": {
          "background_save": true,
          "base_uri": "https://localhost:8080/"
        },
        "id": "GuQZl4_gdCvj",
        "outputId": "d904951e-aed4-43d1-a483-2246683ae569"
      },
      "outputs": [
        {
          "data": {
            "text/plain": [
              "47977    1.0\n",
              "2676     0.0\n",
              "35637    1.0\n",
              "52420    1.0\n",
              "12445    0.0\n",
              "        ... \n",
              "58170    1.0\n",
              "17655    0.0\n",
              "37819    1.0\n",
              "41157    1.0\n",
              "25909    0.0\n",
              "Name: Diabetes_binary, Length: 56553, dtype: float64"
            ]
          },
          "execution_count": 40,
          "metadata": {},
          "output_type": "execute_result"
        }
      ],
      "source": [
        "Y_train"
      ]
    },
    {
      "cell_type": "code",
      "execution_count": null,
      "metadata": {
        "colab": {
          "base_uri": "https://localhost:8080/"
        },
        "id": "HYWblOv4svRn",
        "outputId": "cfd4690a-a6c0-4f16-f4f1-77e467882a5a"
      },
      "outputs": [
        {
          "name": "stdout",
          "output_type": "stream",
          "text": [
            "Epoch 1/100\n"
          ]
        },
        {
          "name": "stderr",
          "output_type": "stream",
          "text": [
            "/usr/local/lib/python3.7/dist-packages/keras/optimizer_v2/adam.py:105: UserWarning: The `lr` argument is deprecated, use `learning_rate` instead.\n",
            "  super(Adam, self).__init__(name, **kwargs)\n"
          ]
        },
        {
          "name": "stdout",
          "output_type": "stream",
          "text": [
            "1768/1768 [==============================] - 8s 3ms/step - loss: 0.5722 - accuracy: 0.7162 - lr: 1.0000e-04\n",
            "Epoch 2/100\n",
            "1768/1768 [==============================] - 5s 3ms/step - loss: 0.5248 - accuracy: 0.7389 - lr: 1.1220e-04\n",
            "Epoch 3/100\n",
            "1768/1768 [==============================] - 5s 3ms/step - loss: 0.5168 - accuracy: 0.7437 - lr: 1.2589e-04\n",
            "Epoch 4/100\n",
            "1768/1768 [==============================] - 5s 3ms/step - loss: 0.5137 - accuracy: 0.7459 - lr: 1.4125e-04\n",
            "Epoch 5/100\n",
            "1768/1768 [==============================] - 5s 3ms/step - loss: 0.5119 - accuracy: 0.7470 - lr: 1.5849e-04\n",
            "Epoch 6/100\n",
            "1768/1768 [==============================] - 5s 3ms/step - loss: 0.5106 - accuracy: 0.7488 - lr: 1.7783e-04\n",
            "Epoch 7/100\n",
            "1768/1768 [==============================] - 5s 3ms/step - loss: 0.5100 - accuracy: 0.7478 - lr: 1.9953e-04\n",
            "Epoch 8/100\n",
            "1768/1768 [==============================] - 5s 3ms/step - loss: 0.5092 - accuracy: 0.7508 - lr: 2.2387e-04\n",
            "Epoch 9/100\n",
            "1768/1768 [==============================] - 5s 3ms/step - loss: 0.5091 - accuracy: 0.7497 - lr: 2.5119e-04\n",
            "Epoch 10/100\n",
            "1768/1768 [==============================] - 5s 3ms/step - loss: 0.5088 - accuracy: 0.7492 - lr: 2.8184e-04\n",
            "Epoch 11/100\n",
            "1768/1768 [==============================] - 5s 3ms/step - loss: 0.5083 - accuracy: 0.7509 - lr: 3.1623e-04\n",
            "Epoch 12/100\n",
            "1768/1768 [==============================] - 5s 3ms/step - loss: 0.5079 - accuracy: 0.7499 - lr: 3.5481e-04\n",
            "Epoch 13/100\n",
            "1768/1768 [==============================] - 5s 3ms/step - loss: 0.5066 - accuracy: 0.7519 - lr: 3.9811e-04\n",
            "Epoch 14/100\n",
            "1768/1768 [==============================] - 5s 3ms/step - loss: 0.5070 - accuracy: 0.7519 - lr: 4.4668e-04\n",
            "Epoch 15/100\n",
            "1768/1768 [==============================] - 5s 3ms/step - loss: 0.5060 - accuracy: 0.7512 - lr: 5.0119e-04\n",
            "Epoch 16/100\n",
            "1768/1768 [==============================] - 5s 3ms/step - loss: 0.5060 - accuracy: 0.7514 - lr: 5.6234e-04\n",
            "Epoch 17/100\n",
            "1768/1768 [==============================] - 5s 3ms/step - loss: 0.5061 - accuracy: 0.7519 - lr: 6.3096e-04\n",
            "Epoch 18/100\n",
            "1768/1768 [==============================] - 5s 3ms/step - loss: 0.5060 - accuracy: 0.7528 - lr: 7.0795e-04\n",
            "Epoch 19/100\n",
            "1768/1768 [==============================] - 5s 3ms/step - loss: 0.5055 - accuracy: 0.7517 - lr: 7.9433e-04\n",
            "Epoch 20/100\n",
            "1768/1768 [==============================] - 5s 3ms/step - loss: 0.5067 - accuracy: 0.7498 - lr: 8.9125e-04\n",
            "Epoch 21/100\n",
            "1768/1768 [==============================] - 5s 3ms/step - loss: 0.5063 - accuracy: 0.7518 - lr: 0.0010\n",
            "Epoch 22/100\n",
            "1768/1768 [==============================] - 5s 3ms/step - loss: 0.5059 - accuracy: 0.7524 - lr: 0.0011\n",
            "Epoch 23/100\n",
            "1768/1768 [==============================] - 5s 3ms/step - loss: 0.5061 - accuracy: 0.7522 - lr: 0.0013\n",
            "Epoch 24/100\n",
            "1768/1768 [==============================] - 5s 3ms/step - loss: 0.5068 - accuracy: 0.7507 - lr: 0.0014\n",
            "Epoch 25/100\n",
            "1768/1768 [==============================] - 4s 3ms/step - loss: 0.5074 - accuracy: 0.7509 - lr: 0.0016\n",
            "Epoch 26/100\n",
            "1768/1768 [==============================] - 5s 3ms/step - loss: 0.5067 - accuracy: 0.7509 - lr: 0.0018\n",
            "Epoch 27/100\n",
            "1768/1768 [==============================] - 5s 3ms/step - loss: 0.5084 - accuracy: 0.7511 - lr: 0.0020\n",
            "Epoch 28/100\n",
            "1768/1768 [==============================] - 5s 3ms/step - loss: 0.5082 - accuracy: 0.7505 - lr: 0.0022\n",
            "Epoch 29/100\n",
            "1768/1768 [==============================] - 5s 3ms/step - loss: 0.5086 - accuracy: 0.7516 - lr: 0.0025\n",
            "Epoch 30/100\n",
            "1768/1768 [==============================] - 5s 3ms/step - loss: 0.5088 - accuracy: 0.7514 - lr: 0.0028\n",
            "Epoch 31/100\n",
            "1768/1768 [==============================] - 5s 3ms/step - loss: 0.5097 - accuracy: 0.7478 - lr: 0.0032\n",
            "Epoch 32/100\n",
            "1768/1768 [==============================] - 5s 3ms/step - loss: 0.5105 - accuracy: 0.7478 - lr: 0.0035\n",
            "Epoch 33/100\n",
            "1768/1768 [==============================] - 5s 3ms/step - loss: 0.5112 - accuracy: 0.7489 - lr: 0.0040\n",
            "Epoch 34/100\n",
            "1768/1768 [==============================] - 5s 3ms/step - loss: 0.5117 - accuracy: 0.7476 - lr: 0.0045\n",
            "Epoch 35/100\n",
            "1768/1768 [==============================] - 5s 3ms/step - loss: 0.5124 - accuracy: 0.7489 - lr: 0.0050\n",
            "Epoch 36/100\n",
            "1768/1768 [==============================] - 5s 3ms/step - loss: 0.5119 - accuracy: 0.7478 - lr: 0.0056\n",
            "Epoch 37/100\n",
            "1768/1768 [==============================] - 5s 3ms/step - loss: 0.5130 - accuracy: 0.7467 - lr: 0.0063\n",
            "Epoch 38/100\n",
            "1768/1768 [==============================] - 5s 3ms/step - loss: 0.5137 - accuracy: 0.7477 - lr: 0.0071\n",
            "Epoch 39/100\n",
            "1768/1768 [==============================] - 5s 3ms/step - loss: 0.5147 - accuracy: 0.7478 - lr: 0.0079\n",
            "Epoch 40/100\n",
            "1768/1768 [==============================] - 5s 3ms/step - loss: 0.5151 - accuracy: 0.7457 - lr: 0.0089\n",
            "Epoch 41/100\n",
            "1768/1768 [==============================] - 5s 3ms/step - loss: 0.5170 - accuracy: 0.7450 - lr: 0.0100\n",
            "Epoch 42/100\n",
            "1768/1768 [==============================] - 5s 3ms/step - loss: 0.5187 - accuracy: 0.7448 - lr: 0.0112\n",
            "Epoch 43/100\n",
            "1768/1768 [==============================] - 5s 3ms/step - loss: 0.5195 - accuracy: 0.7437 - lr: 0.0126\n",
            "Epoch 44/100\n",
            "1768/1768 [==============================] - 5s 3ms/step - loss: 0.5206 - accuracy: 0.7435 - lr: 0.0141\n",
            "Epoch 45/100\n",
            "1768/1768 [==============================] - 5s 3ms/step - loss: 0.5241 - accuracy: 0.7422 - lr: 0.0158\n",
            "Epoch 46/100\n",
            "1768/1768 [==============================] - 5s 3ms/step - loss: 0.5230 - accuracy: 0.7398 - lr: 0.0178\n",
            "Epoch 47/100\n",
            "1768/1768 [==============================] - 5s 3ms/step - loss: 0.5346 - accuracy: 0.7347 - lr: 0.0200\n",
            "Epoch 48/100\n",
            "1768/1768 [==============================] - 5s 3ms/step - loss: 0.5282 - accuracy: 0.7384 - lr: 0.0224\n",
            "Epoch 49/100\n",
            "1768/1768 [==============================] - 5s 3ms/step - loss: 0.5321 - accuracy: 0.7377 - lr: 0.0251\n",
            "Epoch 50/100\n",
            "1768/1768 [==============================] - 5s 3ms/step - loss: 0.5567 - accuracy: 0.7108 - lr: 0.0282\n",
            "Epoch 51/100\n",
            "1768/1768 [==============================] - 5s 3ms/step - loss: 0.6132 - accuracy: 0.6839 - lr: 0.0316\n",
            "Epoch 52/100\n",
            "1768/1768 [==============================] - 5s 3ms/step - loss: 0.5964 - accuracy: 0.6963 - lr: 0.0355\n",
            "Epoch 53/100\n",
            "1768/1768 [==============================] - 5s 3ms/step - loss: 0.6722 - accuracy: 0.5419 - lr: 0.0398\n",
            "Epoch 54/100\n",
            "1768/1768 [==============================] - 5s 3ms/step - loss: 0.6948 - accuracy: 0.5011 - lr: 0.0447\n",
            "Epoch 55/100\n",
            "1768/1768 [==============================] - 5s 3ms/step - loss: 0.6953 - accuracy: 0.4981 - lr: 0.0501\n",
            "Epoch 56/100\n",
            "1768/1768 [==============================] - 5s 3ms/step - loss: 0.6954 - accuracy: 0.5006 - lr: 0.0562\n",
            "Epoch 57/100\n",
            "1768/1768 [==============================] - 5s 3ms/step - loss: 0.6959 - accuracy: 0.5013 - lr: 0.0631\n",
            "Epoch 58/100\n",
            "1768/1768 [==============================] - 5s 3ms/step - loss: 0.6964 - accuracy: 0.4995 - lr: 0.0708\n",
            "Epoch 59/100\n",
            "1768/1768 [==============================] - 5s 3ms/step - loss: 0.6967 - accuracy: 0.4992 - lr: 0.0794\n",
            "Epoch 60/100\n",
            "1768/1768 [==============================] - 5s 3ms/step - loss: 0.6966 - accuracy: 0.4989 - lr: 0.0891\n",
            "Epoch 61/100\n",
            "1768/1768 [==============================] - 5s 3ms/step - loss: 0.6980 - accuracy: 0.4973 - lr: 0.1000\n",
            "Epoch 62/100\n",
            "1768/1768 [==============================] - 5s 3ms/step - loss: 0.6972 - accuracy: 0.5014 - lr: 0.1122\n",
            "Epoch 63/100\n",
            "1768/1768 [==============================] - 5s 3ms/step - loss: 0.6975 - accuracy: 0.5029 - lr: 0.1259\n",
            "Epoch 64/100\n",
            "1768/1768 [==============================] - 5s 3ms/step - loss: 0.6980 - accuracy: 0.4998 - lr: 0.1413\n",
            "Epoch 65/100\n",
            "1768/1768 [==============================] - 5s 3ms/step - loss: 0.6997 - accuracy: 0.4987 - lr: 0.1585\n",
            "Epoch 66/100\n",
            "1768/1768 [==============================] - 5s 3ms/step - loss: 0.7007 - accuracy: 0.4989 - lr: 0.1778\n",
            "Epoch 67/100\n",
            "1768/1768 [==============================] - 5s 3ms/step - loss: 0.7006 - accuracy: 0.4965 - lr: 0.1995\n",
            "Epoch 68/100\n",
            "1768/1768 [==============================] - 5s 3ms/step - loss: 0.7022 - accuracy: 0.4975 - lr: 0.2239\n",
            "Epoch 69/100\n",
            "1768/1768 [==============================] - 5s 3ms/step - loss: 0.7017 - accuracy: 0.5026 - lr: 0.2512\n",
            "Epoch 70/100\n",
            "1768/1768 [==============================] - 5s 3ms/step - loss: 0.7027 - accuracy: 0.4999 - lr: 0.2818\n",
            "Epoch 71/100\n",
            "1768/1768 [==============================] - 5s 3ms/step - loss: 0.7048 - accuracy: 0.5018 - lr: 0.3162\n",
            "Epoch 72/100\n",
            "1768/1768 [==============================] - 5s 3ms/step - loss: 0.7067 - accuracy: 0.4962 - lr: 0.3548\n",
            "Epoch 73/100\n",
            "1768/1768 [==============================] - 5s 3ms/step - loss: 0.7081 - accuracy: 0.4989 - lr: 0.3981\n",
            "Epoch 74/100\n",
            "1768/1768 [==============================] - 5s 3ms/step - loss: 0.7116 - accuracy: 0.4985 - lr: 0.4467\n",
            "Epoch 75/100\n",
            "1768/1768 [==============================] - 5s 3ms/step - loss: 0.7133 - accuracy: 0.4975 - lr: 0.5012\n",
            "Epoch 76/100\n",
            "1768/1768 [==============================] - 5s 3ms/step - loss: 0.7104 - accuracy: 0.5015 - lr: 0.5623\n",
            "Epoch 77/100\n",
            "1768/1768 [==============================] - 5s 3ms/step - loss: 0.7134 - accuracy: 0.4984 - lr: 0.6310\n",
            "Epoch 78/100\n",
            "1768/1768 [==============================] - 5s 3ms/step - loss: 0.7125 - accuracy: 0.5020 - lr: 0.7079\n",
            "Epoch 79/100\n",
            "1768/1768 [==============================] - 5s 3ms/step - loss: 0.7192 - accuracy: 0.4980 - lr: 0.7943\n",
            "Epoch 80/100\n",
            "1768/1768 [==============================] - 5s 3ms/step - loss: 0.7206 - accuracy: 0.4996 - lr: 0.8913\n",
            "Epoch 81/100\n",
            "1768/1768 [==============================] - 5s 3ms/step - loss: 0.7232 - accuracy: 0.4992 - lr: 1.0000\n",
            "Epoch 82/100\n",
            "1768/1768 [==============================] - 5s 3ms/step - loss: 0.7208 - accuracy: 0.4993 - lr: 1.1220\n",
            "Epoch 83/100\n",
            "1768/1768 [==============================] - 5s 3ms/step - loss: 0.7287 - accuracy: 0.5003 - lr: 1.2589\n",
            "Epoch 84/100\n",
            "1768/1768 [==============================] - 5s 3ms/step - loss: 0.7394 - accuracy: 0.4941 - lr: 1.4125\n",
            "Epoch 85/100\n",
            "1768/1768 [==============================] - 5s 3ms/step - loss: 0.7326 - accuracy: 0.5039 - lr: 1.5849\n",
            "Epoch 86/100\n",
            "1768/1768 [==============================] - 5s 3ms/step - loss: 0.7440 - accuracy: 0.5004 - lr: 1.7783\n",
            "Epoch 87/100\n",
            "1768/1768 [==============================] - 5s 3ms/step - loss: 0.7458 - accuracy: 0.4972 - lr: 1.9953\n",
            "Epoch 88/100\n",
            "1768/1768 [==============================] - 5s 3ms/step - loss: 0.7497 - accuracy: 0.5006 - lr: 2.2387\n",
            "Epoch 89/100\n",
            "1768/1768 [==============================] - 5s 3ms/step - loss: 0.7585 - accuracy: 0.4995 - lr: 2.5119\n",
            "Epoch 90/100\n",
            "1768/1768 [==============================] - 5s 3ms/step - loss: 0.7620 - accuracy: 0.5037 - lr: 2.8184\n",
            "Epoch 91/100\n",
            "1768/1768 [==============================] - 5s 3ms/step - loss: 0.7741 - accuracy: 0.5012 - lr: 3.1623\n",
            "Epoch 92/100\n",
            "1768/1768 [==============================] - 5s 3ms/step - loss: 0.7695 - accuracy: 0.5016 - lr: 3.5481\n",
            "Epoch 93/100\n",
            "1768/1768 [==============================] - 5s 3ms/step - loss: 0.8019 - accuracy: 0.4984 - lr: 3.9811\n",
            "Epoch 94/100\n",
            "1768/1768 [==============================] - 5s 3ms/step - loss: 0.8016 - accuracy: 0.4993 - lr: 4.4668\n",
            "Epoch 95/100\n",
            "1768/1768 [==============================] - 5s 3ms/step - loss: 0.8130 - accuracy: 0.4965 - lr: 5.0119\n",
            "Epoch 96/100\n",
            "1768/1768 [==============================] - 5s 3ms/step - loss: 0.8421 - accuracy: 0.4999 - lr: 5.6234\n",
            "Epoch 97/100\n",
            "1768/1768 [==============================] - 5s 3ms/step - loss: 0.8374 - accuracy: 0.5020 - lr: 6.3096\n",
            "Epoch 98/100\n",
            "1768/1768 [==============================] - 5s 3ms/step - loss: 0.8420 - accuracy: 0.5034 - lr: 7.0795\n",
            "Epoch 99/100\n",
            "1768/1768 [==============================] - 5s 3ms/step - loss: 0.9136 - accuracy: 0.4979 - lr: 7.9433\n",
            "Epoch 100/100\n",
            "1768/1768 [==============================] - 5s 3ms/step - loss: 0.9553 - accuracy: 0.4994 - lr: 8.9125\n"
          ]
        }
      ],
      "source": [
        "#Setting Random Seed\n",
        "tf.random.set_seed(42)\n",
        "\n",
        "# Create the modele\n",
        "model_1 = tf.keras.Sequential([\n",
        "  tf.keras.layers.Dense(30), # hidden layer 1, using \"relu\" for activation (same as tf.keras.activations.relu)\n",
        "  tf.keras.layers.Dense(100, activation=\"relu\"),\n",
        "  tf.keras.layers.Dense(100, activation='relu'),\n",
        "  tf.keras.layers.Dense(3, activation=\"Softmax\")\n",
        "])\n",
        "\n",
        "# Compile the model\n",
        "model_1.compile(loss='sparse_categorical_crossentropy', optimizer=tf.keras.optimizers.Adam(lr=0.01), metrics=['accuracy'])\n",
        "\n",
        "#Creating a CallBack\n",
        "lr_scheduler = tf.keras.callbacks.LearningRateScheduler(lambda epoch: 1e-4 * 10**(epoch/20))\n",
        "\n",
        "# Fit the model\n",
        "history = model_1.fit(X_train_ct, Y_train, epochs=100,callbacks=[lr_scheduler])"
      ]
    },
    {
      "cell_type": "code",
      "execution_count": null,
      "metadata": {
        "id": "8yHPZczaQiki"
      },
      "outputs": [],
      "source": [
        "Y_pred = model_1.predict(X_test_ct)"
      ]
    },
    {
      "cell_type": "code",
      "execution_count": null,
      "metadata": {
        "colab": {
          "base_uri": "https://localhost:8080/"
        },
        "id": "4OZGjJZA7W8r",
        "outputId": "aaf1830f-d5a5-4701-862e-d4daa0ca1b6e"
      },
      "outputs": [
        {
          "data": {
            "text/plain": [
              "array([[4.8410252e-01, 5.1589745e-01, 7.6857612e-13],\n",
              "       [4.8410252e-01, 5.1589745e-01, 7.6857612e-13],\n",
              "       [4.8410252e-01, 5.1589745e-01, 7.6857612e-13],\n",
              "       ...,\n",
              "       [4.8410252e-01, 5.1589745e-01, 7.6857612e-13],\n",
              "       [4.8410252e-01, 5.1589745e-01, 7.6857612e-13],\n",
              "       [4.8410252e-01, 5.1589745e-01, 7.6857612e-13]], dtype=float32)"
            ]
          },
          "execution_count": 73,
          "metadata": {},
          "output_type": "execute_result"
        }
      ],
      "source": [
        "Y_pred"
      ]
    },
    {
      "cell_type": "code",
      "execution_count": null,
      "metadata": {
        "id": "3vbsoWUtQb8t"
      },
      "outputs": [],
      "source": [
        "y_preds = Y_pred.argmax(axis=1)"
      ]
    },
    {
      "cell_type": "code",
      "execution_count": null,
      "metadata": {
        "colab": {
          "base_uri": "https://localhost:8080/"
        },
        "id": "hpo19HCn63Ei",
        "outputId": "30db7921-f201-4520-de75-6e0ae53bb58a"
      },
      "outputs": [
        {
          "data": {
            "text/plain": [
              "<tf.Tensor: shape=(2, 2), dtype=int32, numpy=\n",
              "array([[   0, 7070],\n",
              "       [   0, 7069]], dtype=int32)>"
            ]
          },
          "execution_count": 75,
          "metadata": {},
          "output_type": "execute_result"
        }
      ],
      "source": [
        "tf.math.confusion_matrix(y_test,y_preds)"
      ]
    },
    {
      "cell_type": "code",
      "execution_count": null,
      "metadata": {
        "colab": {
          "base_uri": "https://localhost:8080/"
        },
        "id": "9E1n4fFtj5ui",
        "outputId": "a0604d12-92ef-444b-bf38-3fd5b3cda013"
      },
      "outputs": [
        {
          "name": "stdout",
          "output_type": "stream",
          "text": [
            "442/442 [==============================] - 1s 2ms/step - loss: 0.6937 - accuracy: 0.5000\n"
          ]
        },
        {
          "data": {
            "text/plain": [
              "[0.693655252456665, 0.4999646246433258]"
            ]
          },
          "execution_count": 76,
          "metadata": {},
          "output_type": "execute_result"
        }
      ],
      "source": [
        "model_1.evaluate(X_test_ct,y_test)"
      ]
    },
    {
      "cell_type": "code",
      "execution_count": null,
      "metadata": {
        "colab": {
          "base_uri": "https://localhost:8080/",
          "height": 282
        },
        "id": "Gos4NvzVR4r_",
        "outputId": "ad2425ed-97c8-4c43-a546-63efcae3495d"
      },
      "outputs": [
        {
          "data": {
            "text/plain": [
              "<matplotlib.axes._subplots.AxesSubplot at 0x7f134667f6d0>"
            ]
          },
          "execution_count": 77,
          "metadata": {},
          "output_type": "execute_result"
        },
        {
          "data": {
            "image/png": "[encoded data removed]",
            "text/plain": [
              "<Figure size 432x288 with 1 Axes>"
            ]
          },
          "metadata": {},
          "output_type": "display_data"
        }
      ],
      "source": [
        "pd.DataFrame(history.history).plot()"
      ]
    },
    {
      "cell_type": "code",
      "execution_count": null,
      "metadata": {
        "colab": {
          "base_uri": "https://localhost:8080/",
          "height": 479
        },
        "id": "u7tVE7kET2Lp",
        "outputId": "a24b5797-d2db-4220-e4de-05d0293a84d8"
      },
      "outputs": [
        {
          "data": {
            "text/plain": [
              "Text(0.5, 1.0, 'Learning Rate vs. Loss')"
            ]
          },
          "execution_count": 78,
          "metadata": {},
          "output_type": "execute_result"
        },
        {
          "data": {
            "image/png": "[encoded data removed]",
            "text/plain": [
              "<Figure size 720x504 with 1 Axes>"
            ]
          },
          "metadata": {},
          "output_type": "display_data"
        }
      ],
      "source": [
        "# Plot the Learning rate versus the loss\n",
        "lrs = 1e-4 * (10**(tf.range(100)/20))\n",
        "plt.figure(figsize=(10,7))\n",
        "plt.semilogx(lrs,history.history['loss'])\n",
        "plt.xlabel(\"Learning Rate\")\n",
        "plt.ylabel(\"Loss\")\n",
        "plt.title(\"Learning Rate vs. Loss\")"
      ]
    },
    {
      "cell_type": "code",
      "execution_count": null,
      "metadata": {
        "colab": {
          "base_uri": "https://localhost:8080/"
        },
        "id": "W-Jx__AUIWLJ",
        "outputId": "a155c7f5-7554-4b8a-a2b1-2399af8505dd"
      },
      "outputs": [
        {
          "name": "stdout",
          "output_type": "stream",
          "text": [
            "Epoch 1/100\n"
          ]
        },
        {
          "name": "stderr",
          "output_type": "stream",
          "text": [
            "/usr/local/lib/python3.7/dist-packages/keras/optimizer_v2/adam.py:105: UserWarning: The `lr` argument is deprecated, use `learning_rate` instead.\n",
            "  super(Adam, self).__init__(name, **kwargs)\n"
          ]
        },
        {
          "name": "stdout",
          "output_type": "stream",
          "text": [
            "1768/1768 [==============================] - 5s 2ms/step - loss: 0.5302 - accuracy: 0.7349\n",
            "Epoch 2/100\n",
            "1768/1768 [==============================] - 4s 2ms/step - loss: 0.5153 - accuracy: 0.7465\n",
            "Epoch 3/100\n",
            "1768/1768 [==============================] - 4s 2ms/step - loss: 0.5122 - accuracy: 0.7467\n",
            "Epoch 4/100\n",
            "1768/1768 [==============================] - 4s 3ms/step - loss: 0.5106 - accuracy: 0.7489\n",
            "Epoch 5/100\n",
            "1768/1768 [==============================] - 4s 2ms/step - loss: 0.5093 - accuracy: 0.7502\n",
            "Epoch 6/100\n",
            "1768/1768 [==============================] - 4s 2ms/step - loss: 0.5081 - accuracy: 0.7521\n",
            "Epoch 7/100\n",
            "1768/1768 [==============================] - 4s 2ms/step - loss: 0.5074 - accuracy: 0.7508\n",
            "Epoch 8/100\n",
            "1768/1768 [==============================] - 4s 2ms/step - loss: 0.5064 - accuracy: 0.7519\n",
            "Epoch 9/100\n",
            "1768/1768 [==============================] - 4s 2ms/step - loss: 0.5060 - accuracy: 0.7528\n",
            "Epoch 10/100\n",
            "1768/1768 [==============================] - 4s 2ms/step - loss: 0.5056 - accuracy: 0.7525\n",
            "Epoch 11/100\n",
            "1768/1768 [==============================] - 4s 2ms/step - loss: 0.5048 - accuracy: 0.7529\n",
            "Epoch 12/100\n",
            "1768/1768 [==============================] - 4s 2ms/step - loss: 0.5046 - accuracy: 0.7529\n",
            "Epoch 13/100\n",
            "1768/1768 [==============================] - 4s 2ms/step - loss: 0.5037 - accuracy: 0.7533\n",
            "Epoch 14/100\n",
            "1768/1768 [==============================] - 4s 2ms/step - loss: 0.5034 - accuracy: 0.7533\n",
            "Epoch 15/100\n",
            "1768/1768 [==============================] - 4s 2ms/step - loss: 0.5026 - accuracy: 0.7535\n",
            "Epoch 16/100\n",
            "1768/1768 [==============================] - 4s 2ms/step - loss: 0.5021 - accuracy: 0.7544\n",
            "Epoch 17/100\n",
            "1768/1768 [==============================] - 4s 2ms/step - loss: 0.5015 - accuracy: 0.7554\n",
            "Epoch 18/100\n",
            "1768/1768 [==============================] - 4s 3ms/step - loss: 0.5007 - accuracy: 0.7567\n",
            "Epoch 19/100\n",
            "1768/1768 [==============================] - 4s 3ms/step - loss: 0.5000 - accuracy: 0.7553\n",
            "Epoch 20/100\n",
            "1768/1768 [==============================] - 4s 3ms/step - loss: 0.5001 - accuracy: 0.7541\n",
            "Epoch 21/100\n",
            "1768/1768 [==============================] - 4s 3ms/step - loss: 0.4987 - accuracy: 0.7568\n",
            "Epoch 22/100\n",
            "1768/1768 [==============================] - 4s 2ms/step - loss: 0.4982 - accuracy: 0.7561\n",
            "Epoch 23/100\n",
            "1768/1768 [==============================] - 4s 2ms/step - loss: 0.4977 - accuracy: 0.7565\n",
            "Epoch 24/100\n",
            "1768/1768 [==============================] - 4s 2ms/step - loss: 0.4966 - accuracy: 0.7578\n",
            "Epoch 25/100\n",
            "1768/1768 [==============================] - 4s 2ms/step - loss: 0.4959 - accuracy: 0.7586\n",
            "Epoch 26/100\n",
            "1768/1768 [==============================] - 4s 2ms/step - loss: 0.4946 - accuracy: 0.7584\n",
            "Epoch 27/100\n",
            "1768/1768 [==============================] - 4s 2ms/step - loss: 0.4947 - accuracy: 0.7583\n",
            "Epoch 28/100\n",
            "1768/1768 [==============================] - 4s 2ms/step - loss: 0.4935 - accuracy: 0.7608\n",
            "Epoch 29/100\n",
            "1768/1768 [==============================] - 4s 2ms/step - loss: 0.4920 - accuracy: 0.7616\n",
            "Epoch 30/100\n",
            "1768/1768 [==============================] - 4s 2ms/step - loss: 0.4913 - accuracy: 0.7601\n",
            "Epoch 31/100\n",
            "1768/1768 [==============================] - 4s 2ms/step - loss: 0.4908 - accuracy: 0.7603\n",
            "Epoch 32/100\n",
            "1768/1768 [==============================] - 4s 2ms/step - loss: 0.4896 - accuracy: 0.7616\n",
            "Epoch 33/100\n",
            "1768/1768 [==============================] - 4s 2ms/step - loss: 0.4891 - accuracy: 0.7622\n",
            "Epoch 34/100\n",
            "1768/1768 [==============================] - 4s 2ms/step - loss: 0.4877 - accuracy: 0.7643\n",
            "Epoch 35/100\n",
            "1768/1768 [==============================] - 4s 2ms/step - loss: 0.4870 - accuracy: 0.7639\n",
            "Epoch 36/100\n",
            "1768/1768 [==============================] - 4s 2ms/step - loss: 0.4858 - accuracy: 0.7640\n",
            "Epoch 37/100\n",
            "1768/1768 [==============================] - 4s 2ms/step - loss: 0.4851 - accuracy: 0.7652\n",
            "Epoch 38/100\n",
            "1768/1768 [==============================] - 4s 2ms/step - loss: 0.4840 - accuracy: 0.7661\n",
            "Epoch 39/100\n",
            "1768/1768 [==============================] - 4s 2ms/step - loss: 0.4839 - accuracy: 0.7660\n",
            "Epoch 40/100\n",
            "1768/1768 [==============================] - 4s 2ms/step - loss: 0.4829 - accuracy: 0.7661\n",
            "Epoch 41/100\n",
            "1768/1768 [==============================] - 4s 2ms/step - loss: 0.4822 - accuracy: 0.7671\n",
            "Epoch 42/100\n",
            "1768/1768 [==============================] - 4s 2ms/step - loss: 0.4810 - accuracy: 0.7661\n",
            "Epoch 43/100\n",
            "1768/1768 [==============================] - 4s 2ms/step - loss: 0.4802 - accuracy: 0.7683\n",
            "Epoch 44/100\n",
            "1768/1768 [==============================] - 4s 2ms/step - loss: 0.4797 - accuracy: 0.7683\n",
            "Epoch 45/100\n",
            "1768/1768 [==============================] - 4s 2ms/step - loss: 0.4799 - accuracy: 0.7687\n",
            "Epoch 46/100\n",
            "1768/1768 [==============================] - 4s 2ms/step - loss: 0.4786 - accuracy: 0.7693\n",
            "Epoch 47/100\n",
            "1768/1768 [==============================] - 4s 2ms/step - loss: 0.4767 - accuracy: 0.7694\n",
            "Epoch 48/100\n",
            "1768/1768 [==============================] - 4s 2ms/step - loss: 0.4776 - accuracy: 0.7690\n",
            "Epoch 49/100\n",
            "1768/1768 [==============================] - 4s 2ms/step - loss: 0.4768 - accuracy: 0.7696\n",
            "Epoch 50/100\n",
            "1768/1768 [==============================] - 4s 2ms/step - loss: 0.4760 - accuracy: 0.7698\n",
            "Epoch 51/100\n",
            "1768/1768 [==============================] - 4s 2ms/step - loss: 0.4747 - accuracy: 0.7701\n",
            "Epoch 52/100\n",
            "1768/1768 [==============================] - 4s 2ms/step - loss: 0.4749 - accuracy: 0.7714\n",
            "Epoch 53/100\n",
            "1768/1768 [==============================] - 4s 2ms/step - loss: 0.4736 - accuracy: 0.7727\n",
            "Epoch 54/100\n",
            "1768/1768 [==============================] - 4s 2ms/step - loss: 0.4732 - accuracy: 0.7722\n",
            "Epoch 55/100\n",
            "1768/1768 [==============================] - 4s 2ms/step - loss: 0.4722 - accuracy: 0.7716\n",
            "Epoch 56/100\n",
            "1768/1768 [==============================] - 4s 2ms/step - loss: 0.4711 - accuracy: 0.7733\n",
            "Epoch 57/100\n",
            "1768/1768 [==============================] - 4s 2ms/step - loss: 0.4707 - accuracy: 0.7741\n",
            "Epoch 58/100\n",
            "1768/1768 [==============================] - 4s 2ms/step - loss: 0.4706 - accuracy: 0.7741\n",
            "Epoch 59/100\n",
            "1768/1768 [==============================] - 4s 2ms/step - loss: 0.4695 - accuracy: 0.7750\n",
            "Epoch 60/100\n",
            "1768/1768 [==============================] - 4s 2ms/step - loss: 0.4685 - accuracy: 0.7746\n",
            "Epoch 61/100\n",
            "1768/1768 [==============================] - 4s 2ms/step - loss: 0.4688 - accuracy: 0.7748\n",
            "Epoch 62/100\n",
            "1768/1768 [==============================] - 4s 2ms/step - loss: 0.4671 - accuracy: 0.7753\n",
            "Epoch 63/100\n",
            "1768/1768 [==============================] - 4s 2ms/step - loss: 0.4671 - accuracy: 0.7746\n",
            "Epoch 64/100\n",
            "1768/1768 [==============================] - 4s 2ms/step - loss: 0.4663 - accuracy: 0.7761\n",
            "Epoch 65/100\n",
            "1768/1768 [==============================] - 4s 2ms/step - loss: 0.4655 - accuracy: 0.7762\n",
            "Epoch 66/100\n",
            "1768/1768 [==============================] - 4s 2ms/step - loss: 0.4644 - accuracy: 0.7772\n",
            "Epoch 67/100\n",
            "1768/1768 [==============================] - 4s 2ms/step - loss: 0.4644 - accuracy: 0.7767\n",
            "Epoch 68/100\n",
            "1768/1768 [==============================] - 4s 2ms/step - loss: 0.4641 - accuracy: 0.7773\n",
            "Epoch 69/100\n",
            "1768/1768 [==============================] - 4s 2ms/step - loss: 0.4637 - accuracy: 0.7774\n",
            "Epoch 70/100\n",
            "1768/1768 [==============================] - 4s 2ms/step - loss: 0.4617 - accuracy: 0.7774\n",
            "Epoch 71/100\n",
            "1768/1768 [==============================] - 4s 2ms/step - loss: 0.4621 - accuracy: 0.7772\n",
            "Epoch 72/100\n",
            "1768/1768 [==============================] - 4s 2ms/step - loss: 0.4623 - accuracy: 0.7784\n",
            "Epoch 73/100\n",
            "1768/1768 [==============================] - 4s 2ms/step - loss: 0.4608 - accuracy: 0.7791\n",
            "Epoch 74/100\n",
            "1768/1768 [==============================] - 4s 2ms/step - loss: 0.4598 - accuracy: 0.7800\n",
            "Epoch 75/100\n",
            "1768/1768 [==============================] - 4s 2ms/step - loss: 0.4584 - accuracy: 0.7792\n",
            "Epoch 76/100\n",
            "1768/1768 [==============================] - 4s 2ms/step - loss: 0.4596 - accuracy: 0.7786\n",
            "Epoch 77/100\n",
            "1768/1768 [==============================] - 4s 2ms/step - loss: 0.4571 - accuracy: 0.7810\n",
            "Epoch 78/100\n",
            "1768/1768 [==============================] - 4s 2ms/step - loss: 0.4571 - accuracy: 0.7799\n",
            "Epoch 79/100\n",
            "1768/1768 [==============================] - 4s 2ms/step - loss: 0.4576 - accuracy: 0.7814\n",
            "Epoch 80/100\n",
            "1768/1768 [==============================] - 4s 2ms/step - loss: 0.4560 - accuracy: 0.7814\n",
            "Epoch 81/100\n",
            "1768/1768 [==============================] - 4s 2ms/step - loss: 0.4570 - accuracy: 0.7789\n",
            "Epoch 82/100\n",
            "1768/1768 [==============================] - 4s 2ms/step - loss: 0.4544 - accuracy: 0.7811\n",
            "Epoch 83/100\n",
            "1768/1768 [==============================] - 4s 2ms/step - loss: 0.4541 - accuracy: 0.7826\n",
            "Epoch 84/100\n",
            "1768/1768 [==============================] - 4s 2ms/step - loss: 0.4539 - accuracy: 0.7815\n",
            "Epoch 85/100\n",
            "1768/1768 [==============================] - 4s 3ms/step - loss: 0.4543 - accuracy: 0.7822\n",
            "Epoch 86/100\n",
            "1768/1768 [==============================] - 4s 2ms/step - loss: 0.4533 - accuracy: 0.7836\n",
            "Epoch 87/100\n",
            "1768/1768 [==============================] - 4s 2ms/step - loss: 0.4529 - accuracy: 0.7826\n",
            "Epoch 88/100\n",
            "1768/1768 [==============================] - 4s 2ms/step - loss: 0.4531 - accuracy: 0.7829\n",
            "Epoch 89/100\n",
            "1768/1768 [==============================] - 5s 3ms/step - loss: 0.4518 - accuracy: 0.7837\n",
            "Epoch 90/100\n",
            "1768/1768 [==============================] - 4s 3ms/step - loss: 0.4520 - accuracy: 0.7835\n",
            "Epoch 91/100\n",
            "1768/1768 [==============================] - 4s 2ms/step - loss: 0.4521 - accuracy: 0.7831\n",
            "Epoch 92/100\n",
            "1768/1768 [==============================] - 4s 2ms/step - loss: 0.4510 - accuracy: 0.7836\n",
            "Epoch 93/100\n",
            "1768/1768 [==============================] - 4s 3ms/step - loss: 0.4509 - accuracy: 0.7831\n",
            "Epoch 94/100\n",
            "1768/1768 [==============================] - 4s 2ms/step - loss: 0.4496 - accuracy: 0.7847\n",
            "Epoch 95/100\n",
            "1768/1768 [==============================] - 4s 2ms/step - loss: 0.4488 - accuracy: 0.7838\n",
            "Epoch 96/100\n",
            "1768/1768 [==============================] - 4s 2ms/step - loss: 0.4491 - accuracy: 0.7840\n",
            "Epoch 97/100\n",
            "1768/1768 [==============================] - 5s 3ms/step - loss: 0.4495 - accuracy: 0.7858\n",
            "Epoch 98/100\n",
            "1768/1768 [==============================] - 4s 2ms/step - loss: 0.4480 - accuracy: 0.7850\n",
            "Epoch 99/100\n",
            "1768/1768 [==============================] - 4s 2ms/step - loss: 0.4468 - accuracy: 0.7849\n",
            "Epoch 100/100\n",
            "1768/1768 [==============================] - 4s 2ms/step - loss: 0.4471 - accuracy: 0.7853\n"
          ]
        }
      ],
      "source": [
        "#Setting random seed\n",
        "tf.random.set_seed(42)\n",
        "\n",
        "#Create the model\n",
        "model_2 = tf.keras.Sequential([\n",
        "    tf.keras.layers.Dense(100),\n",
        "    tf.keras.layers.Dense(100,activation='relu'),\n",
        "    tf.keras.layers.Dense(100,activation='relu'),\n",
        "    tf.keras.layers.Dense(3,activation='softmax')\n",
        "])\n",
        "\n",
        "#Compile the Model\n",
        "model_2.compile(\n",
        "    loss='sparse_categorical_crossentropy', \n",
        "    optimizer=tf.keras.optimizers.Adam(lr=0.001), \n",
        "    metrics=['accuracy']\n",
        ")\n",
        "\n",
        "#Fit the Model\n",
        "history_2=model_2.fit(X_train_ct,Y_train,epochs=100)"
      ]
    },
    {
      "cell_type": "code",
      "execution_count": null,
      "metadata": {
        "colab": {
          "base_uri": "https://localhost:8080/"
        },
        "id": "-YMQceY1DSZZ",
        "outputId": "93279bba-74d3-4dba-d18a-21ef65425654"
      },
      "outputs": [
        {
          "data": {
            "text/plain": [
              "<tf.Tensor: shape=(2, 2), dtype=int32, numpy=\n",
              "array([[4966, 2104],\n",
              "       [1687, 5382]], dtype=int32)>"
            ]
          },
          "execution_count": 100,
          "metadata": {},
          "output_type": "execute_result"
        }
      ],
      "source": [
        "Y_pred1=model_2.predict(X_test_ct)\n",
        "y_preds1 = Y_pred1.argmax(axis=1)\n",
        "tf.math.confusion_matrix(y_test,y_preds1)"
      ]
    },
    {
      "cell_type": "code",
      "execution_count": null,
      "metadata": {
        "id": "KXL54YCVJHmT"
      },
      "outputs": [],
      "source": [
        "import xgboost as xgb"
      ]
    },
    {
      "cell_type": "code",
      "execution_count": null,
      "metadata": {
        "id": "3vtLswgBzK_8"
      },
      "outputs": [],
      "source": [
        "param_grid = {\n",
        "    \"max_depth\": [3, 4, 5, 7],\n",
        "    \"learning_rate\": [0.1, 0.01, 0.05],\n",
        "    \"gamma\": [0, 0.25, 1],\n",
        "    \"reg_lambda\": [0, 1, 10],\n",
        "    \"scale_pos_weight\": [1, 3, 5],\n",
        "    \"subsample\": [0.8],\n",
        "    \"colsample_bytree\": [0.5],\n",
        "}"
      ]
    },
    {
      "cell_type": "code",
      "execution_count": null,
      "metadata": {
        "colab": {
          "base_uri": "https://localhost:8080/"
        },
        "id": "7E7rs8d1yWMx",
        "outputId": "b96d11f0-472a-48fb-ec65-0aeeecd43bef"
      },
      "outputs": [
        {
          "name": "stdout",
          "output_type": "stream",
          "text": [
            "Fitting 3 folds for each of 20 candidates, totalling 60 fits\n"
          ]
        },
        {
          "data": {
            "text/plain": [
              "RandomizedSearchCV(cv=3,\n",
              "                   estimator=XGBClassifier(colsample_bytree=0.5, gamma=1,\n",
              "                                           learning_rate=0.01, max_depth=5,\n",
              "                                           scale_pos_weight=5, subsample=0.8),\n",
              "                   n_iter=20, n_jobs=-1,\n",
              "                   param_distributions={'colsample_bytree': [0.5],\n",
              "                                        'gamma': [0, 0.25, 1],\n",
              "                                        'learning_rate': [0.1, 0.01, 0.05],\n",
              "                                        'max_depth': [3, 4, 5, 7],\n",
              "                                        'reg_lambda': [0, 1, 10],\n",
              "                                        'scale_pos_weight': [1, 3, 5],\n",
              "                                        'subsample': [0.8]},\n",
              "                   scoring='roc_auc', verbose=2)"
            ]
          },
          "execution_count": 83,
          "metadata": {},
          "output_type": "execute_result"
        }
      ],
      "source": [
        "from sklearn.model_selection import RandomizedSearchCV\n",
        "\n",
        "# Init classifier\n",
        "xgb_cl = xgb.XGBClassifier(subsample= 0.8,\n",
        " scale_pos_weight= 5,\n",
        " reg_lambda= 1,\n",
        " max_depth= 5,\n",
        " learning_rate= 0.01,\n",
        " gamma= 1,\n",
        " colsample_bytree= 0.5)\n",
        "\n",
        "# Init Grid Search\n",
        "grid_cv = RandomizedSearchCV(xgb_cl, param_grid, n_jobs=-1, cv=3, scoring=\"roc_auc\",verbose=2,n_iter=20)\n",
        "\n",
        "# Fit\n",
        "grid_cv.fit(X_train_ct, Y_train)"
      ]
    },
    {
      "cell_type": "code",
      "execution_count": null,
      "metadata": {
        "colab": {
          "base_uri": "https://localhost:8080/"
        },
        "id": "z3Pyhr1-TC9D",
        "outputId": "a70417d1-a056-4619-e286-d8f6b90575ce"
      },
      "outputs": [
        {
          "data": {
            "text/plain": [
              "{'subsample': 0.8,\n",
              " 'scale_pos_weight': 3,\n",
              " 'reg_lambda': 10,\n",
              " 'max_depth': 4,\n",
              " 'learning_rate': 0.1,\n",
              " 'gamma': 0,\n",
              " 'colsample_bytree': 0.5}"
            ]
          },
          "execution_count": 84,
          "metadata": {},
          "output_type": "execute_result"
        }
      ],
      "source": [
        "grid_cv.best_params_"
      ]
    },
    {
      "cell_type": "code",
      "execution_count": null,
      "metadata": {
        "id": "lCXVL6FHydCm"
      },
      "outputs": [],
      "source": [
        "from sklearn.metrics import accuracy_score"
      ]
    },
    {
      "cell_type": "code",
      "execution_count": null,
      "metadata": {
        "id": "9t5MBI50Tv38"
      },
      "outputs": [],
      "source": [
        "xgb_cl = xgb.XGBClassifier(subsample= 0.8,\n",
        " scale_pos_weight= 5,\n",
        " reg_lambda= 1,\n",
        " max_depth= 5,\n",
        " learning_rate= 0.01,\n",
        " gamma= 1,\n",
        " colsample_bytree= 0.5)"
      ]
    },
    {
      "cell_type": "code",
      "execution_count": null,
      "metadata": {
        "id": "ualIGsT2I-ta"
      },
      "outputs": [],
      "source": [
        "xgb_cl.fit(X_train_ct,Y_train)\n",
        "Y_preds = xgb_cl.predict(X_test_ct)"
      ]
    },
    {
      "cell_type": "code",
      "execution_count": null,
      "metadata": {
        "colab": {
          "base_uri": "https://localhost:8080/"
        },
        "id": "J0EnOPU8JHpv",
        "outputId": "2f29173e-6654-467d-d584-b3f88ff4ce64"
      },
      "outputs": [
        {
          "data": {
            "text/plain": [
              "array([1., 1., 1., ..., 1., 1., 0.])"
            ]
          },
          "execution_count": 88,
          "metadata": {},
          "output_type": "execute_result"
        }
      ],
      "source": [
        "Y_preds"
      ]
    },
    {
      "cell_type": "code",
      "execution_count": null,
      "metadata": {
        "colab": {
          "base_uri": "https://localhost:8080/"
        },
        "id": "e8mJOQcEJMRc",
        "outputId": "f2abf1bf-ae2f-48f5-c128-a8fdc5e045d0"
      },
      "outputs": [
        {
          "data": {
            "text/plain": [
              "0.6272720843058208"
            ]
          },
          "execution_count": 89,
          "metadata": {},
          "output_type": "execute_result"
        }
      ],
      "source": [
        "accuracy_score(y_test,Y_preds)"
      ]
    },
    {
      "cell_type": "code",
      "execution_count": null,
      "metadata": {
        "colab": {
          "base_uri": "https://localhost:8080/"
        },
        "id": "l1M5DUzjUFLl",
        "outputId": "2a5ba2e9-dd23-48d0-a2dd-a83dc2ce5135"
      },
      "outputs": [
        {
          "data": {
            "text/plain": [
              "array([[1886, 5184],\n",
              "       [  86, 6983]])"
            ]
          },
          "execution_count": 90,
          "metadata": {},
          "output_type": "execute_result"
        }
      ],
      "source": [
        "from sklearn.metrics import confusion_matrix\n",
        "confusion_matrix(y_test,Y_preds)"
      ]
    },
    {
      "cell_type": "code",
      "execution_count": null,
      "metadata": {
        "colab": {
          "base_uri": "https://localhost:8080/"
        },
        "id": "F4xVAzY4JVfg",
        "outputId": "36c30251-4ce1-4d01-d0a1-96ba757726b2"
      },
      "outputs": [
        {
          "name": "stdout",
          "output_type": "stream",
          "text": [
            "Fitting 5 folds for each of 50 candidates, totalling 250 fits\n",
            "[CV] END max_depth=None, max_features=log2, max_samples=5000, min_samples_leaf=3, min_samples_split=4, n_estimators=10; total time=   0.4s\n",
            "[CV] END max_depth=None, max_features=log2, max_samples=5000, min_samples_leaf=3, min_samples_split=4, n_estimators=10; total time=   0.3s\n",
            "[CV] END max_depth=None, max_features=log2, max_samples=5000, min_samples_leaf=3, min_samples_split=4, n_estimators=10; total time=   0.3s\n",
            "[CV] END max_depth=None, max_features=log2, max_samples=5000, min_samples_leaf=3, min_samples_split=4, n_estimators=10; total time=   0.3s\n",
            "[CV] END max_depth=None, max_features=log2, max_samples=5000, min_samples_leaf=3, min_samples_split=4, n_estimators=10; total time=   0.3s\n",
            "[CV] END max_depth=5, max_features=1, max_samples=5000, min_samples_leaf=1, min_samples_split=8, n_estimators=60; total time=   0.6s\n",
            "[CV] END max_depth=5, max_features=1, max_samples=5000, min_samples_leaf=1, min_samples_split=8, n_estimators=60; total time=   0.5s\n",
            "[CV] END max_depth=5, max_features=1, max_samples=5000, min_samples_leaf=1, min_samples_split=8, n_estimators=60; total time=   0.5s\n",
            "[CV] END max_depth=5, max_features=1, max_samples=5000, min_samples_leaf=1, min_samples_split=8, n_estimators=60; total time=   0.5s\n",
            "[CV] END max_depth=5, max_features=1, max_samples=5000, min_samples_leaf=1, min_samples_split=8, n_estimators=60; total time=   0.5s\n",
            "[CV] END max_depth=10, max_features=sqrt, max_samples=10000, min_samples_leaf=5, min_samples_split=6, n_estimators=50; total time=   0.7s\n",
            "[CV] END max_depth=10, max_features=sqrt, max_samples=10000, min_samples_leaf=5, min_samples_split=6, n_estimators=50; total time=   0.7s\n",
            "[CV] END max_depth=10, max_features=sqrt, max_samples=10000, min_samples_leaf=5, min_samples_split=6, n_estimators=50; total time=   0.7s\n",
            "[CV] END max_depth=10, max_features=sqrt, max_samples=10000, min_samples_leaf=5, min_samples_split=6, n_estimators=50; total time=   0.7s\n",
            "[CV] END max_depth=10, max_features=sqrt, max_samples=10000, min_samples_leaf=5, min_samples_split=6, n_estimators=50; total time=   0.7s\n",
            "[CV] END max_depth=5, max_features=sqrt, max_samples=5000, min_samples_leaf=1, min_samples_split=8, n_estimators=40; total time=   0.5s\n",
            "[CV] END max_depth=5, max_features=sqrt, max_samples=5000, min_samples_leaf=1, min_samples_split=8, n_estimators=40; total time=   0.5s\n",
            "[CV] END max_depth=5, max_features=sqrt, max_samples=5000, min_samples_leaf=1, min_samples_split=8, n_estimators=40; total time=   0.5s\n",
            "[CV] END max_depth=5, max_features=sqrt, max_samples=5000, min_samples_leaf=1, min_samples_split=8, n_estimators=40; total time=   0.5s\n",
            "[CV] END max_depth=5, max_features=sqrt, max_samples=5000, min_samples_leaf=1, min_samples_split=8, n_estimators=40; total time=   0.5s\n",
            "[CV] END max_depth=10, max_features=log2, max_samples=2000, min_samples_leaf=5, min_samples_split=2, n_estimators=10; total time=   0.3s\n",
            "[CV] END max_depth=10, max_features=log2, max_samples=2000, min_samples_leaf=5, min_samples_split=2, n_estimators=10; total time=   0.3s\n",
            "[CV] END max_depth=10, max_features=log2, max_samples=2000, min_samples_leaf=5, min_samples_split=2, n_estimators=10; total time=   0.3s\n",
            "[CV] END max_depth=10, max_features=log2, max_samples=2000, min_samples_leaf=5, min_samples_split=2, n_estimators=10; total time=   0.3s\n",
            "[CV] END max_depth=10, max_features=log2, max_samples=2000, min_samples_leaf=5, min_samples_split=2, n_estimators=10; total time=   0.3s\n",
            "[CV] END max_depth=5, max_features=log2, max_samples=5000, min_samples_leaf=7, min_samples_split=8, n_estimators=70; total time=   0.7s\n",
            "[CV] END max_depth=5, max_features=log2, max_samples=5000, min_samples_leaf=7, min_samples_split=8, n_estimators=70; total time=   0.6s\n",
            "[CV] END max_depth=5, max_features=log2, max_samples=5000, min_samples_leaf=7, min_samples_split=8, n_estimators=70; total time=   0.6s\n",
            "[CV] END max_depth=5, max_features=log2, max_samples=5000, min_samples_leaf=7, min_samples_split=8, n_estimators=70; total time=   0.7s\n",
            "[CV] END max_depth=5, max_features=log2, max_samples=5000, min_samples_leaf=7, min_samples_split=8, n_estimators=70; total time=   0.6s\n",
            "[CV] END max_depth=5, max_features=sqrt, max_samples=10000, min_samples_leaf=9, min_samples_split=8, n_estimators=80; total time=   0.8s\n",
            "[CV] END max_depth=5, max_features=sqrt, max_samples=10000, min_samples_leaf=9, min_samples_split=8, n_estimators=80; total time=   0.8s\n",
            "[CV] END max_depth=5, max_features=sqrt, max_samples=10000, min_samples_leaf=9, min_samples_split=8, n_estimators=80; total time=   0.8s\n",
            "[CV] END max_depth=5, max_features=sqrt, max_samples=10000, min_samples_leaf=9, min_samples_split=8, n_estimators=80; total time=   0.9s\n",
            "[CV] END max_depth=5, max_features=sqrt, max_samples=10000, min_samples_leaf=9, min_samples_split=8, n_estimators=80; total time=   0.8s\n",
            "[CV] END max_depth=None, max_features=1, max_samples=2000, min_samples_leaf=9, min_samples_split=6, n_estimators=10; total time=   0.3s\n",
            "[CV] END max_depth=None, max_features=1, max_samples=2000, min_samples_leaf=9, min_samples_split=6, n_estimators=10; total time=   0.3s\n",
            "[CV] END max_depth=None, max_features=1, max_samples=2000, min_samples_leaf=9, min_samples_split=6, n_estimators=10; total time=   0.3s\n",
            "[CV] END max_depth=None, max_features=1, max_samples=2000, min_samples_leaf=9, min_samples_split=6, n_estimators=10; total time=   0.3s\n",
            "[CV] END max_depth=None, max_features=1, max_samples=2000, min_samples_leaf=9, min_samples_split=6, n_estimators=10; total time=   0.3s\n",
            "[CV] END max_depth=10, max_features=sqrt, max_samples=5000, min_samples_leaf=3, min_samples_split=2, n_estimators=60; total time=   0.7s\n",
            "[CV] END max_depth=10, max_features=sqrt, max_samples=5000, min_samples_leaf=3, min_samples_split=2, n_estimators=60; total time=   0.6s\n",
            "[CV] END max_depth=10, max_features=sqrt, max_samples=5000, min_samples_leaf=3, min_samples_split=2, n_estimators=60; total time=   0.6s\n",
            "[CV] END max_depth=10, max_features=sqrt, max_samples=5000, min_samples_leaf=3, min_samples_split=2, n_estimators=60; total time=   0.6s\n",
            "[CV] END max_depth=10, max_features=sqrt, max_samples=5000, min_samples_leaf=3, min_samples_split=2, n_estimators=60; total time=   0.6s\n",
            "[CV] END max_depth=3, max_features=1, max_samples=5000, min_samples_leaf=9, min_samples_split=8, n_estimators=20; total time=   0.3s\n",
            "[CV] END max_depth=3, max_features=1, max_samples=5000, min_samples_leaf=9, min_samples_split=8, n_estimators=20; total time=   0.3s\n",
            "[CV] END max_depth=3, max_features=1, max_samples=5000, min_samples_leaf=9, min_samples_split=8, n_estimators=20; total time=   0.3s\n",
            "[CV] END max_depth=3, max_features=1, max_samples=5000, min_samples_leaf=9, min_samples_split=8, n_estimators=20; total time=   0.3s\n",
            "[CV] END max_depth=3, max_features=1, max_samples=5000, min_samples_leaf=9, min_samples_split=8, n_estimators=20; total time=   0.3s\n",
            "[CV] END max_depth=None, max_features=1, max_samples=2000, min_samples_leaf=9, min_samples_split=8, n_estimators=80; total time=   0.7s\n",
            "[CV] END max_depth=None, max_features=1, max_samples=2000, min_samples_leaf=9, min_samples_split=8, n_estimators=80; total time=   0.7s\n",
            "[CV] END max_depth=None, max_features=1, max_samples=2000, min_samples_leaf=9, min_samples_split=8, n_estimators=80; total time=   0.7s\n",
            "[CV] END max_depth=None, max_features=1, max_samples=2000, min_samples_leaf=9, min_samples_split=8, n_estimators=80; total time=   0.7s\n",
            "[CV] END max_depth=None, max_features=1, max_samples=2000, min_samples_leaf=9, min_samples_split=8, n_estimators=80; total time=   0.7s\n",
            "[CV] END max_depth=5, max_features=0.5, max_samples=2000, min_samples_leaf=7, min_samples_split=6, n_estimators=60; total time=   0.6s\n",
            "[CV] END max_depth=5, max_features=0.5, max_samples=2000, min_samples_leaf=7, min_samples_split=6, n_estimators=60; total time=   0.6s\n",
            "[CV] END max_depth=5, max_features=0.5, max_samples=2000, min_samples_leaf=7, min_samples_split=6, n_estimators=60; total time=   0.6s\n",
            "[CV] END max_depth=5, max_features=0.5, max_samples=2000, min_samples_leaf=7, min_samples_split=6, n_estimators=60; total time=   0.6s\n",
            "[CV] END max_depth=5, max_features=0.5, max_samples=2000, min_samples_leaf=7, min_samples_split=6, n_estimators=60; total time=   0.6s\n",
            "[CV] END max_depth=5, max_features=sqrt, max_samples=2000, min_samples_leaf=1, min_samples_split=2, n_estimators=60; total time=   0.5s\n",
            "[CV] END max_depth=5, max_features=sqrt, max_samples=2000, min_samples_leaf=1, min_samples_split=2, n_estimators=60; total time=   0.5s\n",
            "[CV] END max_depth=5, max_features=sqrt, max_samples=2000, min_samples_leaf=1, min_samples_split=2, n_estimators=60; total time=   0.5s\n",
            "[CV] END max_depth=5, max_features=sqrt, max_samples=2000, min_samples_leaf=1, min_samples_split=2, n_estimators=60; total time=   0.5s\n",
            "[CV] END max_depth=5, max_features=sqrt, max_samples=2000, min_samples_leaf=1, min_samples_split=2, n_estimators=60; total time=   0.5s\n",
            "[CV] END max_depth=None, max_features=log2, max_samples=5000, min_samples_leaf=9, min_samples_split=4, n_estimators=10; total time=   0.3s\n",
            "[CV] END max_depth=None, max_features=log2, max_samples=5000, min_samples_leaf=9, min_samples_split=4, n_estimators=10; total time=   0.3s\n",
            "[CV] END max_depth=None, max_features=log2, max_samples=5000, min_samples_leaf=9, min_samples_split=4, n_estimators=10; total time=   0.3s\n",
            "[CV] END max_depth=None, max_features=log2, max_samples=5000, min_samples_leaf=9, min_samples_split=4, n_estimators=10; total time=   0.3s\n",
            "[CV] END max_depth=None, max_features=log2, max_samples=5000, min_samples_leaf=9, min_samples_split=4, n_estimators=10; total time=   0.3s\n",
            "[CV] END max_depth=5, max_features=log2, max_samples=5000, min_samples_leaf=3, min_samples_split=2, n_estimators=50; total time=   0.5s\n",
            "[CV] END max_depth=5, max_features=log2, max_samples=5000, min_samples_leaf=3, min_samples_split=2, n_estimators=50; total time=   0.5s\n",
            "[CV] END max_depth=5, max_features=log2, max_samples=5000, min_samples_leaf=3, min_samples_split=2, n_estimators=50; total time=   0.5s\n",
            "[CV] END max_depth=5, max_features=log2, max_samples=5000, min_samples_leaf=3, min_samples_split=2, n_estimators=50; total time=   0.5s\n",
            "[CV] END max_depth=5, max_features=log2, max_samples=5000, min_samples_leaf=3, min_samples_split=2, n_estimators=50; total time=   0.5s\n",
            "[CV] END max_depth=3, max_features=sqrt, max_samples=2000, min_samples_leaf=9, min_samples_split=8, n_estimators=40; total time=   0.5s\n",
            "[CV] END max_depth=3, max_features=sqrt, max_samples=2000, min_samples_leaf=9, min_samples_split=8, n_estimators=40; total time=   0.5s\n",
            "[CV] END max_depth=3, max_features=sqrt, max_samples=2000, min_samples_leaf=9, min_samples_split=8, n_estimators=40; total time=   0.5s\n",
            "[CV] END max_depth=3, max_features=sqrt, max_samples=2000, min_samples_leaf=9, min_samples_split=8, n_estimators=40; total time=   0.4s\n",
            "[CV] END max_depth=3, max_features=sqrt, max_samples=2000, min_samples_leaf=9, min_samples_split=8, n_estimators=40; total time=   0.5s\n",
            "[CV] END max_depth=5, max_features=sqrt, max_samples=5000, min_samples_leaf=9, min_samples_split=8, n_estimators=90; total time=   0.8s\n",
            "[CV] END max_depth=5, max_features=sqrt, max_samples=5000, min_samples_leaf=9, min_samples_split=8, n_estimators=90; total time=   0.8s\n",
            "[CV] END max_depth=5, max_features=sqrt, max_samples=5000, min_samples_leaf=9, min_samples_split=8, n_estimators=90; total time=   0.8s\n",
            "[CV] END max_depth=5, max_features=sqrt, max_samples=5000, min_samples_leaf=9, min_samples_split=8, n_estimators=90; total time=   0.8s\n",
            "[CV] END max_depth=5, max_features=sqrt, max_samples=5000, min_samples_leaf=9, min_samples_split=8, n_estimators=90; total time=   0.8s\n",
            "[CV] END max_depth=10, max_features=sqrt, max_samples=10000, min_samples_leaf=1, min_samples_split=4, n_estimators=50; total time=   0.7s\n",
            "[CV] END max_depth=10, max_features=sqrt, max_samples=10000, min_samples_leaf=1, min_samples_split=4, n_estimators=50; total time=   0.7s\n",
            "[CV] END max_depth=10, max_features=sqrt, max_samples=10000, min_samples_leaf=1, min_samples_split=4, n_estimators=50; total time=   0.7s\n",
            "[CV] END max_depth=10, max_features=sqrt, max_samples=10000, min_samples_leaf=1, min_samples_split=4, n_estimators=50; total time=   0.7s\n",
            "[CV] END max_depth=10, max_features=sqrt, max_samples=10000, min_samples_leaf=1, min_samples_split=4, n_estimators=50; total time=   0.7s\n",
            "[CV] END max_depth=5, max_features=sqrt, max_samples=10000, min_samples_leaf=1, min_samples_split=4, n_estimators=70; total time=   0.7s\n",
            "[CV] END max_depth=5, max_features=sqrt, max_samples=10000, min_samples_leaf=1, min_samples_split=4, n_estimators=70; total time=   0.8s\n",
            "[CV] END max_depth=5, max_features=sqrt, max_samples=10000, min_samples_leaf=1, min_samples_split=4, n_estimators=70; total time=   0.7s\n",
            "[CV] END max_depth=5, max_features=sqrt, max_samples=10000, min_samples_leaf=1, min_samples_split=4, n_estimators=70; total time=   0.7s\n",
            "[CV] END max_depth=5, max_features=sqrt, max_samples=10000, min_samples_leaf=1, min_samples_split=4, n_estimators=70; total time=   0.8s\n",
            "[CV] END max_depth=None, max_features=1, max_samples=2000, min_samples_leaf=9, min_samples_split=6, n_estimators=70; total time=   0.6s\n",
            "[CV] END max_depth=None, max_features=1, max_samples=2000, min_samples_leaf=9, min_samples_split=6, n_estimators=70; total time=   0.6s\n",
            "[CV] END max_depth=None, max_features=1, max_samples=2000, min_samples_leaf=9, min_samples_split=6, n_estimators=70; total time=   0.6s\n",
            "[CV] END max_depth=None, max_features=1, max_samples=2000, min_samples_leaf=9, min_samples_split=6, n_estimators=70; total time=   0.6s\n",
            "[CV] END max_depth=None, max_features=1, max_samples=2000, min_samples_leaf=9, min_samples_split=6, n_estimators=70; total time=   0.6s\n",
            "[CV] END max_depth=None, max_features=1, max_samples=10000, min_samples_leaf=1, min_samples_split=6, n_estimators=90; total time=   1.2s\n",
            "[CV] END max_depth=None, max_features=1, max_samples=10000, min_samples_leaf=1, min_samples_split=6, n_estimators=90; total time=   1.2s\n",
            "[CV] END max_depth=None, max_features=1, max_samples=10000, min_samples_leaf=1, min_samples_split=6, n_estimators=90; total time=   1.3s\n",
            "[CV] END max_depth=None, max_features=1, max_samples=10000, min_samples_leaf=1, min_samples_split=6, n_estimators=90; total time=   1.2s\n",
            "[CV] END max_depth=None, max_features=1, max_samples=10000, min_samples_leaf=1, min_samples_split=6, n_estimators=90; total time=   1.2s\n",
            "[CV] END max_depth=10, max_features=sqrt, max_samples=5000, min_samples_leaf=7, min_samples_split=2, n_estimators=30; total time=   0.5s\n",
            "[CV] END max_depth=10, max_features=sqrt, max_samples=5000, min_samples_leaf=7, min_samples_split=2, n_estimators=30; total time=   0.5s\n",
            "[CV] END max_depth=10, max_features=sqrt, max_samples=5000, min_samples_leaf=7, min_samples_split=2, n_estimators=30; total time=   0.4s\n",
            "[CV] END max_depth=10, max_features=sqrt, max_samples=5000, min_samples_leaf=7, min_samples_split=2, n_estimators=30; total time=   0.5s\n",
            "[CV] END max_depth=10, max_features=sqrt, max_samples=5000, min_samples_leaf=7, min_samples_split=2, n_estimators=30; total time=   0.4s\n",
            "[CV] END max_depth=5, max_features=1, max_samples=5000, min_samples_leaf=5, min_samples_split=4, n_estimators=80; total time=   0.7s\n",
            "[CV] END max_depth=5, max_features=1, max_samples=5000, min_samples_leaf=5, min_samples_split=4, n_estimators=80; total time=   0.7s\n",
            "[CV] END max_depth=5, max_features=1, max_samples=5000, min_samples_leaf=5, min_samples_split=4, n_estimators=80; total time=   0.7s\n",
            "[CV] END max_depth=5, max_features=1, max_samples=5000, min_samples_leaf=5, min_samples_split=4, n_estimators=80; total time=   0.7s\n",
            "[CV] END max_depth=5, max_features=1, max_samples=5000, min_samples_leaf=5, min_samples_split=4, n_estimators=80; total time=   0.7s\n",
            "[CV] END max_depth=None, max_features=log2, max_samples=2000, min_samples_leaf=3, min_samples_split=4, n_estimators=10; total time=   0.3s\n",
            "[CV] END max_depth=None, max_features=log2, max_samples=2000, min_samples_leaf=3, min_samples_split=4, n_estimators=10; total time=   0.3s\n",
            "[CV] END max_depth=None, max_features=log2, max_samples=2000, min_samples_leaf=3, min_samples_split=4, n_estimators=10; total time=   0.3s\n",
            "[CV] END max_depth=None, max_features=log2, max_samples=2000, min_samples_leaf=3, min_samples_split=4, n_estimators=10; total time=   0.3s\n",
            "[CV] END max_depth=None, max_features=log2, max_samples=2000, min_samples_leaf=3, min_samples_split=4, n_estimators=10; total time=   0.3s\n",
            "[CV] END max_depth=3, max_features=log2, max_samples=5000, min_samples_leaf=7, min_samples_split=8, n_estimators=10; total time=   0.3s\n",
            "[CV] END max_depth=3, max_features=log2, max_samples=5000, min_samples_leaf=7, min_samples_split=8, n_estimators=10; total time=   0.3s\n",
            "[CV] END max_depth=3, max_features=log2, max_samples=5000, min_samples_leaf=7, min_samples_split=8, n_estimators=10; total time=   0.3s\n",
            "[CV] END max_depth=3, max_features=log2, max_samples=5000, min_samples_leaf=7, min_samples_split=8, n_estimators=10; total time=   0.3s\n",
            "[CV] END max_depth=3, max_features=log2, max_samples=5000, min_samples_leaf=7, min_samples_split=8, n_estimators=10; total time=   0.3s\n",
            "[CV] END max_depth=3, max_features=sqrt, max_samples=10000, min_samples_leaf=3, min_samples_split=6, n_estimators=50; total time=   0.6s\n",
            "[CV] END max_depth=3, max_features=sqrt, max_samples=10000, min_samples_leaf=3, min_samples_split=6, n_estimators=50; total time=   0.6s\n",
            "[CV] END max_depth=3, max_features=sqrt, max_samples=10000, min_samples_leaf=3, min_samples_split=6, n_estimators=50; total time=   0.6s\n",
            "[CV] END max_depth=3, max_features=sqrt, max_samples=10000, min_samples_leaf=3, min_samples_split=6, n_estimators=50; total time=   0.6s\n",
            "[CV] END max_depth=3, max_features=sqrt, max_samples=10000, min_samples_leaf=3, min_samples_split=6, n_estimators=50; total time=   0.6s\n",
            "[CV] END max_depth=3, max_features=1, max_samples=5000, min_samples_leaf=7, min_samples_split=4, n_estimators=20; total time=   0.3s\n",
            "[CV] END max_depth=3, max_features=1, max_samples=5000, min_samples_leaf=7, min_samples_split=4, n_estimators=20; total time=   0.3s\n",
            "[CV] END max_depth=3, max_features=1, max_samples=5000, min_samples_leaf=7, min_samples_split=4, n_estimators=20; total time=   0.3s\n",
            "[CV] END max_depth=3, max_features=1, max_samples=5000, min_samples_leaf=7, min_samples_split=4, n_estimators=20; total time=   0.3s\n",
            "[CV] END max_depth=3, max_features=1, max_samples=5000, min_samples_leaf=7, min_samples_split=4, n_estimators=20; total time=   0.3s\n",
            "[CV] END max_depth=None, max_features=1, max_samples=5000, min_samples_leaf=9, min_samples_split=6, n_estimators=30; total time=   0.4s\n",
            "[CV] END max_depth=None, max_features=1, max_samples=5000, min_samples_leaf=9, min_samples_split=6, n_estimators=30; total time=   0.4s\n",
            "[CV] END max_depth=None, max_features=1, max_samples=5000, min_samples_leaf=9, min_samples_split=6, n_estimators=30; total time=   0.4s\n",
            "[CV] END max_depth=None, max_features=1, max_samples=5000, min_samples_leaf=9, min_samples_split=6, n_estimators=30; total time=   0.4s\n",
            "[CV] END max_depth=None, max_features=1, max_samples=5000, min_samples_leaf=9, min_samples_split=6, n_estimators=30; total time=   0.4s\n",
            "[CV] END max_depth=3, max_features=sqrt, max_samples=5000, min_samples_leaf=5, min_samples_split=8, n_estimators=10; total time=   0.3s\n",
            "[CV] END max_depth=3, max_features=sqrt, max_samples=5000, min_samples_leaf=5, min_samples_split=8, n_estimators=10; total time=   0.3s\n",
            "[CV] END max_depth=3, max_features=sqrt, max_samples=5000, min_samples_leaf=5, min_samples_split=8, n_estimators=10; total time=   0.3s\n",
            "[CV] END max_depth=3, max_features=sqrt, max_samples=5000, min_samples_leaf=5, min_samples_split=8, n_estimators=10; total time=   0.3s\n",
            "[CV] END max_depth=3, max_features=sqrt, max_samples=5000, min_samples_leaf=5, min_samples_split=8, n_estimators=10; total time=   0.3s\n",
            "[CV] END max_depth=None, max_features=0.5, max_samples=2000, min_samples_leaf=3, min_samples_split=6, n_estimators=80; total time=   0.8s\n",
            "[CV] END max_depth=None, max_features=0.5, max_samples=2000, min_samples_leaf=3, min_samples_split=6, n_estimators=80; total time=   0.8s\n",
            "[CV] END max_depth=None, max_features=0.5, max_samples=2000, min_samples_leaf=3, min_samples_split=6, n_estimators=80; total time=   0.8s\n",
            "[CV] END max_depth=None, max_features=0.5, max_samples=2000, min_samples_leaf=3, min_samples_split=6, n_estimators=80; total time=   0.8s\n",
            "[CV] END max_depth=None, max_features=0.5, max_samples=2000, min_samples_leaf=3, min_samples_split=6, n_estimators=80; total time=   0.8s\n",
            "[CV] END max_depth=10, max_features=sqrt, max_samples=10000, min_samples_leaf=5, min_samples_split=8, n_estimators=70; total time=   0.9s\n",
            "[CV] END max_depth=10, max_features=sqrt, max_samples=10000, min_samples_leaf=5, min_samples_split=8, n_estimators=70; total time=   0.9s\n",
            "[CV] END max_depth=10, max_features=sqrt, max_samples=10000, min_samples_leaf=5, min_samples_split=8, n_estimators=70; total time=   0.9s\n",
            "[CV] END max_depth=10, max_features=sqrt, max_samples=10000, min_samples_leaf=5, min_samples_split=8, n_estimators=70; total time=   0.9s\n",
            "[CV] END max_depth=10, max_features=sqrt, max_samples=10000, min_samples_leaf=5, min_samples_split=8, n_estimators=70; total time=   0.9s\n",
            "[CV] END max_depth=3, max_features=1, max_samples=5000, min_samples_leaf=7, min_samples_split=6, n_estimators=10; total time=   0.3s\n",
            "[CV] END max_depth=3, max_features=1, max_samples=5000, min_samples_leaf=7, min_samples_split=6, n_estimators=10; total time=   0.3s\n",
            "[CV] END max_depth=3, max_features=1, max_samples=5000, min_samples_leaf=7, min_samples_split=6, n_estimators=10; total time=   0.3s\n",
            "[CV] END max_depth=3, max_features=1, max_samples=5000, min_samples_leaf=7, min_samples_split=6, n_estimators=10; total time=   0.3s\n",
            "[CV] END max_depth=3, max_features=1, max_samples=5000, min_samples_leaf=7, min_samples_split=6, n_estimators=10; total time=   0.3s\n",
            "[CV] END max_depth=3, max_features=sqrt, max_samples=10000, min_samples_leaf=5, min_samples_split=6, n_estimators=10; total time=   0.3s\n",
            "[CV] END max_depth=3, max_features=sqrt, max_samples=10000, min_samples_leaf=5, min_samples_split=6, n_estimators=10; total time=   0.3s\n",
            "[CV] END max_depth=3, max_features=sqrt, max_samples=10000, min_samples_leaf=5, min_samples_split=6, n_estimators=10; total time=   0.3s\n",
            "[CV] END max_depth=3, max_features=sqrt, max_samples=10000, min_samples_leaf=5, min_samples_split=6, n_estimators=10; total time=   0.3s\n",
            "[CV] END max_depth=3, max_features=sqrt, max_samples=10000, min_samples_leaf=5, min_samples_split=6, n_estimators=10; total time=   0.3s\n",
            "[CV] END max_depth=3, max_features=sqrt, max_samples=10000, min_samples_leaf=3, min_samples_split=4, n_estimators=30; total time=   0.4s\n",
            "[CV] END max_depth=3, max_features=sqrt, max_samples=10000, min_samples_leaf=3, min_samples_split=4, n_estimators=30; total time=   0.4s\n",
            "[CV] END max_depth=3, max_features=sqrt, max_samples=10000, min_samples_leaf=3, min_samples_split=4, n_estimators=30; total time=   0.4s\n",
            "[CV] END max_depth=3, max_features=sqrt, max_samples=10000, min_samples_leaf=3, min_samples_split=4, n_estimators=30; total time=   0.4s\n",
            "[CV] END max_depth=3, max_features=sqrt, max_samples=10000, min_samples_leaf=3, min_samples_split=4, n_estimators=30; total time=   0.4s\n",
            "[CV] END max_depth=5, max_features=log2, max_samples=5000, min_samples_leaf=1, min_samples_split=2, n_estimators=10; total time=   0.3s\n",
            "[CV] END max_depth=5, max_features=log2, max_samples=5000, min_samples_leaf=1, min_samples_split=2, n_estimators=10; total time=   0.3s\n",
            "[CV] END max_depth=5, max_features=log2, max_samples=5000, min_samples_leaf=1, min_samples_split=2, n_estimators=10; total time=   0.3s\n",
            "[CV] END max_depth=5, max_features=log2, max_samples=5000, min_samples_leaf=1, min_samples_split=2, n_estimators=10; total time=   0.3s\n",
            "[CV] END max_depth=5, max_features=log2, max_samples=5000, min_samples_leaf=1, min_samples_split=2, n_estimators=10; total time=   0.3s\n",
            "[CV] END max_depth=5, max_features=1, max_samples=2000, min_samples_leaf=7, min_samples_split=8, n_estimators=50; total time=   0.5s\n",
            "[CV] END max_depth=5, max_features=1, max_samples=2000, min_samples_leaf=7, min_samples_split=8, n_estimators=50; total time=   0.5s\n",
            "[CV] END max_depth=5, max_features=1, max_samples=2000, min_samples_leaf=7, min_samples_split=8, n_estimators=50; total time=   0.5s\n",
            "[CV] END max_depth=5, max_features=1, max_samples=2000, min_samples_leaf=7, min_samples_split=8, n_estimators=50; total time=   0.5s\n",
            "[CV] END max_depth=5, max_features=1, max_samples=2000, min_samples_leaf=7, min_samples_split=8, n_estimators=50; total time=   0.5s\n",
            "[CV] END max_depth=None, max_features=log2, max_samples=5000, min_samples_leaf=3, min_samples_split=8, n_estimators=30; total time=   0.5s\n",
            "[CV] END max_depth=None, max_features=log2, max_samples=5000, min_samples_leaf=3, min_samples_split=8, n_estimators=30; total time=   0.5s\n",
            "[CV] END max_depth=None, max_features=log2, max_samples=5000, min_samples_leaf=3, min_samples_split=8, n_estimators=30; total time=   0.5s\n",
            "[CV] END max_depth=None, max_features=log2, max_samples=5000, min_samples_leaf=3, min_samples_split=8, n_estimators=30; total time=   0.5s\n",
            "[CV] END max_depth=None, max_features=log2, max_samples=5000, min_samples_leaf=3, min_samples_split=8, n_estimators=30; total time=   0.5s\n",
            "[CV] END max_depth=10, max_features=1, max_samples=10000, min_samples_leaf=3, min_samples_split=6, n_estimators=90; total time=   0.9s\n",
            "[CV] END max_depth=10, max_features=1, max_samples=10000, min_samples_leaf=3, min_samples_split=6, n_estimators=90; total time=   0.9s\n",
            "[CV] END max_depth=10, max_features=1, max_samples=10000, min_samples_leaf=3, min_samples_split=6, n_estimators=90; total time=   1.0s\n",
            "[CV] END max_depth=10, max_features=1, max_samples=10000, min_samples_leaf=3, min_samples_split=6, n_estimators=90; total time=   1.0s\n",
            "[CV] END max_depth=10, max_features=1, max_samples=10000, min_samples_leaf=3, min_samples_split=6, n_estimators=90; total time=   0.9s\n",
            "[CV] END max_depth=3, max_features=1, max_samples=10000, min_samples_leaf=1, min_samples_split=2, n_estimators=50; total time=   0.5s\n",
            "[CV] END max_depth=3, max_features=1, max_samples=10000, min_samples_leaf=1, min_samples_split=2, n_estimators=50; total time=   0.5s\n",
            "[CV] END max_depth=3, max_features=1, max_samples=10000, min_samples_leaf=1, min_samples_split=2, n_estimators=50; total time=   0.5s\n",
            "[CV] END max_depth=3, max_features=1, max_samples=10000, min_samples_leaf=1, min_samples_split=2, n_estimators=50; total time=   0.5s\n",
            "[CV] END max_depth=3, max_features=1, max_samples=10000, min_samples_leaf=1, min_samples_split=2, n_estimators=50; total time=   0.5s\n",
            "[CV] END max_depth=None, max_features=1, max_samples=5000, min_samples_leaf=5, min_samples_split=2, n_estimators=60; total time=   0.6s\n",
            "[CV] END max_depth=None, max_features=1, max_samples=5000, min_samples_leaf=5, min_samples_split=2, n_estimators=60; total time=   0.6s\n",
            "[CV] END max_depth=None, max_features=1, max_samples=5000, min_samples_leaf=5, min_samples_split=2, n_estimators=60; total time=   0.6s\n",
            "[CV] END max_depth=None, max_features=1, max_samples=5000, min_samples_leaf=5, min_samples_split=2, n_estimators=60; total time=   0.6s\n",
            "[CV] END max_depth=None, max_features=1, max_samples=5000, min_samples_leaf=5, min_samples_split=2, n_estimators=60; total time=   0.6s\n",
            "[CV] END max_depth=5, max_features=sqrt, max_samples=5000, min_samples_leaf=5, min_samples_split=6, n_estimators=30; total time=   0.4s\n",
            "[CV] END max_depth=5, max_features=sqrt, max_samples=5000, min_samples_leaf=5, min_samples_split=6, n_estimators=30; total time=   0.4s\n",
            "[CV] END max_depth=5, max_features=sqrt, max_samples=5000, min_samples_leaf=5, min_samples_split=6, n_estimators=30; total time=   0.4s\n",
            "[CV] END max_depth=5, max_features=sqrt, max_samples=5000, min_samples_leaf=5, min_samples_split=6, n_estimators=30; total time=   0.4s\n",
            "[CV] END max_depth=5, max_features=sqrt, max_samples=5000, min_samples_leaf=5, min_samples_split=6, n_estimators=30; total time=   0.4s\n",
            "[CV] END max_depth=5, max_features=1, max_samples=2000, min_samples_leaf=1, min_samples_split=4, n_estimators=50; total time=   0.5s\n",
            "[CV] END max_depth=5, max_features=1, max_samples=2000, min_samples_leaf=1, min_samples_split=4, n_estimators=50; total time=   0.5s\n",
            "[CV] END max_depth=5, max_features=1, max_samples=2000, min_samples_leaf=1, min_samples_split=4, n_estimators=50; total time=   0.5s\n",
            "[CV] END max_depth=5, max_features=1, max_samples=2000, min_samples_leaf=1, min_samples_split=4, n_estimators=50; total time=   0.5s\n",
            "[CV] END max_depth=5, max_features=1, max_samples=2000, min_samples_leaf=1, min_samples_split=4, n_estimators=50; total time=   0.5s\n",
            "[CV] END max_depth=10, max_features=1, max_samples=2000, min_samples_leaf=5, min_samples_split=8, n_estimators=40; total time=   0.5s\n",
            "[CV] END max_depth=10, max_features=1, max_samples=2000, min_samples_leaf=5, min_samples_split=8, n_estimators=40; total time=   0.5s\n",
            "[CV] END max_depth=10, max_features=1, max_samples=2000, min_samples_leaf=5, min_samples_split=8, n_estimators=40; total time=   0.5s\n",
            "[CV] END max_depth=10, max_features=1, max_samples=2000, min_samples_leaf=5, min_samples_split=8, n_estimators=40; total time=   0.5s\n",
            "[CV] END max_depth=10, max_features=1, max_samples=2000, min_samples_leaf=5, min_samples_split=8, n_estimators=40; total time=   0.5s\n",
            "[CV] END max_depth=5, max_features=log2, max_samples=10000, min_samples_leaf=5, min_samples_split=8, n_estimators=20; total time=   0.4s\n",
            "[CV] END max_depth=5, max_features=log2, max_samples=10000, min_samples_leaf=5, min_samples_split=8, n_estimators=20; total time=   0.4s\n",
            "[CV] END max_depth=5, max_features=log2, max_samples=10000, min_samples_leaf=5, min_samples_split=8, n_estimators=20; total time=   0.4s\n",
            "[CV] END max_depth=5, max_features=log2, max_samples=10000, min_samples_leaf=5, min_samples_split=8, n_estimators=20; total time=   0.4s\n",
            "[CV] END max_depth=5, max_features=log2, max_samples=10000, min_samples_leaf=5, min_samples_split=8, n_estimators=20; total time=   0.4s\n",
            "[CV] END max_depth=3, max_features=0.5, max_samples=5000, min_samples_leaf=3, min_samples_split=8, n_estimators=30; total time=   0.4s\n",
            "[CV] END max_depth=3, max_features=0.5, max_samples=5000, min_samples_leaf=3, min_samples_split=8, n_estimators=30; total time=   0.4s\n",
            "[CV] END max_depth=3, max_features=0.5, max_samples=5000, min_samples_leaf=3, min_samples_split=8, n_estimators=30; total time=   0.4s\n",
            "[CV] END max_depth=3, max_features=0.5, max_samples=5000, min_samples_leaf=3, min_samples_split=8, n_estimators=30; total time=   0.4s\n",
            "[CV] END max_depth=3, max_features=0.5, max_samples=5000, min_samples_leaf=3, min_samples_split=8, n_estimators=30; total time=   0.5s\n",
            "[CV] END max_depth=None, max_features=log2, max_samples=10000, min_samples_leaf=9, min_samples_split=4, n_estimators=40; total time=   0.6s\n",
            "[CV] END max_depth=None, max_features=log2, max_samples=10000, min_samples_leaf=9, min_samples_split=4, n_estimators=40; total time=   0.6s\n",
            "[CV] END max_depth=None, max_features=log2, max_samples=10000, min_samples_leaf=9, min_samples_split=4, n_estimators=40; total time=   0.6s\n",
            "[CV] END max_depth=None, max_features=log2, max_samples=10000, min_samples_leaf=9, min_samples_split=4, n_estimators=40; total time=   0.6s\n",
            "[CV] END max_depth=None, max_features=log2, max_samples=10000, min_samples_leaf=9, min_samples_split=4, n_estimators=40; total time=   0.6s\n",
            "[CV] END max_depth=3, max_features=log2, max_samples=2000, min_samples_leaf=5, min_samples_split=8, n_estimators=60; total time=   0.5s\n",
            "[CV] END max_depth=3, max_features=log2, max_samples=2000, min_samples_leaf=5, min_samples_split=8, n_estimators=60; total time=   0.5s\n",
            "[CV] END max_depth=3, max_features=log2, max_samples=2000, min_samples_leaf=5, min_samples_split=8, n_estimators=60; total time=   0.5s\n",
            "[CV] END max_depth=3, max_features=log2, max_samples=2000, min_samples_leaf=5, min_samples_split=8, n_estimators=60; total time=   0.5s\n",
            "[CV] END max_depth=3, max_features=log2, max_samples=2000, min_samples_leaf=5, min_samples_split=8, n_estimators=60; total time=   0.5s\n",
            "[CV] END max_depth=10, max_features=0.5, max_samples=5000, min_samples_leaf=1, min_samples_split=6, n_estimators=50; total time=   0.7s\n",
            "[CV] END max_depth=10, max_features=0.5, max_samples=5000, min_samples_leaf=1, min_samples_split=6, n_estimators=50; total time=   0.7s\n",
            "[CV] END max_depth=10, max_features=0.5, max_samples=5000, min_samples_leaf=1, min_samples_split=6, n_estimators=50; total time=   0.7s\n",
            "[CV] END max_depth=10, max_features=0.5, max_samples=5000, min_samples_leaf=1, min_samples_split=6, n_estimators=50; total time=   0.7s\n",
            "[CV] END max_depth=10, max_features=0.5, max_samples=5000, min_samples_leaf=1, min_samples_split=6, n_estimators=50; total time=   0.7s\n",
            "[CV] END max_depth=5, max_features=1, max_samples=10000, min_samples_leaf=7, min_samples_split=8, n_estimators=80; total time=   0.7s\n",
            "[CV] END max_depth=5, max_features=1, max_samples=10000, min_samples_leaf=7, min_samples_split=8, n_estimators=80; total time=   0.7s\n",
            "[CV] END max_depth=5, max_features=1, max_samples=10000, min_samples_leaf=7, min_samples_split=8, n_estimators=80; total time=   0.7s\n",
            "[CV] END max_depth=5, max_features=1, max_samples=10000, min_samples_leaf=7, min_samples_split=8, n_estimators=80; total time=   0.7s\n",
            "[CV] END max_depth=5, max_features=1, max_samples=10000, min_samples_leaf=7, min_samples_split=8, n_estimators=80; total time=   0.7s\n",
            "[CV] END max_depth=10, max_features=1, max_samples=5000, min_samples_leaf=7, min_samples_split=8, n_estimators=70; total time=   0.7s\n",
            "[CV] END max_depth=10, max_features=1, max_samples=5000, min_samples_leaf=7, min_samples_split=8, n_estimators=70; total time=   0.6s\n",
            "[CV] END max_depth=10, max_features=1, max_samples=5000, min_samples_leaf=7, min_samples_split=8, n_estimators=70; total time=   0.7s\n",
            "[CV] END max_depth=10, max_features=1, max_samples=5000, min_samples_leaf=7, min_samples_split=8, n_estimators=70; total time=   0.6s\n",
            "[CV] END max_depth=10, max_features=1, max_samples=5000, min_samples_leaf=7, min_samples_split=8, n_estimators=70; total time=   0.6s\n",
            "CPU times: user 47.7 s, sys: 3.37 s, total: 51.1 s\n",
            "Wall time: 2min 16s\n"
          ]
        },
        {
          "data": {
            "text/plain": [
              "RandomizedSearchCV(cv=5,\n",
              "                   estimator=RandomForestClassifier(n_jobs=-1, random_state=42),\n",
              "                   n_iter=50,\n",
              "                   param_distributions={'max_depth': [None, 3, 5, 10],\n",
              "                                        'max_features': [0.5, 1, 'sqrt',\n",
              "                                                         'log2'],\n",
              "                                        'max_samples': [2000, 5000, 10000],\n",
              "                                        'min_samples_leaf': array([1, 3, 5, 7, 9]),\n",
              "                                        'min_samples_split': array([2, 4, 6, 8]),\n",
              "                                        'n_estimators': array([10, 20, 30, 40, 50, 60, 70, 80, 90])},\n",
              "                   verbose=2)"
            ]
          },
          "execution_count": 91,
          "metadata": {},
          "output_type": "execute_result"
        }
      ],
      "source": [
        "%%time\n",
        "from sklearn.model_selection import RandomizedSearchCV\n",
        "from sklearn.ensemble import RandomForestClassifier\n",
        "\n",
        "#Different HyperParameters\n",
        "rf_grid = {\"n_estimators\": np.arange(10,100,10),\n",
        "          \"max_depth\": [None,3,5,10],\n",
        "          \"min_samples_split\":np.arange(2,10,2),\n",
        "          \"min_samples_leaf\":np.arange(1,10,2),\n",
        "          \"max_features\":[0.5,1,\"sqrt\",'log2'],\n",
        "          \"max_samples\":[2000,5000,10000]}\n",
        "\n",
        "#Instatantiate Randomised Search CV\n",
        "rs_model = RandomizedSearchCV(RandomForestClassifier(n_jobs=-1,random_state=42),\n",
        "                             param_distributions=rf_grid,\n",
        "                             n_iter=50,\n",
        "                             cv=5,\n",
        "                             verbose=2)\n",
        "rs_model.fit(X_train_ct,Y_train)"
      ]
    },
    {
      "cell_type": "code",
      "execution_count": null,
      "metadata": {
        "colab": {
          "base_uri": "https://localhost:8080/"
        },
        "id": "Xu8ROahoGlJe",
        "outputId": "7a3e0b3f-956d-4998-c09b-702d3d840ef2"
      },
      "outputs": [
        {
          "data": {
            "text/plain": [
              "{'n_estimators': 80,\n",
              " 'min_samples_split': 6,\n",
              " 'min_samples_leaf': 3,\n",
              " 'max_samples': 2000,\n",
              " 'max_features': 0.5,\n",
              " 'max_depth': None}"
            ]
          },
          "execution_count": 92,
          "metadata": {},
          "output_type": "execute_result"
        }
      ],
      "source": [
        "rs_model.best_params_"
      ]
    },
    {
      "cell_type": "code",
      "execution_count": null,
      "metadata": {
        "id": "n0EJLz1NV0Yf"
      },
      "outputs": [],
      "source": [
        "rs = RandomForestClassifier(n_jobs=-1,random_state=42,n_estimators= 70,\n",
        " min_samples_split= 6,\n",
        " min_samples_leaf= 9,\n",
        " max_samples= 10000,\n",
        " max_features= 0.5,\n",
        " max_depth= None)"
      ]
    },
    {
      "cell_type": "code",
      "execution_count": null,
      "metadata": {
        "colab": {
          "base_uri": "https://localhost:8080/"
        },
        "id": "XY3EsD27WKZP",
        "outputId": "89edc4ca-688b-4a4a-a027-38f7e94ded7c"
      },
      "outputs": [
        {
          "data": {
            "text/plain": [
              "RandomForestClassifier(max_features=0.5, max_samples=10000, min_samples_leaf=9,\n",
              "                       min_samples_split=6, n_estimators=70, n_jobs=-1,\n",
              "                       random_state=42)"
            ]
          },
          "execution_count": 94,
          "metadata": {},
          "output_type": "execute_result"
        }
      ],
      "source": [
        "rs.fit(X_train_ct,Y_train)"
      ]
    },
    {
      "cell_type": "code",
      "execution_count": null,
      "metadata": {
        "id": "ykX2Q44TWN-a"
      },
      "outputs": [],
      "source": [
        "Y_preds_rs = rs.predict(X_test_ct)"
      ]
    },
    {
      "cell_type": "code",
      "execution_count": null,
      "metadata": {
        "colab": {
          "base_uri": "https://localhost:8080/"
        },
        "id": "H_FfctBwWbfT",
        "outputId": "6688982a-53e2-4f77-e110-b6f22c1684d1"
      },
      "outputs": [
        {
          "data": {
            "text/plain": [
              "0.7487092439352147"
            ]
          },
          "execution_count": 96,
          "metadata": {},
          "output_type": "execute_result"
        }
      ],
      "source": [
        "accuracy_score(y_test,Y_preds_rs)"
      ]
    },
    {
      "cell_type": "code",
      "execution_count": null,
      "metadata": {
        "colab": {
          "base_uri": "https://localhost:8080/"
        },
        "id": "onPMzqz2WiCx",
        "outputId": "efecbcce-1ca8-4a13-b22c-b14368a11f6b"
      },
      "outputs": [
        {
          "data": {
            "text/plain": [
              "array([[1886, 5184],\n",
              "       [  86, 6983]])"
            ]
          },
          "execution_count": 97,
          "metadata": {},
          "output_type": "execute_result"
        }
      ],
      "source": [
        "confusion_matrix(y_test,Y_preds)"
      ]
    },
    {
      "cell_type": "code",
      "execution_count": null,
      "metadata": {
        "id": "_Dqkf_VVJe8V"
      },
      "outputs": [],
      "source": [
        "from sklearn.metrics import classification_report"
      ]
    },
    {
      "cell_type": "code",
      "execution_count": null,
      "metadata": {
        "colab": {
          "base_uri": "https://localhost:8080/"
        },
        "id": "fQh-m6R4JpFh",
        "outputId": "698d6f3a-c2b8-417c-fd25-f477d459d98c"
      },
      "outputs": [
        {
          "name": "stdout",
          "output_type": "stream",
          "text": [
            "              precision    recall  f1-score   support\n",
            "\n",
            "         0.0       0.75      0.70      0.72      7070\n",
            "         1.0       0.72      0.76      0.74      7069\n",
            "\n",
            "    accuracy                           0.73     14139\n",
            "   macro avg       0.73      0.73      0.73     14139\n",
            "weighted avg       0.73      0.73      0.73     14139\n",
            "\n"
          ]
        }
      ],
      "source": [
        "print(classification_report(y_test,y_preds1))"
      ]
    },
    {
      "cell_type": "markdown",
      "metadata": {
        "id": "kV5uVHfcE4Jw"
      },
      "source": [
        "# Svaing The Model"
      ]
    },
    {
      "cell_type": "code",
      "execution_count": null,
      "metadata": {
        "id": "oohScoryWuHr"
      },
      "outputs": [],
      "source": [
        "#HDF5 format\n",
        "model_2.save(\"Diabetes_model_Binary_hdf5.h5\")"
      ]
    },
    {
      "cell_type": "code",
      "execution_count": null,
      "metadata": {
        "id": "4RB_JoyLGy7E"
      },
      "outputs": [],
      "source": []
    }
  ],
  "metadata": {
    "colab": {
      "collapsed_sections": [],
      "provenance": []
    },
    "gpuClass": "standard",
    "kernelspec": {
      "display_name": "Python 3",
      "name": "python3"
    },
    "language_info": {
      "name": "python"
    }
  },
  "nbformat": 4,
  "nbformat_minor": 0
}